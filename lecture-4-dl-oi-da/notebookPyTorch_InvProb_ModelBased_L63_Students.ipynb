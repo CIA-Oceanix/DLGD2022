{
  "nbformat": 4,
  "nbformat_minor": 0,
  "metadata": {
    "colab": {
      "name": "notebookPyTorch_InvProb_ModelBased_L63_Students.ipynb",
      "provenance": [],
      "collapsed_sections": [
        "3xBXaOz7_gfA"
      ],
      "toc_visible": true,
      "authorship_tag": "ABX9TyMSquAn43+Lf6Zy1eZ15D2P",
      "include_colab_link": true
    },
    "kernelspec": {
      "name": "python3",
      "display_name": "Python 3"
    },
    "accelerator": "GPU"
  },
  "cells": [
    {
      "cell_type": "markdown",
      "metadata": {
        "id": "view-in-github",
        "colab_type": "text"
      },
      "source": [
        "<a href=\"https://colab.research.google.com/github/CIA-Oceanix/DLGD2021/blob/main/lecture-5-inverse-problems/notebookPyTorch_InvProb_ModelBased_L63_Students.ipynb\" target=\"_parent\"><img src=\"https://colab.research.google.com/assets/colab-badge.svg\" alt=\"Open In Colab\"/></a>"
      ]
    },
    {
      "cell_type": "markdown",
      "metadata": {
        "id": "uwQipky_cRbQ"
      },
      "source": [
        "**Notebook for the implementation of model-based inversion scheme**: Application to the Data Assimilation of Lorenz-63 dynamics given noisy and partial observations.\n",
        "\n",
        "We consider model-based formulation based on the following variational minimization\n",
        "$$\\arg \\min_x \\| x - y\\|^2_\\Omega + \\lambda \\|x-\\Phi(x)\\|^2 $$\n",
        "\n",
        "The notebook addresses two approaches which differ in the considered prior $\\Phi$\n",
        "*   *Weak-Constrained 4DVar formulation* with the true ODE-based prior: Pytorch implementation of the gradient descent. You need to code the computation of the gradient of tha variational cost using automatic differentiation tool.\n",
        "*   *Exploration of a pretrained plug-and-play prior*: Pytorch gradient descent with a PCA-based prior. You need to compute the loss for such a PCA-based prior. \n",
        "\n",
        "*Possible extensions*: (i) evaluation of the reconstruction performance depending on the considered observation setting (i.e., sampling and noise), (ii) intercomparison of different types of plug-and-play"
      ]
    },
    {
      "cell_type": "code",
      "metadata": {
        "id": "jEDUuvB92-Sr"
      },
      "source": [
        "import numpy as np\n",
        "import matplotlib.pyplot as plt \n",
        "import os\n",
        "import tensorflow.keras as keras\n",
        "\n",
        "import time\n",
        "import copy\n",
        "import torch\n",
        "import torch.optim as optim\n",
        "from torch.optim import lr_scheduler\n",
        "import torch.nn.functional as F\n",
        "\n",
        "from sklearn import decomposition\n",
        "from sklearn.feature_extraction import image\n"
      ],
      "execution_count": null,
      "outputs": []
    },
    {
      "cell_type": "markdown",
      "metadata": {
        "id": "h1FjHV_K3W9s"
      },
      "source": [
        "# L63 Data simulation"
      ]
    },
    {
      "cell_type": "code",
      "metadata": {
        "id": "SHqmY7kiqlqh",
        "colab": {
          "base_uri": "https://localhost:8080/",
          "height": 283
        },
        "outputId": "7eeab247-318d-4d3f-d76e-e760d0910ce6"
      },
      "source": [
        "#os.chdir('/content/drive/My Drive/Colab Notebooks/AnDA')\n",
        "from scipy.integrate import odeint\n",
        "from scipy.integrate import solve_ivp\n",
        "#from AnDA_codes.AnDA_dynamical_models import AnDA_Lorenz_63, AnDA_Lorenz_96\n",
        "\n",
        "def AnDA_Lorenz_63(S,t,sigma,rho,beta):\n",
        "    \"\"\" Lorenz-63 dynamical model. \"\"\"\n",
        "    x_1 = sigma*(S[1]-S[0]);\n",
        "    x_2 = S[0]*(rho-S[2])-S[1];\n",
        "    x_3 = S[0]*S[1] - beta*S[2];\n",
        "    dS  = np.array([x_1,x_2,x_3]);\n",
        "    return dS\n",
        "\n",
        "class GD:\n",
        "    model = 'Lorenz_63'\n",
        "    class parameters:\n",
        "        sigma = 10.0\n",
        "        rho = 28.0\n",
        "        beta = 8.0/3\n",
        "    dt_integration = 0.01 # integration time\n",
        "    dt_states = 1 # number of integeration times between consecutive states (for xt and catalog)\n",
        "    dt_obs = 8 # number of integration times between consecutive observations (for yo)\n",
        "    var_obs = np.array([0,1,2]) # indices of the observed variables\n",
        "    nb_loop_train = 10**2 # size of the catalog\n",
        "    nb_loop_test = 10000 # size of the true state and noisy observations\n",
        "    sigma2_catalog = 0.0 # variance of the model error to generate the catalog\n",
        "    sigma2_obs = 2.0 # variance of the observation error to generate observation\n",
        "\n",
        "GD = GD()    \n",
        "y0 = np.array([8.0,0.0,30.0])\n",
        "tt = np.arange(GD.dt_integration,GD.nb_loop_test*GD.dt_integration+0.000001,GD.dt_integration)\n",
        "#S = odeint(AnDA_Lorenz_63,x0,np.arange(0,5+0.000001,GD.dt_integration),args=(GD.parameters.sigma,GD.parameters.rho,GD.parameters.beta));\n",
        "S = solve_ivp(fun=lambda t,y: AnDA_Lorenz_63(y,t,GD.parameters.sigma,GD.parameters.rho,GD.parameters.beta),t_span=[0.,5+0.000001],y0=y0,first_step=GD.dt_integration,t_eval=np.arange(0,5+0.000001,GD.dt_integration),method='RK45')\n",
        "\n",
        "y0 = S.y[:,-1];\n",
        "S = solve_ivp(fun=lambda t,y: AnDA_Lorenz_63(y,t,GD.parameters.sigma,GD.parameters.rho,GD.parameters.beta),t_span=[0.01,GD.nb_loop_test+0.000001],y0=y0,first_step=GD.dt_integration,t_eval=tt,method='RK45')\n",
        "S = S.y.transpose()\n",
        "\n",
        "print(S.shape)\n",
        "plt.figure(1)\n",
        "for jj in range(0,3):\n",
        "  plt.subplot(131+jj)\n",
        "  plt.plot(S[:,jj])\n",
        "  \n",
        "class time_series:\n",
        "  values = 0.\n",
        "  time   = 0.\n",
        "  \n",
        "xt = time_series()\n",
        "xt.values = S\n",
        "xt.time   = tt"
      ],
      "execution_count": null,
      "outputs": [
        {
          "output_type": "stream",
          "name": "stdout",
          "text": [
            "(10000, 3)\n"
          ]
        },
        {
          "output_type": "display_data",
          "data": {
            "image/png": "[encoded data removed]",
            "text/plain": [
              "<Figure size 432x288 with 3 Axes>"
            ]
          },
          "metadata": {
            "needs_background": "light"
          }
        }
      ]
    },
    {
      "cell_type": "code",
      "metadata": {
        "id": "evPeYsgv0GOg",
        "colab": {
          "base_uri": "https://localhost:8080/"
        },
        "outputId": "c281924f-9b99-4bee-afaa-ad1df204393f"
      },
      "source": [
        "####################################################\n",
        "## Generation of training and test dataset\n",
        "## Extraction of time series of dT time steps            \n",
        "NbTraining = 5000\n",
        "NbTest     = 2000#256\n",
        "time_step = 1\n",
        "dT        = 200\n",
        "sigNoise  = np.sqrt(2.0)\n",
        "rateMissingData = (1-1./8.)#0.75#0.95\n",
        "  \n",
        "xt = time_series()\n",
        "xt.values = S\n",
        "xt.time   = tt\n",
        "# extract subsequences\n",
        "dataTrainingNoNaN = image.extract_patches_2d(xt.values[0:7500:time_step,:],(dT,3),max_patches=NbTraining)\n",
        "dataTestNoNaN     = image.extract_patches_2d(xt.values[8000::time_step,:],(dT,3),max_patches=NbTest)\n",
        "\n",
        "# create missing data\n",
        "flagTypeMissData = 1\n",
        "if flagTypeMissData == 0:\n",
        "    print('..... Observation pattern: Random sampling of osberved L63 components')\n",
        "    indRand         = np.random.permutation(dataTrainingNoNaN.shape[0]*dataTrainingNoNaN.shape[1]*dataTrainingNoNaN.shape[2])\n",
        "    indRand         = indRand[0:int(rateMissingData*len(indRand))]\n",
        "    dataTraining    = np.copy(dataTrainingNoNaN).reshape((dataTrainingNoNaN.shape[0]*dataTrainingNoNaN.shape[1]*dataTrainingNoNaN.shape[2],1))\n",
        "    dataTraining[indRand] = float('nan')\n",
        "    dataTraining    = np.reshape(dataTraining,(dataTrainingNoNaN.shape[0],dataTrainingNoNaN.shape[1],dataTrainingNoNaN.shape[2]))\n",
        "    \n",
        "    indRand         = np.random.permutation(dataTestNoNaN.shape[0]*dataTestNoNaN.shape[1]*dataTestNoNaN.shape[2])\n",
        "    indRand         = indRand[0:int(rateMissingData*len(indRand))]\n",
        "    dataTest        = np.copy(dataTestNoNaN).reshape((dataTestNoNaN.shape[0]*dataTestNoNaN.shape[1]*dataTestNoNaN.shape[2],1))\n",
        "    dataTest[indRand] = float('nan')\n",
        "    dataTest          = np.reshape(dataTest,(dataTestNoNaN.shape[0],dataTestNoNaN.shape[1],dataTestNoNaN.shape[2]))\n",
        "\n",
        "    genSuffixObs    = '_ObsRnd_%02d_%02d'%(100*rateMissingData,10*sigNoise**2)\n",
        "elif flagTypeMissData == 2:\n",
        "    print('..... Observation pattern: Only the first L63 component is osberved')\n",
        "    time_step_obs   = int(1./(1.-rateMissingData))\n",
        "    dataTraining    = np.zeros((dataTrainingNoNaN.shape))\n",
        "    dataTraining[:] = float('nan')\n",
        "    dataTraining[:,::time_step_obs,0] = dataTrainingNoNaN[:,::time_step_obs,0]\n",
        "    \n",
        "    dataTest    = np.zeros((dataTestNoNaN.shape))\n",
        "    dataTest[:] = float('nan')\n",
        "    dataTest[:,::time_step_obs,0] = dataTestNoNaN[:,::time_step_obs,0]\n",
        "\n",
        "    genSuffixObs    = '_ObsDim0_%02d_%02d'%(100*rateMissingData,10*sigNoise**2)\n",
        "   \n",
        "else:\n",
        "    print('..... Observation pattern: All  L63 components osberved')\n",
        "    time_step_obs   = int(1./(1.-rateMissingData))\n",
        "    dataTraining    = np.zeros((dataTrainingNoNaN.shape))\n",
        "    dataTraining[:] = float('nan')\n",
        "    dataTraining[:,::time_step_obs,:] = dataTrainingNoNaN[:,::time_step_obs,:]\n",
        "    \n",
        "    dataTest    = np.zeros((dataTestNoNaN.shape))\n",
        "    dataTest[:] = float('nan')\n",
        "    dataTest[:,::time_step_obs,:] = dataTestNoNaN[:,::time_step_obs,:]\n",
        "\n",
        "    genSuffixObs    = '_ObsSub_%02d_%02d'%(100*rateMissingData,10*sigNoise**2)\n",
        "    \n",
        "# set to NaN patch boundaries\n",
        "dataTraining[:,0:10,:] =  float('nan')\n",
        "dataTest[:,0:10,:]     =  float('nan')\n",
        "dataTraining[:,dT-10:dT,:] =  float('nan')\n",
        "dataTest[:,dT-10:dT,:]     =  float('nan')\n",
        "\n",
        "# mask for NaN\n",
        "maskTraining = (dataTraining == dataTraining).astype('float')\n",
        "maskTest     = ( dataTest    ==  dataTest   ).astype('float')\n",
        "\n",
        "dataTraining = np.nan_to_num(dataTraining)\n",
        "dataTest     = np.nan_to_num(dataTest)\n",
        "\n",
        "# Permutation to have channel as #1 component\n",
        "dataTraining      = np.moveaxis(dataTraining,-1,1)\n",
        "maskTraining      = np.moveaxis(maskTraining,-1,1)\n",
        "dataTrainingNoNaN = np.moveaxis(dataTrainingNoNaN,-1,1)\n",
        "\n",
        "dataTest      = np.moveaxis(dataTest,-1,1)\n",
        "maskTest      = np.moveaxis(maskTest,-1,1)\n",
        "dataTestNoNaN = np.moveaxis(dataTestNoNaN,-1,1)\n",
        "\n",
        "# set to NaN patch boundaries\n",
        "#dataTraining[:,0:5,:] =  dataTrainingNoNaN[:,0:5,:]\n",
        "#dataTest[:,0:5,:]     =  dataTestNoNaN[:,0:5,:]\n",
        "\n",
        "############################################\n",
        "## raw data\n",
        "X_train         = dataTrainingNoNaN\n",
        "X_train_missing = dataTraining\n",
        "mask_train      = maskTraining\n",
        "\n",
        "X_test         = dataTestNoNaN\n",
        "X_test_missing = dataTest\n",
        "mask_test      = maskTest\n",
        "\n",
        "############################################\n",
        "## normalized data\n",
        "meanTr          = np.mean(X_train_missing[:]) / np.mean(mask_train) \n",
        "stdTr           = np.sqrt( np.mean( (X_train_missing-meanTr)**2 ) / np.mean(mask_train) )\n",
        "\n",
        "if flagTypeMissData == 2:\n",
        "    meanTr          = np.mean(X_train[:]) \n",
        "    stdTr           = np.sqrt( np.mean( (X_train-meanTr)**2 ) )\n",
        "\n",
        "x_train_missing = ( X_train_missing - meanTr ) / stdTr\n",
        "x_test_missing  = ( X_test_missing - meanTr ) / stdTr\n",
        "\n",
        "# scale wrt std\n",
        "\n",
        "x_train = (X_train - meanTr) / stdTr\n",
        "x_test  = (X_test - meanTr) / stdTr\n",
        "\n",
        "print('.... MeanTr = %.3f --- StdTr = %.3f '%(meanTr,stdTr))\n",
        "\n",
        "# Generate noisy observsation\n",
        "X_train_obs = X_train_missing + sigNoise * maskTraining * np.random.randn(X_train_missing.shape[0],X_train_missing.shape[1],X_train_missing.shape[2])\n",
        "X_test_obs  = X_test_missing  + sigNoise * maskTest * np.random.randn(X_test_missing.shape[0],X_test_missing.shape[1],X_test_missing.shape[2])\n",
        "\n",
        "x_train_obs = (X_train_obs - meanTr) / stdTr\n",
        "x_test_obs  = (X_test_obs - meanTr) / stdTr\n",
        "\n",
        "print('..... Training dataset: %dx%dx%d'%(x_train.shape[0],x_train.shape[1],x_train.shape[2]))\n",
        "print('..... Test dataset    : %dx%dx%d'%(x_test.shape[0],x_test.shape[1],x_test.shape[2]))\n"
      ],
      "execution_count": null,
      "outputs": [
        {
          "output_type": "stream",
          "name": "stdout",
          "text": [
            "..... Observation pattern: All  L63 components osberved\n",
            ".... MeanTr = 8.450 --- StdTr = 27.654 \n",
            "..... Training dataset: 5000x3x200\n",
            "..... Test dataset    : 1801x3x200\n"
          ]
        }
      ]
    },
    {
      "cell_type": "code",
      "metadata": {
        "id": "pZSjh6fTsHRf",
        "colab": {
          "base_uri": "https://localhost:8080/",
          "height": 268
        },
        "outputId": "6b95eb9d-adeb-4e89-bcb2-9e83f9083834"
      },
      "source": [
        "# Visualisation\n",
        "plt.figure(1)\n",
        "for jj in range(0,3):\n",
        "  indjj = 131+jj\n",
        "  plt.subplot(indjj)\n",
        "  plt.plot(X_train[20,jj,:],'b-')\n",
        "  plt.plot(X_train_obs[20,jj,:],'k.')"
      ],
      "execution_count": null,
      "outputs": [
        {
          "output_type": "display_data",
          "data": {
            "image/png": "[encoded data removed]",
            "text/plain": [
              "<Figure size 432x288 with 3 Axes>"
            ]
          },
          "metadata": {
            "needs_background": "light"
          }
        }
      ]
    },
    {
      "cell_type": "code",
      "metadata": {
        "id": "dvwMvw3XAbcf",
        "colab": {
          "base_uri": "https://localhost:8080/",
          "height": 268
        },
        "outputId": "723a6189-bdd0-409c-b5dd-786551547d90"
      },
      "source": [
        "# Initial interpolation (linear interpolation or zeros) for missing data\n",
        "\n",
        "import scipy\n",
        "\n",
        "mx_train = np.sum( np.sum( X_train , axis = 2 ) , axis = 0 ) / (X_train.shape[0]*X_train.shape[2])\n",
        "\n",
        "flagInit = 1\n",
        "\n",
        "if flagInit == 0: \n",
        "  X_train_Init = mask_train * X_train_obs + (1. - mask_train) * (np.zeros(X_train_missing.shape) + meanTr)\n",
        "  X_test_Init  = mask_test * X_test_obs + (1. - mask_test) * (np.zeros(X_test_missing.shape) + meanTr)\n",
        "else:\n",
        "  X_train_Init = np.zeros(X_train.shape)\n",
        "  for ii in range(0,X_train.shape[0]):\n",
        "    # Initial linear interpolation for each component\n",
        "    XInit = np.zeros((X_train.shape[1],X_train.shape[2]))\n",
        "\n",
        "    for kk in range(0,3):\n",
        "      indt  = np.where( mask_train[ii,kk,:] == 1.0 )[0]\n",
        "      indt_ = np.where( mask_train[ii,kk,:] == 0.0 )[0]\n",
        "\n",
        "      if len(indt) > 1:\n",
        "        indt_[ np.where( indt_ < np.min(indt)) ] = np.min(indt)\n",
        "        indt_[ np.where( indt_ > np.max(indt)) ] = np.max(indt)\n",
        "        fkk = scipy.interpolate.interp1d(indt, X_train_obs[ii,kk,indt])\n",
        "        XInit[kk,indt]  = X_train_obs[ii,kk,indt]\n",
        "        XInit[kk,indt_] = fkk(indt_)\n",
        "      else:\n",
        "        XInit[kk,:] = XInit[kk,:] + mx_train[kk]\n",
        "\n",
        "    X_train_Init[ii,:,:] = XInit\n",
        "\n",
        "  X_test_Init = np.zeros(X_test.shape)\n",
        "  for ii in range(0,X_test.shape[0]):\n",
        "    # Initial linear interpolation for each component\n",
        "    XInit = np.zeros((X_test.shape[1],X_test.shape[2]))\n",
        "\n",
        "    for kk in range(0,3):\n",
        "      indt  = np.where( mask_test[ii,kk,:] == 1.0 )[0]\n",
        "      indt_ = np.where( mask_test[ii,kk,:] == 0.0 )[0]\n",
        "\n",
        "      if len(indt) > 1:\n",
        "        indt_[ np.where( indt_ < np.min(indt)) ] = np.min(indt)\n",
        "        indt_[ np.where( indt_ > np.max(indt)) ] = np.max(indt)\n",
        "        fkk = scipy.interpolate.interp1d(indt, X_test_obs[ii,kk,indt])\n",
        "        XInit[kk,indt]  = X_test_obs[ii,kk,indt]\n",
        "        XInit[kk,indt_] = fkk(indt_)\n",
        "      else:\n",
        "        XInit[kk,:] = XInit[kk,:] + mx_train[kk]\n",
        "\n",
        "    X_test_Init[ii,:,:] = XInit\n",
        "\n",
        "\n",
        "x_train_Init = ( X_train_Init - meanTr ) / stdTr\n",
        "x_test_Init = ( X_test_Init - meanTr ) / stdTr\n",
        "\n",
        "\n",
        "if 1*1:\n",
        "  plt.figure()\n",
        "  plt.subplot(1,2,1)\n",
        "  plt.plot(X_train_Init[20,0,:],'b-')\n",
        "  plt.plot(X_train[20,0,:],'m-')\n",
        "  #plt.plot(XInit[:,0],'r-')\n",
        "  plt.plot(X_train_obs[20,0,:],'k.')\n",
        "  plt.subplot(1,2,2)\n",
        "  plt.plot(X_test_Init[20,0,:],'b-')\n",
        "  plt.plot(X_test[20,0,:],'m-')\n",
        "  #plt.plot(XInit[:,0],'r-')\n",
        "  plt.plot(X_test_obs[20,0,:],'k.')"
      ],
      "execution_count": null,
      "outputs": [
        {
          "output_type": "display_data",
          "data": {
            "image/png": "[encoded data removed]",
            "text/plain": [
              "<Figure size 432x288 with 2 Axes>"
            ]
          },
          "metadata": {
            "needs_background": "light"
          }
        }
      ]
    },
    {
      "cell_type": "markdown",
      "metadata": {
        "id": "vhKugE5VpyZc"
      },
      "source": [
        "# Explicit Euler ODE scheme in Pytorch\n",
        "\n"
      ]
    },
    {
      "cell_type": "code",
      "metadata": {
        "id": "dJEhltDDu1Nm"
      },
      "source": [
        "# define forward model (Euler)\n",
        "class ODE_L63(torch.nn.Module):\n",
        "    def __init__(self,sigma,rho,beta):\n",
        "        super(ODE_L63, self).__init__()\n",
        "        self.sigma = sigma\n",
        "        self.rho   = rho\n",
        "        self.beta  = beta\n",
        "\n",
        "    def forward(self, x):\n",
        "      x_1 = (self.sigma*(x[:,1]-x[:,0])).view(-1,1)\n",
        "      x_2 = (x[:,0]*(self.rho-x[:,2])-x[:,1]).view(-1,1)\n",
        "      x_3 = (x[:,0]*x[:,1] - self.beta*x[:,2]).view(-1,1)\n",
        "\n",
        "      return torch.cat((x_1,x_2,x_3),dim=1)"
      ],
      "execution_count": null,
      "outputs": []
    },
    {
      "cell_type": "code",
      "metadata": {
        "id": "HhBYtJChPg5s"
      },
      "source": [
        "ii = 100\n",
        "\n",
        "# create torch tensors for observations and hidden states\n",
        "XGT_torch  = torch.Tensor( X_train[ii,:,:].squeeze().transpose() )\n",
        "YObs_torch = torch.Tensor( X_train_obs[ii,:,:].squeeze().transpose() )\n",
        "M_torch    = torch.Tensor( mask_train[ii,:,:].squeeze().transpose() )\n",
        "\n",
        "# Initialisation\n",
        "X_torch    = torch.Tensor( X_train_Init[ii,:,:].squeeze().transpose() )"
      ],
      "execution_count": null,
      "outputs": []
    },
    {
      "cell_type": "code",
      "metadata": {
        "id": "5bAbiiAuymNl",
        "colab": {
          "base_uri": "https://localhost:8080/",
          "height": 284
        },
        "outputId": "67e209f2-22cf-486d-a972-dda01ce3f07c"
      },
      "source": [
        "# check model simulation through an Euler integration scheme\n",
        "ode_L63 = ODE_L63(10.,28.,8./3)\n",
        "\n",
        "x0 = XGT_torch[0,:]\n",
        "dt = 0.01\n",
        "\n",
        "Xsim = []\n",
        "for nn in range(0,100):\n",
        "  if nn == 0:\n",
        "    xt = x0\n",
        "  xnew = xt + dt * ode_L63(xt.view(-1,3))\n",
        "  if nn == 0:\n",
        "    Xsim = xnew\n",
        "  else:\n",
        "    Xsim = torch.cat((Xsim,xnew),axis=0)\n",
        "    xt   = xnew\n",
        "\n",
        "plt.figure()\n",
        "plt.plot(Xsim.cpu().detach().numpy()[:,1],'r-')\n",
        "plt.plot(XGT_torch.cpu().detach().numpy()[0:100,1],'b-')"
      ],
      "execution_count": null,
      "outputs": [
        {
          "output_type": "execute_result",
          "data": {
            "text/plain": [
              "[<matplotlib.lines.Line2D at 0x7f08aca54890>]"
            ]
          },
          "metadata": {},
          "execution_count": 11
        },
        {
          "output_type": "display_data",
          "data": {
            "image/png": "[encoded data removed]",
            "text/plain": [
              "<Figure size 432x288 with 1 Axes>"
            ]
          },
          "metadata": {
            "needs_background": "light"
          }
        }
      ]
    },
    {
      "cell_type": "markdown",
      "metadata": {
        "id": "8y3Ajptyk0rT"
      },
      "source": [
        "# (Weak-constrained) 4DVar DA  Pytorch \n",
        "\n",
        "Gradient descent for variational cost:\n",
        "$$\\arg \\min_x U_\\Phi(x,y,\\Omega) \\mbox{. with  } \\| x - y\\|^2_\\Omega + \\lambda \\|x-\\Phi(x)\\|^2 $$\n",
        "using a fixed-step gradient algorithm such that $$x^{(k+1)} = x^k - \\alpha \\nabla U_\\Phi(x,y,\\Omega)$$  "
      ]
    },
    {
      "cell_type": "code",
      "metadata": {
        "id": "yXaEHBbg0lUb",
        "colab": {
          "base_uri": "https://localhost:8080/"
        },
        "outputId": "8c2bc4ec-748b-4056-b0d8-1333506469fd"
      },
      "source": [
        "# 4DVAR assimilation\n",
        "device  = torch.device(\"cuda\" if torch.cuda.is_available() else \"cpu\")\n",
        "\n",
        "# assignment to GPU\n",
        "ode_L63 = ODE_L63(10.,28.,8./3)\n",
        "ode_L63 = ode_L63.to(device)\n",
        "\n",
        "# assimilation loop\n",
        "t0    = 0\n",
        "dt    = 0.01\n",
        "dT    = X_torch.size(0)\n",
        "NIter = 20000\n",
        "alpha = 0.99\n",
        "delta = 0.2\n",
        "\n",
        "X_torch = torch.autograd.Variable(X_torch, requires_grad=True)\n",
        "\n",
        "for iter in range(0,NIter):\n",
        "\n",
        "  # compute losses\n",
        "  with torch.set_grad_enabled(True): \n",
        "    # dynamical loss\n",
        "    x_pred   = X_torch[t0:t0+dT-1,:] + dt * ode_L63(X_torch[t0:t0+dT-1,:])\n",
        "    loss_dyn = torch.sum((X_torch[t0+1:t0+dT,:] - x_pred)**2 )\n",
        "\n",
        "    # observation loss\n",
        "    loss_obs = torch.sum((X_torch - YObs_torch)**2 * M_torch )\n",
        "\n",
        "    # overall loss\n",
        "    loss = (1.-alpha) * loss_obs + alpha * loss_dyn \n",
        "  \n",
        "    ######################################################\n",
        "    ######################################################\n",
        "    # To be filled in\n",
        "    # gradient-based update \n",
        "\n",
        "    # Two options using backward() method for the computed loss\n",
        "    # or using torch.autograd.grad\n",
        "    \n",
        "    if( np.mod(iter,100) == 0 ):\n",
        "      print(\".... iter %d: loss %.3f dyn_loss %.3f obs_loss %.3f\"%(iter,loss,loss_dyn,loss_obs))  \n",
        "\n",
        "    X_torch = torch.autograd.Variable(X_torch, requires_grad=True)\n"
      ],
      "execution_count": null,
      "outputs": [
        {
          "output_type": "stream",
          "name": "stdout",
          "text": [
            ".... iter 0: loss 2321.325 dyn_loss 2344.773 obs_loss 0.000\n",
            ".... iter 100: loss 74.609 dyn_loss 68.443 obs_loss 684.990\n",
            ".... iter 200: loss 46.611 dyn_loss 39.277 obs_loss 772.704\n",
            ".... iter 300: loss 33.434 dyn_loss 25.558 obs_loss 813.156\n",
            ".... iter 400: loss 25.986 dyn_loss 17.867 obs_loss 829.711\n",
            ".... iter 500: loss 21.357 dyn_loss 13.165 obs_loss 832.369\n",
            ".... iter 600: loss 18.288 dyn_loss 10.126 obs_loss 826.330\n",
            ".... iter 700: loss 16.146 dyn_loss 8.081 obs_loss 814.607\n",
            ".... iter 800: loss 14.583 dyn_loss 6.658 obs_loss 799.103\n",
            ".... iter 900: loss 13.393 dyn_loss 5.638 obs_loss 781.102\n",
            ".... iter 1000: loss 12.452 dyn_loss 4.886 obs_loss 761.505\n",
            ".... iter 1100: loss 11.683 dyn_loss 4.317 obs_loss 740.961\n",
            ".... iter 1200: loss 11.036 dyn_loss 3.875 obs_loss 719.944\n",
            ".... iter 1300: loss 10.477 dyn_loss 3.524 obs_loss 698.799\n",
            ".... iter 1400: loss 9.985 dyn_loss 3.239 obs_loss 677.778\n",
            ".... iter 1500: loss 9.544 dyn_loss 3.003 obs_loss 657.067\n",
            ".... iter 1600: loss 9.144 dyn_loss 2.804 obs_loss 636.798\n",
            ".... iter 1700: loss 8.778 dyn_loss 2.633 obs_loss 617.067\n",
            ".... iter 1800: loss 8.440 dyn_loss 2.485 obs_loss 597.937\n",
            ".... iter 1900: loss 8.126 dyn_loss 2.355 obs_loss 579.452\n",
            ".... iter 2000: loss 7.832 dyn_loss 2.238 obs_loss 561.637\n",
            ".... iter 2100: loss 7.558 dyn_loss 2.134 obs_loss 544.504\n",
            ".... iter 2200: loss 7.300 dyn_loss 2.040 obs_loss 528.057\n",
            ".... iter 2300: loss 7.058 dyn_loss 1.954 obs_loss 512.292\n",
            ".... iter 2400: loss 6.829 dyn_loss 1.876 obs_loss 497.196\n",
            ".... iter 2500: loss 6.613 dyn_loss 1.803 obs_loss 482.758\n",
            ".... iter 2600: loss 6.409 dyn_loss 1.737 obs_loss 468.959\n",
            ".... iter 2700: loss 6.215 dyn_loss 1.674 obs_loss 455.779\n",
            ".... iter 2800: loss 6.032 dyn_loss 1.617 obs_loss 443.200\n",
            ".... iter 2900: loss 5.859 dyn_loss 1.563 obs_loss 431.198\n",
            ".... iter 3000: loss 5.694 dyn_loss 1.512 obs_loss 419.752\n",
            ".... iter 3100: loss 5.538 dyn_loss 1.465 obs_loss 408.840\n",
            ".... iter 3200: loss 5.390 dyn_loss 1.420 obs_loss 398.439\n",
            ".... iter 3300: loss 5.249 dyn_loss 1.378 obs_loss 388.528\n",
            ".... iter 3400: loss 5.116 dyn_loss 1.338 obs_loss 379.086\n",
            ".... iter 3500: loss 4.988 dyn_loss 1.301 obs_loss 370.091\n",
            ".... iter 3600: loss 4.868 dyn_loss 1.265 obs_loss 361.523\n",
            ".... iter 3700: loss 4.753 dyn_loss 1.231 obs_loss 353.363\n",
            ".... iter 3800: loss 4.643 dyn_loss 1.199 obs_loss 345.591\n",
            ".... iter 3900: loss 4.539 dyn_loss 1.169 obs_loss 338.190\n",
            ".... iter 4000: loss 4.440 dyn_loss 1.140 obs_loss 331.142\n",
            ".... iter 4100: loss 4.346 dyn_loss 1.113 obs_loss 324.429\n",
            ".... iter 4200: loss 4.256 dyn_loss 1.087 obs_loss 318.036\n",
            ".... iter 4300: loss 4.171 dyn_loss 1.062 obs_loss 311.947\n",
            ".... iter 4400: loss 4.090 dyn_loss 1.038 obs_loss 306.148\n",
            ".... iter 4500: loss 4.012 dyn_loss 1.016 obs_loss 300.625\n",
            ".... iter 4600: loss 3.938 dyn_loss 0.994 obs_loss 295.363\n",
            ".... iter 4700: loss 3.868 dyn_loss 0.974 obs_loss 290.350\n",
            ".... iter 4800: loss 3.800 dyn_loss 0.954 obs_loss 285.574\n",
            ".... iter 4900: loss 3.736 dyn_loss 0.935 obs_loss 281.022\n",
            ".... iter 5000: loss 3.675 dyn_loss 0.918 obs_loss 276.685\n",
            ".... iter 5100: loss 3.617 dyn_loss 0.900 obs_loss 272.551\n",
            ".... iter 5200: loss 3.561 dyn_loss 0.884 obs_loss 268.611\n",
            ".... iter 5300: loss 3.508 dyn_loss 0.868 obs_loss 264.854\n",
            ".... iter 5400: loss 3.457 dyn_loss 0.853 obs_loss 261.271\n",
            ".... iter 5500: loss 3.409 dyn_loss 0.839 obs_loss 257.854\n",
            ".... iter 5600: loss 3.363 dyn_loss 0.825 obs_loss 254.595\n",
            ".... iter 5700: loss 3.319 dyn_loss 0.812 obs_loss 251.486\n",
            ".... iter 5800: loss 3.276 dyn_loss 0.799 obs_loss 248.519\n",
            ".... iter 5900: loss 3.236 dyn_loss 0.787 obs_loss 245.687\n",
            ".... iter 6000: loss 3.198 dyn_loss 0.775 obs_loss 242.983\n",
            ".... iter 6100: loss 3.161 dyn_loss 0.764 obs_loss 240.402\n",
            ".... iter 6200: loss 3.125 dyn_loss 0.754 obs_loss 237.937\n",
            ".... iter 6300: loss 3.092 dyn_loss 0.743 obs_loss 235.582\n",
            ".... iter 6400: loss 3.059 dyn_loss 0.733 obs_loss 233.332\n",
            ".... iter 6500: loss 3.029 dyn_loss 0.724 obs_loss 231.182\n",
            ".... iter 6600: loss 2.999 dyn_loss 0.715 obs_loss 229.126\n",
            ".... iter 6700: loss 2.971 dyn_loss 0.706 obs_loss 227.160\n",
            ".... iter 6800: loss 2.944 dyn_loss 0.698 obs_loss 225.280\n",
            ".... iter 6900: loss 2.918 dyn_loss 0.690 obs_loss 223.482\n",
            ".... iter 7000: loss 2.893 dyn_loss 0.682 obs_loss 221.760\n",
            ".... iter 7100: loss 2.869 dyn_loss 0.674 obs_loss 220.112\n",
            ".... iter 7200: loss 2.846 dyn_loss 0.667 obs_loss 218.535\n",
            ".... iter 7300: loss 2.824 dyn_loss 0.660 obs_loss 217.023\n",
            ".... iter 7400: loss 2.803 dyn_loss 0.654 obs_loss 215.575\n",
            ".... iter 7500: loss 2.783 dyn_loss 0.647 obs_loss 214.187\n",
            ".... iter 7600: loss 2.763 dyn_loss 0.641 obs_loss 212.857\n",
            ".... iter 7700: loss 2.745 dyn_loss 0.635 obs_loss 211.581\n",
            ".... iter 7800: loss 2.727 dyn_loss 0.629 obs_loss 210.357\n",
            ".... iter 7900: loss 2.709 dyn_loss 0.624 obs_loss 209.182\n",
            ".... iter 8000: loss 2.693 dyn_loss 0.618 obs_loss 208.054\n",
            ".... iter 8100: loss 2.677 dyn_loss 0.613 obs_loss 206.971\n",
            ".... iter 8200: loss 2.662 dyn_loss 0.608 obs_loss 205.930\n",
            ".... iter 8300: loss 2.647 dyn_loss 0.604 obs_loss 204.930\n",
            ".... iter 8400: loss 2.633 dyn_loss 0.599 obs_loss 203.969\n",
            ".... iter 8500: loss 2.619 dyn_loss 0.595 obs_loss 203.044\n",
            ".... iter 8600: loss 2.606 dyn_loss 0.590 obs_loss 202.154\n",
            ".... iter 8700: loss 2.593 dyn_loss 0.586 obs_loss 201.298\n",
            ".... iter 8800: loss 2.581 dyn_loss 0.582 obs_loss 200.474\n",
            ".... iter 8900: loss 2.569 dyn_loss 0.578 obs_loss 199.680\n",
            ".... iter 9000: loss 2.558 dyn_loss 0.575 obs_loss 198.914\n",
            ".... iter 9100: loss 2.547 dyn_loss 0.571 obs_loss 198.177\n",
            ".... iter 9200: loss 2.537 dyn_loss 0.568 obs_loss 197.465\n",
            ".... iter 9300: loss 2.526 dyn_loss 0.564 obs_loss 196.779\n",
            ".... iter 9400: loss 2.516 dyn_loss 0.561 obs_loss 196.116\n",
            ".... iter 9500: loss 2.507 dyn_loss 0.558 obs_loss 195.477\n",
            ".... iter 9600: loss 2.498 dyn_loss 0.555 obs_loss 194.859\n",
            ".... iter 9700: loss 2.489 dyn_loss 0.552 obs_loss 194.262\n",
            ".... iter 9800: loss 2.480 dyn_loss 0.549 obs_loss 193.685\n",
            ".... iter 9900: loss 2.472 dyn_loss 0.546 obs_loss 193.127\n",
            ".... iter 10000: loss 2.464 dyn_loss 0.544 obs_loss 192.587\n",
            ".... iter 10100: loss 2.456 dyn_loss 0.541 obs_loss 192.064\n",
            ".... iter 10200: loss 2.449 dyn_loss 0.538 obs_loss 191.558\n",
            ".... iter 10300: loss 2.441 dyn_loss 0.536 obs_loss 191.067\n",
            ".... iter 10400: loss 2.434 dyn_loss 0.534 obs_loss 190.592\n",
            ".... iter 10500: loss 2.427 dyn_loss 0.531 obs_loss 190.131\n",
            ".... iter 10600: loss 2.421 dyn_loss 0.529 obs_loss 189.684\n",
            ".... iter 10700: loss 2.414 dyn_loss 0.527 obs_loss 189.250\n",
            ".... iter 10800: loss 2.408 dyn_loss 0.525 obs_loss 188.829\n",
            ".... iter 10900: loss 2.402 dyn_loss 0.523 obs_loss 188.420\n",
            ".... iter 11000: loss 2.396 dyn_loss 0.521 obs_loss 188.023\n",
            ".... iter 11100: loss 2.390 dyn_loss 0.519 obs_loss 187.637\n",
            ".... iter 11200: loss 2.385 dyn_loss 0.517 obs_loss 187.262\n",
            ".... iter 11300: loss 2.379 dyn_loss 0.515 obs_loss 186.896\n",
            ".... iter 11400: loss 2.374 dyn_loss 0.514 obs_loss 186.541\n",
            ".... iter 11500: loss 2.369 dyn_loss 0.512 obs_loss 186.195\n",
            ".... iter 11600: loss 2.364 dyn_loss 0.510 obs_loss 185.858\n",
            ".... iter 11700: loss 2.359 dyn_loss 0.509 obs_loss 185.530\n",
            ".... iter 11800: loss 2.354 dyn_loss 0.507 obs_loss 185.210\n",
            ".... iter 11900: loss 2.350 dyn_loss 0.506 obs_loss 184.898\n",
            ".... iter 12000: loss 2.345 dyn_loss 0.504 obs_loss 184.594\n",
            ".... iter 12100: loss 2.341 dyn_loss 0.503 obs_loss 184.297\n",
            ".... iter 12200: loss 2.336 dyn_loss 0.501 obs_loss 184.007\n",
            ".... iter 12300: loss 2.332 dyn_loss 0.500 obs_loss 183.724\n",
            ".... iter 12400: loss 2.328 dyn_loss 0.499 obs_loss 183.448\n",
            ".... iter 12500: loss 2.324 dyn_loss 0.497 obs_loss 183.178\n",
            ".... iter 12600: loss 2.320 dyn_loss 0.496 obs_loss 182.914\n",
            ".... iter 12700: loss 2.317 dyn_loss 0.495 obs_loss 182.656\n",
            ".... iter 12800: loss 2.313 dyn_loss 0.494 obs_loss 182.404\n",
            ".... iter 12900: loss 2.309 dyn_loss 0.493 obs_loss 182.157\n",
            ".... iter 13000: loss 2.306 dyn_loss 0.492 obs_loss 181.915\n",
            ".... iter 13100: loss 2.302 dyn_loss 0.490 obs_loss 181.679\n",
            ".... iter 13200: loss 2.299 dyn_loss 0.489 obs_loss 181.447\n",
            ".... iter 13300: loss 2.296 dyn_loss 0.488 obs_loss 181.220\n",
            ".... iter 13400: loss 2.292 dyn_loss 0.487 obs_loss 180.998\n",
            ".... iter 13500: loss 2.289 dyn_loss 0.486 obs_loss 180.780\n",
            ".... iter 13600: loss 2.286 dyn_loss 0.485 obs_loss 180.567\n",
            ".... iter 13700: loss 2.283 dyn_loss 0.484 obs_loss 180.357\n",
            ".... iter 13800: loss 2.280 dyn_loss 0.484 obs_loss 180.151\n",
            ".... iter 13900: loss 2.277 dyn_loss 0.483 obs_loss 179.950\n",
            ".... iter 14000: loss 2.274 dyn_loss 0.482 obs_loss 179.752\n",
            ".... iter 14100: loss 2.272 dyn_loss 0.481 obs_loss 179.558\n",
            ".... iter 14200: loss 2.269 dyn_loss 0.480 obs_loss 179.367\n",
            ".... iter 14300: loss 2.266 dyn_loss 0.479 obs_loss 179.179\n",
            ".... iter 14400: loss 2.264 dyn_loss 0.478 obs_loss 178.995\n",
            ".... iter 14500: loss 2.261 dyn_loss 0.478 obs_loss 178.814\n",
            ".... iter 14600: loss 2.258 dyn_loss 0.477 obs_loss 178.637\n",
            ".... iter 14700: loss 2.256 dyn_loss 0.476 obs_loss 178.462\n",
            ".... iter 14800: loss 2.254 dyn_loss 0.475 obs_loss 178.290\n",
            ".... iter 14900: loss 2.251 dyn_loss 0.475 obs_loss 178.121\n",
            ".... iter 15000: loss 2.249 dyn_loss 0.474 obs_loss 177.955\n",
            ".... iter 15100: loss 2.247 dyn_loss 0.473 obs_loss 177.792\n",
            ".... iter 15200: loss 2.244 dyn_loss 0.473 obs_loss 177.631\n",
            ".... iter 15300: loss 2.242 dyn_loss 0.472 obs_loss 177.472\n",
            ".... iter 15400: loss 2.240 dyn_loss 0.471 obs_loss 177.316\n",
            ".... iter 15500: loss 2.238 dyn_loss 0.471 obs_loss 177.163\n",
            ".... iter 15600: loss 2.236 dyn_loss 0.470 obs_loss 177.011\n",
            ".... iter 15700: loss 2.233 dyn_loss 0.470 obs_loss 176.862\n",
            ".... iter 15800: loss 2.231 dyn_loss 0.469 obs_loss 176.716\n",
            ".... iter 15900: loss 2.229 dyn_loss 0.468 obs_loss 176.571\n",
            ".... iter 16000: loss 2.227 dyn_loss 0.468 obs_loss 176.429\n",
            ".... iter 16100: loss 2.226 dyn_loss 0.467 obs_loss 176.289\n",
            ".... iter 16200: loss 2.224 dyn_loss 0.467 obs_loss 176.150\n",
            ".... iter 16300: loss 2.222 dyn_loss 0.466 obs_loss 176.014\n",
            ".... iter 16400: loss 2.220 dyn_loss 0.466 obs_loss 175.880\n",
            ".... iter 16500: loss 2.218 dyn_loss 0.465 obs_loss 175.747\n",
            ".... iter 16600: loss 2.216 dyn_loss 0.465 obs_loss 175.616\n",
            ".... iter 16700: loss 2.214 dyn_loss 0.464 obs_loss 175.487\n",
            ".... iter 16800: loss 2.213 dyn_loss 0.464 obs_loss 175.360\n",
            ".... iter 16900: loss 2.211 dyn_loss 0.463 obs_loss 175.235\n",
            ".... iter 17000: loss 2.209 dyn_loss 0.463 obs_loss 175.111\n",
            ".... iter 17100: loss 2.208 dyn_loss 0.462 obs_loss 174.989\n",
            ".... iter 17200: loss 2.206 dyn_loss 0.462 obs_loss 174.868\n",
            ".... iter 17300: loss 2.204 dyn_loss 0.461 obs_loss 174.750\n",
            ".... iter 17400: loss 2.203 dyn_loss 0.461 obs_loss 174.632\n",
            ".... iter 17500: loss 2.201 dyn_loss 0.461 obs_loss 174.516\n",
            ".... iter 17600: loss 2.200 dyn_loss 0.460 obs_loss 174.402\n",
            ".... iter 17700: loss 2.198 dyn_loss 0.460 obs_loss 174.289\n",
            ".... iter 17800: loss 2.197 dyn_loss 0.459 obs_loss 174.177\n",
            ".... iter 17900: loss 2.195 dyn_loss 0.459 obs_loss 174.067\n",
            ".... iter 18000: loss 2.194 dyn_loss 0.459 obs_loss 173.958\n",
            ".... iter 18100: loss 2.192 dyn_loss 0.458 obs_loss 173.850\n",
            ".... iter 18200: loss 2.191 dyn_loss 0.458 obs_loss 173.744\n",
            ".... iter 18300: loss 2.189 dyn_loss 0.458 obs_loss 173.639\n",
            ".... iter 18400: loss 2.188 dyn_loss 0.457 obs_loss 173.535\n",
            ".... iter 18500: loss 2.187 dyn_loss 0.457 obs_loss 173.433\n",
            ".... iter 18600: loss 2.185 dyn_loss 0.457 obs_loss 173.331\n",
            ".... iter 18700: loss 2.184 dyn_loss 0.456 obs_loss 173.231\n",
            ".... iter 18800: loss 2.183 dyn_loss 0.456 obs_loss 173.132\n",
            ".... iter 18900: loss 2.181 dyn_loss 0.456 obs_loss 173.034\n",
            ".... iter 19000: loss 2.180 dyn_loss 0.455 obs_loss 172.938\n",
            ".... iter 19100: loss 2.179 dyn_loss 0.455 obs_loss 172.843\n",
            ".... iter 19200: loss 2.178 dyn_loss 0.455 obs_loss 172.748\n",
            ".... iter 19300: loss 2.176 dyn_loss 0.454 obs_loss 172.655\n",
            ".... iter 19400: loss 2.175 dyn_loss 0.454 obs_loss 172.563\n",
            ".... iter 19500: loss 2.174 dyn_loss 0.454 obs_loss 172.471\n",
            ".... iter 19600: loss 2.173 dyn_loss 0.454 obs_loss 172.381\n",
            ".... iter 19700: loss 2.172 dyn_loss 0.453 obs_loss 172.292\n",
            ".... iter 19800: loss 2.170 dyn_loss 0.453 obs_loss 172.203\n",
            ".... iter 19900: loss 2.169 dyn_loss 0.453 obs_loss 172.116\n"
          ]
        }
      ]
    },
    {
      "cell_type": "code",
      "metadata": {
        "id": "7QRqLNqPXqu6",
        "colab": {
          "base_uri": "https://localhost:8080/",
          "height": 335
        },
        "outputId": "50328569-c4a0-4c18-f59a-b6c7a6301683"
      },
      "source": [
        "XGT  = XGT_torch.cpu().detach().numpy()[t0:t0+dT,:]\n",
        "XHat = X_torch.cpu().detach().numpy()[t0:t0+dT,:]\n",
        "M    = M_torch.cpu().detach().numpy()[t0:t0+dT,:]\n",
        "YObs = YObs_torch.cpu().detach().numpy()[t0:t0+dT,:]\n",
        "\n",
        "## visualization\n",
        "plt.figure()\n",
        "for kk in range(0,3):\n",
        "  plt.subplot(1,3,kk+1)\n",
        "  plt.plot(YObs[t0:t0+dT,kk],'r.')\n",
        "  plt.plot(XGT[:,kk],'b-')\n",
        "  plt.plot(XHat[:,kk],'m-')\n",
        "\n",
        "# Reconstruction performance\n",
        "varXGT  = np.mean( (XGT - np.mean(XGT,axis=0))**2 )\n",
        "mse_All = np.mean( (XHat-XGT) **2 ) \n",
        "mse_I   = np.mean( (1.-M[t0:t0+dT,:]) * (XHat-XGT) **2 ) / np.mean( (1.-M[t0:t0+dT,:]) )\n",
        "mse_R   = np.mean( M[t0:t0+dT,:] * (XHat-XGT) **2 ) / np.mean( M[t0:t0+dT,:] )\n",
        "\n",
        "nmse_All = mse_All / varXGT\n",
        "nmse_I   = mse_I / varXGT\n",
        "nmse_R   = mse_R / varXGT\n",
        "\n",
        "print(\"..... Assimilation performance\")\n",
        "print(\".. MSE ALL.   : %.3f / %.3f\"%(mse_All,nmse_All))\n",
        "print(\".. MSE ObsData: %.3f / %.3f\"%(mse_R,nmse_R))\n",
        "print(\".. MSE Interp : %.3f / %.3f\"%(mse_I,nmse_I))\n"
      ],
      "execution_count": null,
      "outputs": [
        {
          "output_type": "stream",
          "name": "stdout",
          "text": [
            "..... Assimilation performance\n",
            ".. MSE ALL.   : 5.506 / 0.066\n",
            ".. MSE ObsData: 0.725 / 0.009\n",
            ".. MSE Interp : 6.097 / 0.073\n"
          ]
        },
        {
          "output_type": "display_data",
          "data": {
            "image/png": "[encoded data removed]",
            "text/plain": [
              "<Figure size 432x288 with 3 Axes>"
            ]
          },
          "metadata": {
            "needs_background": "light"
          }
        }
      ]
    },
    {
      "cell_type": "markdown",
      "metadata": {
        "id": "fdq0wK2_lRHo"
      },
      "source": [
        "# Model-based inversion using a trainable plug-and-play prior"
      ]
    },
    {
      "cell_type": "code",
      "metadata": {
        "id": "5eeQsAFfmU9g"
      },
      "source": [
        "DimAE = 20"
      ],
      "execution_count": null,
      "outputs": []
    },
    {
      "cell_type": "code",
      "metadata": {
        "id": "VQ-RaZMAlZ35",
        "colab": {
          "base_uri": "https://localhost:8080/"
        },
        "outputId": "a3f31d4d-177d-464a-d958-e1425a0a39b2"
      },
      "source": [
        "# Training a simple auto-encoder\n",
        "# PCA decomposition\n",
        "pca              = decomposition.PCA(DimAE)\n",
        "pca.fit(np.reshape(X_train,(x_train.shape[0],X_train.shape[1]*X_train.shape[2])))\n",
        "\n",
        "rec_PCA_Tt       = pca.transform(np.reshape(X_test,(X_test.shape[0],X_test.shape[1]*X_test.shape[2])))\n",
        "rec_PCA_Tt[:,DimAE:] = 0.\n",
        "rec_PCA_Tt       = pca.inverse_transform(rec_PCA_Tt)\n",
        "mse_PCA_Tt       = np.mean( (rec_PCA_Tt - X_test.reshape((x_test.shape[0],X_test.shape[1]*X_test.shape[2])))**2 )\n",
        "var_Tt           = np.mean( (X_test-np.mean(X_train,axis=0))** 2 )\n",
        "exp_var_PCA_Tt   = 1. - mse_PCA_Tt / var_Tt\n",
        "\n",
        "print(\".......... PCA Dim = %d\"%(DimAE))\n",
        "print('.... explained variance PCA (Tr) : %.2f%%'%(100.*np.cumsum(pca.explained_variance_ratio_)[DimAE-1]))\n",
        "print('.... explained variance PCA (Tt) : %.2f%%'%(100.*exp_var_PCA_Tt))\n",
        "\n",
        "shapeData = x_train.shape[1:]\n",
        "\n",
        "class Encoder(torch.nn.Module):\n",
        "    def __init__(self):\n",
        "        super(Encoder, self).__init__()\n",
        "        self.fc1 = torch.nn.Linear(shapeData[0]*shapeData[1],DimAE,bias=False)\n",
        "        self.fc1.weight = torch.nn.Parameter( torch.Tensor( pca.components_[0:DimAE,:] ))\n",
        "        self.mean_ = torch.nn.Parameter( torch.Tensor( pca.mean_ ) )\n",
        "        \n",
        "    def forward(self, x):\n",
        "        x = self.fc1( x.view(-1,shapeData[0]*shapeData[1]) - self.mean_ )\n",
        "        return x\n",
        "  \n",
        "class Decoder(torch.nn.Module):\n",
        "    def __init__(self):\n",
        "        super(Decoder, self).__init__()\n",
        "        self.fc1 = torch.nn.Linear(DimAE,shapeData[0]*shapeData[1],bias=False)\n",
        "        pcs = pca.components_[0:DimAE,:]\n",
        "        self.fc1.weight = torch.nn.Parameter( torch.Tensor( pcs.transpose() ) )\n",
        "        self.mean_ = torch.nn.Parameter( torch.Tensor( pca.mean_ ) )\n",
        "    def forward(self, x):\n",
        "        x = self.fc1( x ) + self.mean_\n",
        "        x = x.view(-1,shapeData[0],shapeData[1])\n",
        "        return x\n",
        "\n",
        "class Model_AE(torch.nn.Module):\n",
        "    def __init__(self):\n",
        "        super(Model_AE, self).__init__()\n",
        "        self.encoder = Encoder()\n",
        "        self.decoder = Decoder()\n",
        "\n",
        "    def forward(self, x):\n",
        "        x = self.encoder( x )\n",
        "        x = self.decoder( x )\n",
        "        return x\n",
        "\n",
        "model_AE           = Model_AE()\n",
        "print(model_AE)"
      ],
      "execution_count": null,
      "outputs": [
        {
          "output_type": "stream",
          "name": "stdout",
          "text": [
            ".......... PCA Dim = 20\n",
            ".... explained variance PCA (Tr) : 95.73%\n",
            ".... explained variance PCA (Tt) : 95.28%\n",
            "Model_AE(\n",
            "  (encoder): Encoder(\n",
            "    (fc1): Linear(in_features=600, out_features=20, bias=False)\n",
            "  )\n",
            "  (decoder): Decoder(\n",
            "    (fc1): Linear(in_features=20, out_features=600, bias=False)\n",
            "  )\n",
            ")\n"
          ]
        }
      ]
    },
    {
      "cell_type": "code",
      "metadata": {
        "id": "fQUMHMlHtsSM"
      },
      "source": [
        "ii = 100\n",
        "dT = 200\n",
        "\n",
        "# create torch tensors for observations and hidden states\n",
        "XGT_torch  = torch.Tensor( X_train[ii,:,:].squeeze() )\n",
        "YObs_torch = torch.Tensor( X_train_obs[ii,:,:].squeeze() )\n",
        "M_torch    = torch.Tensor( mask_train[ii,:,:].squeeze() )\n",
        "\n",
        "# Initialisation\n",
        "X_torch    = torch.Tensor( X_train_Init[ii,:,:].squeeze() )"
      ],
      "execution_count": null,
      "outputs": []
    },
    {
      "cell_type": "code",
      "metadata": {
        "colab": {
          "base_uri": "https://localhost:8080/"
        },
        "id": "wOqdp12XpOhd",
        "outputId": "5665177d-758a-42d1-a802-50bbac96cdbf"
      },
      "source": [
        "# 4DVAR assimilation\n",
        "device  = torch.device(\"cuda\" if torch.cuda.is_available() else \"cpu\")\n",
        "\n",
        "# assignment to GPU\n",
        "model_AE = model_AE.to(device)\n",
        "\n",
        "# assimilation loop\n",
        "t0    = 0\n",
        "NIter = 20000\n",
        "alpha = 0.99\n",
        "delta = 0.2\n",
        "\n",
        "X_torch = X_torch.to(device)\n",
        "XGT_torch  = XGT_torch.to(device)\n",
        "YObs_torch  = YObs_torch.to(device)\n",
        "M_torch  = M_torch.to(device)\n",
        "\n",
        "X_torch = torch.autograd.Variable(X_torch, requires_grad=True)\n",
        "for iter in range(0,NIter):\n",
        "\n",
        "  # compute losses\n",
        "  with torch.set_grad_enabled(True): \n",
        "    # dynamical loss\n",
        "    # to be filled in\n",
        "    # Compute term ||x-Phi(x)||^2 with Phi given by the PCA\n",
        "    loss_dyn = torch.sum( (X_torch - model_AE(X_torch))**2 )\n",
        "\n",
        "    # observation loss\n",
        "    loss_obs = torch.sum((X_torch - YObs_torch)**2 * M_torch )\n",
        "\n",
        "    # overall loss\n",
        "    loss = (1.-alpha) * loss_obs + alpha * loss_dyn \n",
        "\n",
        "    if( np.mod(iter,100) == 0 ):\n",
        "      print(\".... iter %d: loss %.3f dyn_loss %.3f obs_loss %.3f\"%(iter,loss,loss_dyn,loss_obs))  \n",
        "\n",
        "    # compute gradient w.r.t. X and update X\n",
        "    loss.backward()\n",
        "    #grad_X  = torch.autograd.grad(loss,X_torch,create_graph=True)\n",
        "    X_torch = X_torch - delta * X_torch.grad.data\n",
        "    X_torch = torch.autograd.Variable(X_torch, requires_grad=True)"
      ],
      "execution_count": null,
      "outputs": [
        {
          "output_type": "stream",
          "name": "stdout",
          "text": [
            ".... iter 0: loss 3.161 dyn_loss 0.032 obs_loss 312.917\n",
            ".... iter 100: loss 3.160 dyn_loss 0.032 obs_loss 312.854\n",
            ".... iter 200: loss 3.160 dyn_loss 0.032 obs_loss 312.792\n",
            ".... iter 300: loss 3.159 dyn_loss 0.032 obs_loss 312.732\n",
            ".... iter 400: loss 3.158 dyn_loss 0.032 obs_loss 312.673\n",
            ".... iter 500: loss 3.158 dyn_loss 0.032 obs_loss 312.615\n",
            ".... iter 600: loss 3.157 dyn_loss 0.032 obs_loss 312.558\n",
            ".... iter 700: loss 3.157 dyn_loss 0.032 obs_loss 312.502\n",
            ".... iter 800: loss 3.156 dyn_loss 0.032 obs_loss 312.448\n",
            ".... iter 900: loss 3.155 dyn_loss 0.032 obs_loss 312.395\n",
            ".... iter 1000: loss 3.155 dyn_loss 0.032 obs_loss 312.342\n",
            ".... iter 1100: loss 3.154 dyn_loss 0.032 obs_loss 312.291\n",
            ".... iter 1200: loss 3.154 dyn_loss 0.032 obs_loss 312.242\n",
            ".... iter 1300: loss 3.153 dyn_loss 0.032 obs_loss 312.193\n",
            ".... iter 1400: loss 3.153 dyn_loss 0.032 obs_loss 312.145\n",
            ".... iter 1500: loss 3.152 dyn_loss 0.032 obs_loss 312.098\n",
            ".... iter 1600: loss 3.152 dyn_loss 0.032 obs_loss 312.052\n",
            ".... iter 1700: loss 3.152 dyn_loss 0.032 obs_loss 312.007\n",
            ".... iter 1800: loss 3.151 dyn_loss 0.032 obs_loss 311.963\n",
            ".... iter 1900: loss 3.151 dyn_loss 0.032 obs_loss 311.920\n",
            ".... iter 2000: loss 3.150 dyn_loss 0.032 obs_loss 311.878\n",
            ".... iter 2100: loss 3.150 dyn_loss 0.032 obs_loss 311.836\n",
            ".... iter 2200: loss 3.149 dyn_loss 0.032 obs_loss 311.796\n",
            ".... iter 2300: loss 3.149 dyn_loss 0.032 obs_loss 311.756\n",
            ".... iter 2400: loss 3.149 dyn_loss 0.032 obs_loss 311.717\n",
            ".... iter 2500: loss 3.148 dyn_loss 0.032 obs_loss 311.679\n",
            ".... iter 2600: loss 3.148 dyn_loss 0.032 obs_loss 311.642\n",
            ".... iter 2700: loss 3.148 dyn_loss 0.032 obs_loss 311.605\n",
            ".... iter 2800: loss 3.147 dyn_loss 0.032 obs_loss 311.569\n",
            ".... iter 2900: loss 3.147 dyn_loss 0.032 obs_loss 311.534\n",
            ".... iter 3000: loss 3.146 dyn_loss 0.032 obs_loss 311.500\n",
            ".... iter 3100: loss 3.146 dyn_loss 0.032 obs_loss 311.466\n",
            ".... iter 3200: loss 3.146 dyn_loss 0.032 obs_loss 311.434\n",
            ".... iter 3300: loss 3.145 dyn_loss 0.032 obs_loss 311.401\n",
            ".... iter 3400: loss 3.145 dyn_loss 0.032 obs_loss 311.370\n",
            ".... iter 3500: loss 3.145 dyn_loss 0.032 obs_loss 311.339\n",
            ".... iter 3600: loss 3.145 dyn_loss 0.032 obs_loss 311.308\n",
            ".... iter 3700: loss 3.144 dyn_loss 0.032 obs_loss 311.279\n",
            ".... iter 3800: loss 3.144 dyn_loss 0.032 obs_loss 311.250\n",
            ".... iter 3900: loss 3.144 dyn_loss 0.032 obs_loss 311.221\n",
            ".... iter 4000: loss 3.143 dyn_loss 0.032 obs_loss 311.193\n",
            ".... iter 4100: loss 3.143 dyn_loss 0.032 obs_loss 311.166\n",
            ".... iter 4200: loss 3.143 dyn_loss 0.032 obs_loss 311.139\n",
            ".... iter 4300: loss 3.143 dyn_loss 0.032 obs_loss 311.112\n",
            ".... iter 4400: loss 3.142 dyn_loss 0.032 obs_loss 311.087\n",
            ".... iter 4500: loss 3.142 dyn_loss 0.032 obs_loss 311.061\n",
            ".... iter 4600: loss 3.142 dyn_loss 0.032 obs_loss 311.037\n",
            ".... iter 4700: loss 3.142 dyn_loss 0.032 obs_loss 311.012\n",
            ".... iter 4800: loss 3.141 dyn_loss 0.032 obs_loss 310.989\n",
            ".... iter 4900: loss 3.141 dyn_loss 0.032 obs_loss 310.965\n",
            ".... iter 5000: loss 3.141 dyn_loss 0.032 obs_loss 310.942\n",
            ".... iter 5100: loss 3.141 dyn_loss 0.032 obs_loss 310.920\n",
            ".... iter 5200: loss 3.140 dyn_loss 0.032 obs_loss 310.898\n",
            ".... iter 5300: loss 3.140 dyn_loss 0.032 obs_loss 310.877\n",
            ".... iter 5400: loss 3.140 dyn_loss 0.032 obs_loss 310.856\n",
            ".... iter 5500: loss 3.140 dyn_loss 0.032 obs_loss 310.835\n",
            ".... iter 5600: loss 3.140 dyn_loss 0.032 obs_loss 310.815\n",
            ".... iter 5700: loss 3.139 dyn_loss 0.032 obs_loss 310.795\n",
            ".... iter 5800: loss 3.139 dyn_loss 0.032 obs_loss 310.775\n",
            ".... iter 5900: loss 3.139 dyn_loss 0.032 obs_loss 310.756\n",
            ".... iter 6000: loss 3.139 dyn_loss 0.032 obs_loss 310.738\n",
            ".... iter 6100: loss 3.139 dyn_loss 0.032 obs_loss 310.719\n",
            ".... iter 6200: loss 3.138 dyn_loss 0.032 obs_loss 310.702\n",
            ".... iter 6300: loss 3.138 dyn_loss 0.032 obs_loss 310.684\n",
            ".... iter 6400: loss 3.138 dyn_loss 0.032 obs_loss 310.667\n",
            ".... iter 6500: loss 3.138 dyn_loss 0.032 obs_loss 310.650\n",
            ".... iter 6600: loss 3.138 dyn_loss 0.032 obs_loss 310.633\n",
            ".... iter 6700: loss 3.138 dyn_loss 0.032 obs_loss 310.617\n",
            ".... iter 6800: loss 3.137 dyn_loss 0.032 obs_loss 310.601\n",
            ".... iter 6900: loss 3.137 dyn_loss 0.032 obs_loss 310.586\n",
            ".... iter 7000: loss 3.137 dyn_loss 0.032 obs_loss 310.570\n",
            ".... iter 7100: loss 3.137 dyn_loss 0.032 obs_loss 310.555\n",
            ".... iter 7200: loss 3.137 dyn_loss 0.032 obs_loss 310.541\n",
            ".... iter 7300: loss 3.137 dyn_loss 0.032 obs_loss 310.526\n",
            ".... iter 7400: loss 3.136 dyn_loss 0.032 obs_loss 310.512\n",
            ".... iter 7500: loss 3.136 dyn_loss 0.032 obs_loss 310.498\n",
            ".... iter 7600: loss 3.136 dyn_loss 0.032 obs_loss 310.485\n",
            ".... iter 7700: loss 3.136 dyn_loss 0.032 obs_loss 310.471\n",
            ".... iter 7800: loss 3.136 dyn_loss 0.032 obs_loss 310.458\n",
            ".... iter 7900: loss 3.136 dyn_loss 0.032 obs_loss 310.446\n",
            ".... iter 8000: loss 3.136 dyn_loss 0.032 obs_loss 310.433\n",
            ".... iter 8100: loss 3.136 dyn_loss 0.032 obs_loss 310.421\n",
            ".... iter 8200: loss 3.135 dyn_loss 0.032 obs_loss 310.409\n",
            ".... iter 8300: loss 3.135 dyn_loss 0.032 obs_loss 310.397\n",
            ".... iter 8400: loss 3.135 dyn_loss 0.032 obs_loss 310.385\n",
            ".... iter 8500: loss 3.135 dyn_loss 0.032 obs_loss 310.374\n",
            ".... iter 8600: loss 3.135 dyn_loss 0.032 obs_loss 310.363\n",
            ".... iter 8700: loss 3.135 dyn_loss 0.032 obs_loss 310.352\n",
            ".... iter 8800: loss 3.135 dyn_loss 0.032 obs_loss 310.341\n",
            ".... iter 8900: loss 3.135 dyn_loss 0.032 obs_loss 310.331\n",
            ".... iter 9000: loss 3.135 dyn_loss 0.032 obs_loss 310.320\n",
            ".... iter 9100: loss 3.134 dyn_loss 0.032 obs_loss 310.310\n",
            ".... iter 9200: loss 3.134 dyn_loss 0.032 obs_loss 310.300\n",
            ".... iter 9300: loss 3.134 dyn_loss 0.032 obs_loss 310.291\n",
            ".... iter 9400: loss 3.134 dyn_loss 0.032 obs_loss 310.281\n",
            ".... iter 9500: loss 3.134 dyn_loss 0.032 obs_loss 310.272\n",
            ".... iter 9600: loss 3.134 dyn_loss 0.032 obs_loss 310.263\n",
            ".... iter 9700: loss 3.134 dyn_loss 0.032 obs_loss 310.254\n",
            ".... iter 9800: loss 3.134 dyn_loss 0.032 obs_loss 310.245\n",
            ".... iter 9900: loss 3.134 dyn_loss 0.032 obs_loss 310.237\n",
            ".... iter 10000: loss 3.134 dyn_loss 0.032 obs_loss 310.228\n",
            ".... iter 10100: loss 3.134 dyn_loss 0.032 obs_loss 310.220\n",
            ".... iter 10200: loss 3.133 dyn_loss 0.032 obs_loss 310.212\n",
            ".... iter 10300: loss 3.133 dyn_loss 0.032 obs_loss 310.204\n",
            ".... iter 10400: loss 3.133 dyn_loss 0.032 obs_loss 310.196\n",
            ".... iter 10500: loss 3.133 dyn_loss 0.032 obs_loss 310.188\n",
            ".... iter 10600: loss 3.133 dyn_loss 0.032 obs_loss 310.181\n",
            ".... iter 10700: loss 3.133 dyn_loss 0.032 obs_loss 310.173\n",
            ".... iter 10800: loss 3.133 dyn_loss 0.032 obs_loss 310.166\n",
            ".... iter 10900: loss 3.133 dyn_loss 0.032 obs_loss 310.159\n",
            ".... iter 11000: loss 3.133 dyn_loss 0.032 obs_loss 310.152\n",
            ".... iter 11100: loss 3.133 dyn_loss 0.032 obs_loss 310.145\n",
            ".... iter 11200: loss 3.133 dyn_loss 0.032 obs_loss 310.139\n",
            ".... iter 11300: loss 3.133 dyn_loss 0.032 obs_loss 310.132\n",
            ".... iter 11400: loss 3.133 dyn_loss 0.032 obs_loss 310.126\n",
            ".... iter 11500: loss 3.133 dyn_loss 0.032 obs_loss 310.119\n",
            ".... iter 11600: loss 3.132 dyn_loss 0.032 obs_loss 310.113\n",
            ".... iter 11700: loss 3.132 dyn_loss 0.032 obs_loss 310.107\n",
            ".... iter 11800: loss 3.132 dyn_loss 0.032 obs_loss 310.101\n",
            ".... iter 11900: loss 3.132 dyn_loss 0.032 obs_loss 310.095\n",
            ".... iter 12000: loss 3.132 dyn_loss 0.032 obs_loss 310.090\n",
            ".... iter 12100: loss 3.132 dyn_loss 0.032 obs_loss 310.084\n",
            ".... iter 12200: loss 3.132 dyn_loss 0.032 obs_loss 310.079\n",
            ".... iter 12300: loss 3.132 dyn_loss 0.032 obs_loss 310.073\n",
            ".... iter 12400: loss 3.132 dyn_loss 0.032 obs_loss 310.068\n",
            ".... iter 12500: loss 3.132 dyn_loss 0.032 obs_loss 310.063\n",
            ".... iter 12600: loss 3.132 dyn_loss 0.032 obs_loss 310.058\n",
            ".... iter 12700: loss 3.132 dyn_loss 0.032 obs_loss 310.053\n",
            ".... iter 12800: loss 3.132 dyn_loss 0.032 obs_loss 310.048\n",
            ".... iter 12900: loss 3.132 dyn_loss 0.032 obs_loss 310.043\n",
            ".... iter 13000: loss 3.132 dyn_loss 0.032 obs_loss 310.038\n",
            ".... iter 13100: loss 3.132 dyn_loss 0.032 obs_loss 310.034\n",
            ".... iter 13200: loss 3.132 dyn_loss 0.032 obs_loss 310.029\n",
            ".... iter 13300: loss 3.132 dyn_loss 0.032 obs_loss 310.025\n",
            ".... iter 13400: loss 3.132 dyn_loss 0.032 obs_loss 310.020\n",
            ".... iter 13500: loss 3.131 dyn_loss 0.032 obs_loss 310.016\n",
            ".... iter 13600: loss 3.131 dyn_loss 0.032 obs_loss 310.012\n",
            ".... iter 13700: loss 3.131 dyn_loss 0.032 obs_loss 310.008\n",
            ".... iter 13800: loss 3.131 dyn_loss 0.032 obs_loss 310.004\n",
            ".... iter 13900: loss 3.131 dyn_loss 0.032 obs_loss 310.000\n",
            ".... iter 14000: loss 3.131 dyn_loss 0.032 obs_loss 309.996\n",
            ".... iter 14100: loss 3.131 dyn_loss 0.032 obs_loss 309.992\n",
            ".... iter 14200: loss 3.131 dyn_loss 0.032 obs_loss 309.989\n",
            ".... iter 14300: loss 3.131 dyn_loss 0.032 obs_loss 309.985\n",
            ".... iter 14400: loss 3.131 dyn_loss 0.032 obs_loss 309.981\n",
            ".... iter 14500: loss 3.131 dyn_loss 0.032 obs_loss 309.978\n",
            ".... iter 14600: loss 3.131 dyn_loss 0.032 obs_loss 309.974\n",
            ".... iter 14700: loss 3.131 dyn_loss 0.032 obs_loss 309.971\n",
            ".... iter 14800: loss 3.131 dyn_loss 0.032 obs_loss 309.968\n",
            ".... iter 14900: loss 3.131 dyn_loss 0.032 obs_loss 309.964\n",
            ".... iter 15000: loss 3.131 dyn_loss 0.032 obs_loss 309.961\n",
            ".... iter 15100: loss 3.131 dyn_loss 0.032 obs_loss 309.958\n",
            ".... iter 15200: loss 3.131 dyn_loss 0.032 obs_loss 309.955\n",
            ".... iter 15300: loss 3.131 dyn_loss 0.032 obs_loss 309.952\n",
            ".... iter 15400: loss 3.131 dyn_loss 0.032 obs_loss 309.949\n",
            ".... iter 15500: loss 3.131 dyn_loss 0.032 obs_loss 309.946\n",
            ".... iter 15600: loss 3.131 dyn_loss 0.032 obs_loss 309.943\n",
            ".... iter 15700: loss 3.131 dyn_loss 0.032 obs_loss 309.941\n",
            ".... iter 15800: loss 3.131 dyn_loss 0.032 obs_loss 309.938\n",
            ".... iter 15900: loss 3.131 dyn_loss 0.032 obs_loss 309.935\n",
            ".... iter 16000: loss 3.131 dyn_loss 0.032 obs_loss 309.933\n",
            ".... iter 16100: loss 3.131 dyn_loss 0.032 obs_loss 309.930\n",
            ".... iter 16200: loss 3.131 dyn_loss 0.032 obs_loss 309.928\n",
            ".... iter 16300: loss 3.131 dyn_loss 0.032 obs_loss 309.925\n",
            ".... iter 16400: loss 3.131 dyn_loss 0.032 obs_loss 309.923\n",
            ".... iter 16500: loss 3.131 dyn_loss 0.032 obs_loss 309.920\n",
            ".... iter 16600: loss 3.130 dyn_loss 0.032 obs_loss 309.918\n",
            ".... iter 16700: loss 3.130 dyn_loss 0.032 obs_loss 309.916\n",
            ".... iter 16800: loss 3.130 dyn_loss 0.032 obs_loss 309.913\n",
            ".... iter 16900: loss 3.130 dyn_loss 0.032 obs_loss 309.911\n",
            ".... iter 17000: loss 3.130 dyn_loss 0.032 obs_loss 309.909\n",
            ".... iter 17100: loss 3.130 dyn_loss 0.032 obs_loss 309.907\n",
            ".... iter 17200: loss 3.130 dyn_loss 0.032 obs_loss 309.905\n",
            ".... iter 17300: loss 3.130 dyn_loss 0.032 obs_loss 309.903\n",
            ".... iter 17400: loss 3.130 dyn_loss 0.032 obs_loss 309.901\n",
            ".... iter 17500: loss 3.130 dyn_loss 0.032 obs_loss 309.899\n",
            ".... iter 17600: loss 3.130 dyn_loss 0.032 obs_loss 309.897\n",
            ".... iter 17700: loss 3.130 dyn_loss 0.032 obs_loss 309.895\n",
            ".... iter 17800: loss 3.130 dyn_loss 0.032 obs_loss 309.893\n",
            ".... iter 17900: loss 3.130 dyn_loss 0.032 obs_loss 309.891\n",
            ".... iter 18000: loss 3.130 dyn_loss 0.032 obs_loss 309.890\n",
            ".... iter 18100: loss 3.130 dyn_loss 0.032 obs_loss 309.888\n",
            ".... iter 18200: loss 3.130 dyn_loss 0.032 obs_loss 309.886\n",
            ".... iter 18300: loss 3.130 dyn_loss 0.032 obs_loss 309.884\n",
            ".... iter 18400: loss 3.130 dyn_loss 0.032 obs_loss 309.883\n",
            ".... iter 18500: loss 3.130 dyn_loss 0.032 obs_loss 309.881\n",
            ".... iter 18600: loss 3.130 dyn_loss 0.032 obs_loss 309.880\n",
            ".... iter 18700: loss 3.130 dyn_loss 0.032 obs_loss 309.878\n",
            ".... iter 18800: loss 3.130 dyn_loss 0.032 obs_loss 309.877\n",
            ".... iter 18900: loss 3.130 dyn_loss 0.032 obs_loss 309.875\n",
            ".... iter 19000: loss 3.130 dyn_loss 0.032 obs_loss 309.874\n",
            ".... iter 19100: loss 3.130 dyn_loss 0.032 obs_loss 309.872\n",
            ".... iter 19200: loss 3.130 dyn_loss 0.032 obs_loss 309.871\n",
            ".... iter 19300: loss 3.130 dyn_loss 0.032 obs_loss 309.869\n",
            ".... iter 19400: loss 3.130 dyn_loss 0.032 obs_loss 309.868\n",
            ".... iter 19500: loss 3.130 dyn_loss 0.032 obs_loss 309.867\n",
            ".... iter 19600: loss 3.130 dyn_loss 0.032 obs_loss 309.865\n",
            ".... iter 19700: loss 3.130 dyn_loss 0.032 obs_loss 309.864\n",
            ".... iter 19800: loss 3.130 dyn_loss 0.032 obs_loss 309.863\n",
            ".... iter 19900: loss 3.130 dyn_loss 0.032 obs_loss 309.862\n"
          ]
        }
      ]
    },
    {
      "cell_type": "code",
      "metadata": {
        "colab": {
          "base_uri": "https://localhost:8080/",
          "height": 335
        },
        "id": "msCWD_21rlZV",
        "outputId": "19ba35b3-43a7-4aa1-becd-1bfeb0980e18"
      },
      "source": [
        "XGT  = XGT_torch.cpu().detach().numpy()[t0:t0+dT,:]\n",
        "XHat = X_torch.cpu().detach().numpy()[t0:t0+dT,:]\n",
        "M    = M_torch.cpu().detach().numpy()[t0:t0+dT,:]\n",
        "YObs = YObs_torch.cpu().detach().numpy()[t0:t0+dT,:]\n",
        "\n",
        "## visualization\n",
        "plt.figure()\n",
        "for kk in range(0,3):\n",
        "  plt.subplot(1,3,kk+1)\n",
        "  plt.plot(YObs[kk,t0:t0+dT],'r.')\n",
        "  plt.plot(XGT[kk,:],'b-')\n",
        "  plt.plot(XHat[kk,:],'m-')\n",
        "\n",
        "# Reconstruction performance\n",
        "varXGT  = np.mean( (XGT - np.mean(XGT,axis=0))**2 )\n",
        "mse_All = np.mean( (XHat-XGT) **2 ) \n",
        "mse_I   = np.mean( (1.-M[t0:t0+dT,:]) * (XHat-XGT) **2 ) / np.mean( (1.-M[t0:t0+dT,:]) )\n",
        "mse_R   = np.mean( M[t0:t0+dT,:] * (XHat-XGT) **2 ) / np.mean( M[t0:t0+dT,:] )\n",
        "\n",
        "nmse_All = mse_All / varXGT\n",
        "nmse_I   = mse_I / varXGT\n",
        "nmse_R   = mse_R / varXGT\n",
        "\n",
        "print(\"..... Assimilation performance\")\n",
        "print(\".. MSE ALL.   : %.3f / %.3f\"%(mse_All,nmse_All))\n",
        "print(\".. MSE ObsData: %.3f / %.3f\"%(mse_R,nmse_R))\n",
        "print(\".. MSE Interp : %.3f / %.3f\"%(mse_I,nmse_I))\n"
      ],
      "execution_count": null,
      "outputs": [
        {
          "output_type": "stream",
          "name": "stdout",
          "text": [
            "..... Assimilation performance\n",
            ".. MSE ALL.   : 5.848 / 0.042\n",
            ".. MSE ObsData: 3.665 / 0.026\n",
            ".. MSE Interp : 6.118 / 0.044\n"
          ]
        },
        {
          "output_type": "display_data",
          "data": {
            "image/png": "[encoded data removed]",
            "text/plain": [
              "<Figure size 432x288 with 3 Axes>"
            ]
          },
          "metadata": {
            "needs_background": "light"
          }
        }
      ]
    },
    {
      "cell_type": "markdown",
      "metadata": {
        "id": "ZRNaXIcJe0qK"
      },
      "source": [
        "**Supplementay exercise**: \n",
        "\n",
        "*   4DVar DA using a RK4 integration scheme in place of the Euler scheme\n",
        "*   Implementation of a CNN auto-encoder architecture as plug-and-play prior inplace of the \n",
        "\n"
      ]
    },
    {
      "cell_type": "markdown",
      "metadata": {
        "id": "rAeZfVZ_kHY1"
      },
      "source": [
        "\n",
        "\n",
        "# Supplementay exercise:\n",
        "*   4DVar DA using a RK4 integration scheme in place of the Euler scheme\n",
        "*   Implementation of a CNN auto-encoder architecture as plug-and-play prior inplace of the\n"
      ]
    },
    {
      "cell_type": "code",
      "metadata": {
        "id": "oKik60OYiR8z"
      },
      "source": [
        ""
      ],
      "execution_count": null,
      "outputs": []
    }
  ]
}