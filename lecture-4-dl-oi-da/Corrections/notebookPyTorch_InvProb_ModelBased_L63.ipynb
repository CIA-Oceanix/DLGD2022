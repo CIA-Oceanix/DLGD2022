{
  "nbformat": 4,
  "nbformat_minor": 0,
  "metadata": {
    "colab": {
      "name": "notebookPyTorch_InvProb_ModelBased_L63.ipynb",
      "provenance": [],
      "collapsed_sections": [
        "3xBXaOz7_gfA"
      ],
      "toc_visible": true,
      "authorship_tag": "ABX9TyPLfIUAfBhG7t/Lhfxa1h3P",
      "include_colab_link": true
    },
    "kernelspec": {
      "name": "python3",
      "display_name": "Python 3"
    },
    "accelerator": "GPU"
  },
  "cells": [
    {
      "cell_type": "markdown",
      "metadata": {
        "id": "view-in-github",
        "colab_type": "text"
      },
      "source": [
        "<a href=\"https://colab.research.google.com/github/CIA-Oceanix/DLGD2021/blob/main/lecture-5-inverse-problems/Corrections/notebookPyTorch_InvProb_ModelBased_L63.ipynb\" target=\"_parent\"><img src=\"https://colab.research.google.com/assets/colab-badge.svg\" alt=\"Open In Colab\"/></a>"
      ]
    },
    {
      "cell_type": "markdown",
      "metadata": {
        "id": "LVFqVy6OaZdL"
      },
      "source": [
        "**Notebook for the implementation of model-based inversion scheme**: Application to the Data Assimilation of Lorenz-63 dynamics given noisy and partial observations.\n",
        "\n",
        "We consider model-based formulation based on the following variational minimization\n",
        "$$\\arg \\min_x \\| x - y\\|^2_\\Omega + \\lambda \\|x-\\Phi(x)\\|^2 $$\n",
        "\n",
        "The notebook addresses two approaches which differ in the considered prior $\\Phi$\n",
        "*   *Weak-Constrained 4DVar formulation* with the true ODE-based prior: Pytorch implementation of the gradient descent. You need to code the computation of the gradient of tha variational cost using automatic differentiation tool.\n",
        "*   *Exploration of a pretrained plug-and-play prior*: Pytorch gradient descent with a PCA-based prior. You need to compute the loss for such a PCA-based prior. \n",
        "\n",
        "*Possible extensions*: (i) evaluation of the reconstruction performance depending on the considered observation setting (i.e., sampling and noise), (ii) intercomparison of different types of plug-and-play\n"
      ]
    },
    {
      "cell_type": "code",
      "metadata": {
        "id": "jEDUuvB92-Sr"
      },
      "source": [
        "import numpy as np\n",
        "import matplotlib.pyplot as plt \n",
        "import os\n",
        "import tensorflow.keras as keras\n",
        "\n",
        "import time\n",
        "import copy\n",
        "import torch\n",
        "import torch.optim as optim\n",
        "from torch.optim import lr_scheduler\n",
        "import torch.nn.functional as F\n",
        "\n",
        "from sklearn import decomposition"
      ],
      "execution_count": null,
      "outputs": []
    },
    {
      "cell_type": "code",
      "metadata": {
        "id": "OVn8gpSf3HA5",
        "colab": {
          "base_uri": "https://localhost:8080/"
        },
        "outputId": "5941024a-2ffa-4de6-d47c-dd04b529c95b"
      },
      "source": [
        "!pip install torchviz\n",
        "import torchviz"
      ],
      "execution_count": null,
      "outputs": [
        {
          "output_type": "stream",
          "name": "stdout",
          "text": [
            "Collecting torchviz\n",
            "  Downloading torchviz-0.0.2.tar.gz (4.9 kB)\n",
            "Requirement already satisfied: torch in /usr/local/lib/python3.7/dist-packages (from torchviz) (1.10.0+cu111)\n",
            "Requirement already satisfied: graphviz in /usr/local/lib/python3.7/dist-packages (from torchviz) (0.10.1)\n",
            "Requirement already satisfied: typing-extensions in /usr/local/lib/python3.7/dist-packages (from torch->torchviz) (3.10.0.2)\n",
            "Building wheels for collected packages: torchviz\n",
            "  Building wheel for torchviz (setup.py) ... \u001b[?25l\u001b[?25hdone\n",
            "  Created wheel for torchviz: filename=torchviz-0.0.2-py3-none-any.whl size=4151 sha256=c5002f8069a283a176624f6026fcb25ab4f2e0774a80d2032f5cf1317bc859c3\n",
            "  Stored in directory: /root/.cache/pip/wheels/04/38/f5/dc4f85c3909051823df49901e72015d2d750bd26b086480ec2\n",
            "Successfully built torchviz\n",
            "Installing collected packages: torchviz\n",
            "Successfully installed torchviz-0.0.2\n"
          ]
        }
      ]
    },
    {
      "cell_type": "markdown",
      "metadata": {
        "id": "h1FjHV_K3W9s"
      },
      "source": [
        "# L63 Data simulation"
      ]
    },
    {
      "cell_type": "code",
      "metadata": {
        "id": "SHqmY7kiqlqh",
        "colab": {
          "base_uri": "https://localhost:8080/",
          "height": 283
        },
        "outputId": "50b3df5f-7ca7-4e63-c912-1c1baddcfe32"
      },
      "source": [
        "#os.chdir('/content/drive/My Drive/Colab Notebooks/AnDA')\n",
        "from scipy.integrate import odeint\n",
        "from scipy.integrate import solve_ivp\n",
        "#from AnDA_codes.AnDA_dynamical_models import AnDA_Lorenz_63, AnDA_Lorenz_96\n",
        "\n",
        "def AnDA_Lorenz_63(S,t,sigma,rho,beta):\n",
        "    \"\"\" Lorenz-63 dynamical model. \"\"\"\n",
        "    x_1 = sigma*(S[1]-S[0]);\n",
        "    x_2 = S[0]*(rho-S[2])-S[1];\n",
        "    x_3 = S[0]*S[1] - beta*S[2];\n",
        "    dS  = np.array([x_1,x_2,x_3]);\n",
        "    return dS\n",
        "\n",
        "class GD:\n",
        "    model = 'Lorenz_63'\n",
        "    class parameters:\n",
        "        sigma = 10.0\n",
        "        rho = 28.0\n",
        "        beta = 8.0/3\n",
        "    dt_integration = 0.01 # integration time\n",
        "    dt_states = 1 # number of integeration times between consecutive states (for xt and catalog)\n",
        "    dt_obs = 8 # number of integration times between consecutive observations (for yo)\n",
        "    var_obs = np.array([0,1,2]) # indices of the observed variables\n",
        "    nb_loop_train = 10**2 # size of the catalog\n",
        "    nb_loop_test = 10000 # size of the true state and noisy observations\n",
        "    sigma2_catalog = 0.0 # variance of the model error to generate the catalog\n",
        "    sigma2_obs = 2.0 # variance of the observation error to generate observation\n",
        "\n",
        "GD = GD()    \n",
        "y0 = np.array([8.0,0.0,30.0])\n",
        "tt = np.arange(GD.dt_integration,GD.nb_loop_test*GD.dt_integration+0.000001,GD.dt_integration)\n",
        "#S = odeint(AnDA_Lorenz_63,x0,np.arange(0,5+0.000001,GD.dt_integration),args=(GD.parameters.sigma,GD.parameters.rho,GD.parameters.beta));\n",
        "S = solve_ivp(fun=lambda t,y: AnDA_Lorenz_63(y,t,GD.parameters.sigma,GD.parameters.rho,GD.parameters.beta),t_span=[0.,5+0.000001],y0=y0,first_step=GD.dt_integration,t_eval=np.arange(0,5+0.000001,GD.dt_integration),method='RK45')\n",
        "\n",
        "y0 = S.y[:,-1];\n",
        "S = solve_ivp(fun=lambda t,y: AnDA_Lorenz_63(y,t,GD.parameters.sigma,GD.parameters.rho,GD.parameters.beta),t_span=[0.01,GD.nb_loop_test+0.000001],y0=y0,first_step=GD.dt_integration,t_eval=tt,method='RK45')\n",
        "S = S.y.transpose()\n",
        "\n",
        "print(S.shape)\n",
        "plt.figure(1)\n",
        "for jj in range(0,3):\n",
        "  plt.subplot(131+jj)\n",
        "  plt.plot(S[:,jj])\n",
        "  \n",
        "class time_series:\n",
        "  values = 0.\n",
        "  time   = 0.\n",
        "  \n",
        "xt = time_series()\n",
        "xt.values = S\n",
        "xt.time   = tt"
      ],
      "execution_count": null,
      "outputs": [
        {
          "output_type": "stream",
          "name": "stdout",
          "text": [
            "(10000, 3)\n"
          ]
        },
        {
          "output_type": "display_data",
          "data": {
            "image/png": "[encoded data removed]",
            "text/plain": [
              "<Figure size 432x288 with 3 Axes>"
            ]
          },
          "metadata": {
            "needs_background": "light"
          }
        }
      ]
    },
    {
      "cell_type": "code",
      "metadata": {
        "id": "evPeYsgv0GOg",
        "colab": {
          "base_uri": "https://localhost:8080/"
        },
        "outputId": "254eb161-59a3-4e9d-efbe-efb0c633d6d5"
      },
      "source": [
        "####################################################\n",
        "## Generation of training and test dataset\n",
        "## Extraction of time series of dT time steps            \n",
        "NbTraining = 10000\n",
        "NbTest     = 2000#256\n",
        "time_step = 1\n",
        "dT        = 200\n",
        "sigNoise  = np.sqrt(2.0)\n",
        "rateMissingData = (1-1./8.)#0.75#0.95\n",
        "  \n",
        "xt = time_series()\n",
        "xt.values = S\n",
        "xt.time   = tt\n",
        "# extract subsequences\n",
        "dataTrainingNoNaN = image.extract_patches_2d(xt.values[0:7500:time_step,:],(dT,3),max_patches=NbTraining)\n",
        "dataTestNoNaN     = image.extract_patches_2d(xt.values[8000::time_step,:],(dT,3),max_patches=NbTest)\n",
        "\n",
        "# create missing data\n",
        "flagTypeMissData = 1\n",
        "if flagTypeMissData == 0:\n",
        "    print('..... Observation pattern: Random sampling of osberved L63 components')\n",
        "    indRand         = np.random.permutation(dataTrainingNoNaN.shape[0]*dataTrainingNoNaN.shape[1]*dataTrainingNoNaN.shape[2])\n",
        "    indRand         = indRand[0:int(rateMissingData*len(indRand))]\n",
        "    dataTraining    = np.copy(dataTrainingNoNaN).reshape((dataTrainingNoNaN.shape[0]*dataTrainingNoNaN.shape[1]*dataTrainingNoNaN.shape[2],1))\n",
        "    dataTraining[indRand] = float('nan')\n",
        "    dataTraining    = np.reshape(dataTraining,(dataTrainingNoNaN.shape[0],dataTrainingNoNaN.shape[1],dataTrainingNoNaN.shape[2]))\n",
        "    \n",
        "    indRand         = np.random.permutation(dataTestNoNaN.shape[0]*dataTestNoNaN.shape[1]*dataTestNoNaN.shape[2])\n",
        "    indRand         = indRand[0:int(rateMissingData*len(indRand))]\n",
        "    dataTest        = np.copy(dataTestNoNaN).reshape((dataTestNoNaN.shape[0]*dataTestNoNaN.shape[1]*dataTestNoNaN.shape[2],1))\n",
        "    dataTest[indRand] = float('nan')\n",
        "    dataTest          = np.reshape(dataTest,(dataTestNoNaN.shape[0],dataTestNoNaN.shape[1],dataTestNoNaN.shape[2]))\n",
        "\n",
        "    genSuffixObs    = '_ObsRnd_%02d_%02d'%(100*rateMissingData,10*sigNoise**2)\n",
        "elif flagTypeMissData == 2:\n",
        "    print('..... Observation pattern: Only the first L63 component is osberved')\n",
        "    time_step_obs   = int(1./(1.-rateMissingData))\n",
        "    dataTraining    = np.zeros((dataTrainingNoNaN.shape))\n",
        "    dataTraining[:] = float('nan')\n",
        "    dataTraining[:,::time_step_obs,0] = dataTrainingNoNaN[:,::time_step_obs,0]\n",
        "    \n",
        "    dataTest    = np.zeros((dataTestNoNaN.shape))\n",
        "    dataTest[:] = float('nan')\n",
        "    dataTest[:,::time_step_obs,0] = dataTestNoNaN[:,::time_step_obs,0]\n",
        "\n",
        "    genSuffixObs    = '_ObsDim0_%02d_%02d'%(100*rateMissingData,10*sigNoise**2)\n",
        "   \n",
        "else:\n",
        "    print('..... Observation pattern: All  L63 components osberved')\n",
        "    time_step_obs   = int(1./(1.-rateMissingData))\n",
        "    dataTraining    = np.zeros((dataTrainingNoNaN.shape))\n",
        "    dataTraining[:] = float('nan')\n",
        "    dataTraining[:,::time_step_obs,:] = dataTrainingNoNaN[:,::time_step_obs,:]\n",
        "    \n",
        "    dataTest    = np.zeros((dataTestNoNaN.shape))\n",
        "    dataTest[:] = float('nan')\n",
        "    dataTest[:,::time_step_obs,:] = dataTestNoNaN[:,::time_step_obs,:]\n",
        "\n",
        "    genSuffixObs    = '_ObsSub_%02d_%02d'%(100*rateMissingData,10*sigNoise**2)\n",
        "    \n",
        "# set to NaN patch boundaries\n",
        "dataTraining[:,0:10,:] =  float('nan')\n",
        "dataTest[:,0:10,:]     =  float('nan')\n",
        "dataTraining[:,dT-10:dT,:] =  float('nan')\n",
        "dataTest[:,dT-10:dT,:]     =  float('nan')\n",
        "\n",
        "# mask for NaN\n",
        "maskTraining = (dataTraining == dataTraining).astype('float')\n",
        "maskTest     = ( dataTest    ==  dataTest   ).astype('float')\n",
        "\n",
        "dataTraining = np.nan_to_num(dataTraining)\n",
        "dataTest     = np.nan_to_num(dataTest)\n",
        "\n",
        "# Permutation to have channel as #1 component\n",
        "dataTraining      = np.moveaxis(dataTraining,-1,1)\n",
        "maskTraining      = np.moveaxis(maskTraining,-1,1)\n",
        "dataTrainingNoNaN = np.moveaxis(dataTrainingNoNaN,-1,1)\n",
        "\n",
        "dataTest      = np.moveaxis(dataTest,-1,1)\n",
        "maskTest      = np.moveaxis(maskTest,-1,1)\n",
        "dataTestNoNaN = np.moveaxis(dataTestNoNaN,-1,1)\n",
        "\n",
        "# set to NaN patch boundaries\n",
        "#dataTraining[:,0:5,:] =  dataTrainingNoNaN[:,0:5,:]\n",
        "#dataTest[:,0:5,:]     =  dataTestNoNaN[:,0:5,:]\n",
        "\n",
        "############################################\n",
        "## raw data\n",
        "X_train         = dataTrainingNoNaN\n",
        "X_train_missing = dataTraining\n",
        "mask_train      = maskTraining\n",
        "\n",
        "X_test         = dataTestNoNaN\n",
        "X_test_missing = dataTest\n",
        "mask_test      = maskTest\n",
        "\n",
        "############################################\n",
        "## normalized data\n",
        "meanTr          = np.mean(X_train_missing[:]) / np.mean(mask_train) \n",
        "stdTr           = np.sqrt( np.mean( (X_train_missing-meanTr)**2 ) / np.mean(mask_train) )\n",
        "\n",
        "if flagTypeMissData == 2:\n",
        "    meanTr          = np.mean(X_train[:]) \n",
        "    stdTr           = np.sqrt( np.mean( (X_train-meanTr)**2 ) )\n",
        "\n",
        "x_train_missing = ( X_train_missing - meanTr ) / stdTr\n",
        "x_test_missing  = ( X_test_missing - meanTr ) / stdTr\n",
        "\n",
        "# scale wrt std\n",
        "\n",
        "x_train = (X_train - meanTr) / stdTr\n",
        "x_test  = (X_test - meanTr) / stdTr\n",
        "\n",
        "print('.... MeanTr = %.3f --- StdTr = %.3f '%(meanTr,stdTr))\n",
        "\n",
        "# Generate noisy observsation\n",
        "X_train_obs = X_train_missing + sigNoise * maskTraining * np.random.randn(X_train_missing.shape[0],X_train_missing.shape[1],X_train_missing.shape[2])\n",
        "X_test_obs  = X_test_missing  + sigNoise * maskTest * np.random.randn(X_test_missing.shape[0],X_test_missing.shape[1],X_test_missing.shape[2])\n",
        "\n",
        "x_train_obs = (X_train_obs - meanTr) / stdTr\n",
        "x_test_obs  = (X_test_obs - meanTr) / stdTr\n",
        "\n",
        "print('..... Training dataset: %dx%dx%d'%(x_train.shape[0],x_train.shape[1],x_train.shape[2]))\n",
        "print('..... Test dataset    : %dx%dx%d'%(x_test.shape[0],x_test.shape[1],x_test.shape[2]))\n"
      ],
      "execution_count": null,
      "outputs": [
        {
          "output_type": "stream",
          "name": "stdout",
          "text": [
            "..... Observation pattern: All  L63 components osberved\n",
            ".... MeanTr = 8.468 --- StdTr = 27.698 \n",
            "..... Training dataset: 7301x3x200\n",
            "..... Test dataset    : 1801x3x200\n"
          ]
        }
      ]
    },
    {
      "cell_type": "code",
      "metadata": {
        "id": "pZSjh6fTsHRf",
        "colab": {
          "base_uri": "https://localhost:8080/",
          "height": 265
        },
        "outputId": "0e6cfdcb-2c0b-4f47-ba4a-c9c9531541ae"
      },
      "source": [
        "# Visualisation\n",
        "plt.figure(1)\n",
        "for jj in range(0,3):\n",
        "  indjj = 131+jj\n",
        "  plt.subplot(indjj)\n",
        "  plt.plot(X_train[20,jj,:],'b-')\n",
        "  plt.plot(X_train_obs[20,jj,:],'k.')"
      ],
      "execution_count": null,
      "outputs": [
        {
          "output_type": "display_data",
          "data": {
            "image/png": "[encoded data removed]",
            "text/plain": [
              "<Figure size 432x288 with 3 Axes>"
            ]
          },
          "metadata": {
            "needs_background": "light"
          }
        }
      ]
    },
    {
      "cell_type": "code",
      "metadata": {
        "id": "dvwMvw3XAbcf",
        "colab": {
          "base_uri": "https://localhost:8080/",
          "height": 269
        },
        "outputId": "b838a0bc-5fa9-455b-eae3-fbfe32ee16de"
      },
      "source": [
        "# Initial interpolation (linear interpolation or zeros) for missing data\n",
        "\n",
        "import scipy\n",
        "\n",
        "mx_train = np.sum( np.sum( X_train , axis = 2 ) , axis = 0 ) / (X_train.shape[0]*X_train.shape[2])\n",
        "\n",
        "flagInit = 1\n",
        "\n",
        "if flagInit == 0: \n",
        "  X_train_Init = mask_train * X_train_obs + (1. - mask_train) * (np.zeros(X_train_missing.shape) + meanTr)\n",
        "  X_test_Init  = mask_test * X_test_obs + (1. - mask_test) * (np.zeros(X_test_missing.shape) + meanTr)\n",
        "else:\n",
        "  X_train_Init = np.zeros(X_train.shape)\n",
        "  for ii in range(0,X_train.shape[0]):\n",
        "    # Initial linear interpolation for each component\n",
        "    XInit = np.zeros((X_train.shape[1],X_train.shape[2]))\n",
        "\n",
        "    for kk in range(0,3):\n",
        "      indt  = np.where( mask_train[ii,kk,:] == 1.0 )[0]\n",
        "      indt_ = np.where( mask_train[ii,kk,:] == 0.0 )[0]\n",
        "\n",
        "      if len(indt) > 1:\n",
        "        indt_[ np.where( indt_ < np.min(indt)) ] = np.min(indt)\n",
        "        indt_[ np.where( indt_ > np.max(indt)) ] = np.max(indt)\n",
        "        fkk = scipy.interpolate.interp1d(indt, X_train_obs[ii,kk,indt])\n",
        "        XInit[kk,indt]  = X_train_obs[ii,kk,indt]\n",
        "        XInit[kk,indt_] = fkk(indt_)\n",
        "      else:\n",
        "        XInit[kk,:] = XInit[kk,:] + mx_train[kk]\n",
        "\n",
        "    X_train_Init[ii,:,:] = XInit\n",
        "\n",
        "  X_test_Init = np.zeros(X_test.shape)\n",
        "  for ii in range(0,X_test.shape[0]):\n",
        "    # Initial linear interpolation for each component\n",
        "    XInit = np.zeros((X_test.shape[1],X_test.shape[2]))\n",
        "\n",
        "    for kk in range(0,3):\n",
        "      indt  = np.where( mask_test[ii,kk,:] == 1.0 )[0]\n",
        "      indt_ = np.where( mask_test[ii,kk,:] == 0.0 )[0]\n",
        "\n",
        "      if len(indt) > 1:\n",
        "        indt_[ np.where( indt_ < np.min(indt)) ] = np.min(indt)\n",
        "        indt_[ np.where( indt_ > np.max(indt)) ] = np.max(indt)\n",
        "        fkk = scipy.interpolate.interp1d(indt, X_test_obs[ii,kk,indt])\n",
        "        XInit[kk,indt]  = X_test_obs[ii,kk,indt]\n",
        "        XInit[kk,indt_] = fkk(indt_)\n",
        "      else:\n",
        "        XInit[kk,:] = XInit[kk,:] + mx_train[kk]\n",
        "\n",
        "    X_test_Init[ii,:,:] = XInit\n",
        "\n",
        "\n",
        "x_train_Init = ( X_train_Init - meanTr ) / stdTr\n",
        "x_test_Init = ( X_test_Init - meanTr ) / stdTr\n",
        "\n",
        "\n",
        "if 1*1:\n",
        "  plt.figure()\n",
        "  plt.subplot(1,2,1)\n",
        "  plt.plot(X_train_Init[20,0,:],'b-')\n",
        "  plt.plot(X_train[20,0,:],'m-')\n",
        "  #plt.plot(XInit[:,0],'r-')\n",
        "  plt.plot(X_train_obs[20,0,:],'k.')\n",
        "  plt.subplot(1,2,2)\n",
        "  plt.plot(X_test_Init[20,0,:],'b-')\n",
        "  plt.plot(X_test[20,0,:],'m-')\n",
        "  #plt.plot(XInit[:,0],'r-')\n",
        "  plt.plot(X_test_obs[20,0,:],'k.')"
      ],
      "execution_count": null,
      "outputs": [
        {
          "output_type": "display_data",
          "data": {
            "image/png": "[encoded data removed]",
            "text/plain": [
              "<Figure size 432x288 with 2 Axes>"
            ]
          },
          "metadata": {
            "needs_background": "light"
          }
        }
      ]
    },
    {
      "cell_type": "markdown",
      "metadata": {
        "id": "vhKugE5VpyZc"
      },
      "source": [
        "# Explicit Euler ODE scheme in Pytorch\n",
        "\n"
      ]
    },
    {
      "cell_type": "code",
      "metadata": {
        "id": "dJEhltDDu1Nm"
      },
      "source": [
        "# define forward model (Euler)\n",
        "class ODE_L63(torch.nn.Module):\n",
        "    def __init__(self,sigma,rho,beta):\n",
        "        super(ODE_L63, self).__init__()\n",
        "        self.sigma = sigma\n",
        "        self.rho   = rho\n",
        "        self.beta  = beta\n",
        "\n",
        "    def forward(self, x):\n",
        "      x_1 = (self.sigma*(x[:,1]-x[:,0])).view(-1,1)\n",
        "      x_2 = (x[:,0]*(self.rho-x[:,2])-x[:,1]).view(-1,1)\n",
        "      x_3 = (x[:,0]*x[:,1] - self.beta*x[:,2]).view(-1,1)\n",
        "\n",
        "      return torch.cat((x_1,x_2,x_3),dim=1)"
      ],
      "execution_count": null,
      "outputs": []
    },
    {
      "cell_type": "code",
      "metadata": {
        "id": "HhBYtJChPg5s"
      },
      "source": [
        "ii = 100\n",
        "\n",
        "# create torch tensors for observations and hidden states\n",
        "XGT_torch  = torch.Tensor( X_train[ii,:,:].squeeze().transpose() )\n",
        "YObs_torch = torch.Tensor( X_train_obs[ii,:,:].squeeze().transpose() )\n",
        "M_torch    = torch.Tensor( mask_train[ii,:,:].squeeze().transpose() )\n",
        "\n",
        "# Initialisation\n",
        "X_torch    = torch.Tensor( X_train_Init[ii,:,:].squeeze().transpose() )"
      ],
      "execution_count": null,
      "outputs": []
    },
    {
      "cell_type": "code",
      "metadata": {
        "id": "5bAbiiAuymNl",
        "colab": {
          "base_uri": "https://localhost:8080/",
          "height": 284
        },
        "outputId": "f9161c72-2242-4015-cfc6-1c4a9101e90a"
      },
      "source": [
        "# check model simulation through an Euler integration scheme\n",
        "ode_L63 = ODE_L63(10.,28.,8./3)\n",
        "\n",
        "x0 = XGT_torch[0,:]\n",
        "dt = 0.01\n",
        "\n",
        "Xsim = []\n",
        "for nn in range(0,100):\n",
        "  if nn == 0:\n",
        "    xt = x0\n",
        "  xnew = xt + dt * ode_L63(xt.view(-1,3))\n",
        "  if nn == 0:\n",
        "    Xsim = xnew\n",
        "  else:\n",
        "    Xsim = torch.cat((Xsim,xnew),axis=0)\n",
        "    xt   = xnew\n",
        "\n",
        "plt.figure()\n",
        "plt.plot(Xsim.cpu().detach().numpy()[:,1],'r-')\n",
        "plt.plot(XGT_torch.cpu().detach().numpy()[0:100,1],'b-')"
      ],
      "execution_count": null,
      "outputs": [
        {
          "output_type": "execute_result",
          "data": {
            "text/plain": [
              "[<matplotlib.lines.Line2D at 0x7fd07114e5d0>]"
            ]
          },
          "metadata": {},
          "execution_count": 43
        },
        {
          "output_type": "display_data",
          "data": {
            "image/png": "[encoded data removed]",
            "text/plain": [
              "<Figure size 432x288 with 1 Axes>"
            ]
          },
          "metadata": {
            "needs_background": "light"
          }
        }
      ]
    },
    {
      "cell_type": "markdown",
      "metadata": {
        "id": "8y3Ajptyk0rT"
      },
      "source": [
        "# (Weak-constrained) 4DVar DA  Pytorch "
      ]
    },
    {
      "cell_type": "code",
      "metadata": {
        "id": "yXaEHBbg0lUb",
        "colab": {
          "base_uri": "https://localhost:8080/"
        },
        "outputId": "4bcc260d-1881-45bc-8e55-d1a43973ba6e"
      },
      "source": [
        "# 4DVAR assimilation\n",
        "device  = torch.device(\"cuda\" if torch.cuda.is_available() else \"cpu\")\n",
        "\n",
        "# assignment to GPU\n",
        "ode_L63 = ODE_L63(10.,28.,8./3)\n",
        "ode_L63 = ode_L63.to(device)\n",
        "\n",
        "# assimilation loop\n",
        "t0    = 0\n",
        "dt    = 0.01\n",
        "dT    = X_torch.size(0)\n",
        "NIter = 20000\n",
        "alpha = 0.99\n",
        "delta = 0.2\n",
        "\n",
        "X_torch = torch.autograd.Variable(X_torch, requires_grad=True)\n",
        "\n",
        "for iter in range(0,NIter):\n",
        "\n",
        "  # compute losses\n",
        "  with torch.set_grad_enabled(True): \n",
        "    # dynamical loss\n",
        "    x_pred   = X_torch[t0:t0+dT-1,:] + dt * ode_L63(X_torch[t0:t0+dT-1,:])\n",
        "    loss_dyn = torch.sum((X_torch[t0+1:t0+dT,:] - x_pred)**2 )\n",
        "\n",
        "    # observation loss\n",
        "    loss_obs = torch.sum((X_torch - YObs_torch)**2 * M_torch )\n",
        "\n",
        "    # overall loss\n",
        "    loss = (1.-alpha) * loss_obs + alpha * loss_dyn \n",
        "\n",
        "    if( np.mod(iter,100) == 0 ):\n",
        "      print(\".... iter %d: loss %.3f dyn_loss %.3f obs_loss %.3f\"%(iter,loss,loss_dyn,loss_obs))  \n",
        "\n",
        "    # compute gradient w.r.t. X and update X\n",
        "    loss.backward()\n",
        "    X_torch = X_torch - delta * X_torch.grad.data\n",
        "    \n",
        "    #grad_X  = torch.autograd.grad(loss,X_torch,create_graph=True)\n",
        "    #X_torch = X_torch - delta * grad_X[0]\n",
        " \n",
        "    X_torch = torch.autograd.Variable(X_torch, requires_grad=True)\n"
      ],
      "execution_count": null,
      "outputs": [
        {
          "output_type": "stream",
          "name": "stdout",
          "text": [
            ".... iter 0: loss 2546.374 dyn_loss 2572.095 obs_loss 0.000\n",
            ".... iter 100: loss 71.281 dyn_loss 64.721 obs_loss 720.742\n",
            ".... iter 200: loss 43.593 dyn_loss 35.954 obs_loss 799.821\n",
            ".... iter 300: loss 31.410 dyn_loss 23.425 obs_loss 821.936\n",
            ".... iter 400: loss 24.464 dyn_loss 16.431 obs_loss 819.737\n",
            ".... iter 500: loss 20.017 dyn_loss 12.069 obs_loss 806.826\n",
            ".... iter 600: loss 16.993 dyn_loss 9.198 obs_loss 788.718\n",
            ".... iter 700: loss 14.851 dyn_loss 7.245 obs_loss 767.840\n",
            ".... iter 800: loss 13.280 dyn_loss 5.884 obs_loss 745.434\n",
            ".... iter 900: loss 12.087 dyn_loss 4.914 obs_loss 722.248\n",
            ".... iter 1000: loss 11.151 dyn_loss 4.206 obs_loss 698.785\n",
            ".... iter 1100: loss 10.394 dyn_loss 3.676 obs_loss 675.402\n",
            ".... iter 1200: loss 9.762 dyn_loss 3.271 obs_loss 652.357\n",
            ".... iter 1300: loss 9.223 dyn_loss 2.954 obs_loss 629.834\n",
            ".... iter 1400: loss 8.752 dyn_loss 2.699 obs_loss 607.962\n",
            ".... iter 1500: loss 8.334 dyn_loss 2.490 obs_loss 586.826\n",
            ".... iter 1600: loss 7.957 dyn_loss 2.316 obs_loss 566.483\n",
            ".... iter 1700: loss 7.615 dyn_loss 2.167 obs_loss 546.965\n",
            ".... iter 1800: loss 7.301 dyn_loss 2.038 obs_loss 528.283\n",
            ".... iter 1900: loss 7.010 dyn_loss 1.925 obs_loss 510.439\n",
            ".... iter 2000: loss 6.741 dyn_loss 1.825 obs_loss 493.422\n",
            ".... iter 2100: loss 6.489 dyn_loss 1.734 obs_loss 477.216\n",
            ".... iter 2200: loss 6.254 dyn_loss 1.653 obs_loss 461.798\n",
            ".... iter 2300: loss 6.034 dyn_loss 1.578 obs_loss 447.142\n",
            ".... iter 2400: loss 5.827 dyn_loss 1.510 obs_loss 433.220\n",
            ".... iter 2500: loss 5.632 dyn_loss 1.447 obs_loss 420.003\n",
            ".... iter 2600: loss 5.449 dyn_loss 1.388 obs_loss 407.459\n",
            ".... iter 2700: loss 5.276 dyn_loss 1.334 obs_loss 395.559\n",
            ".... iter 2800: loss 5.113 dyn_loss 1.283 obs_loss 384.272\n",
            ".... iter 2900: loss 4.959 dyn_loss 1.236 obs_loss 373.569\n",
            ".... iter 3000: loss 4.813 dyn_loss 1.191 obs_loss 363.420\n",
            ".... iter 3100: loss 4.676 dyn_loss 1.149 obs_loss 353.799\n",
            ".... iter 3200: loss 4.545 dyn_loss 1.110 obs_loss 344.677\n",
            ".... iter 3300: loss 4.422 dyn_loss 1.072 obs_loss 336.029\n",
            ".... iter 3400: loss 4.305 dyn_loss 1.037 obs_loss 327.831\n",
            ".... iter 3500: loss 4.195 dyn_loss 1.004 obs_loss 320.058\n",
            ".... iter 3600: loss 4.090 dyn_loss 0.973 obs_loss 312.688\n",
            ".... iter 3700: loss 3.990 dyn_loss 0.943 obs_loss 305.700\n",
            ".... iter 3800: loss 3.896 dyn_loss 0.914 obs_loss 299.073\n",
            ".... iter 3900: loss 3.807 dyn_loss 0.888 obs_loss 292.788\n",
            ".... iter 4000: loss 3.722 dyn_loss 0.862 obs_loss 286.826\n",
            ".... iter 4100: loss 3.641 dyn_loss 0.838 obs_loss 281.170\n",
            ".... iter 4200: loss 3.565 dyn_loss 0.815 obs_loss 275.804\n",
            ".... iter 4300: loss 3.492 dyn_loss 0.793 obs_loss 270.712\n",
            ".... iter 4400: loss 3.423 dyn_loss 0.772 obs_loss 265.879\n",
            ".... iter 4500: loss 3.357 dyn_loss 0.752 obs_loss 261.291\n",
            ".... iter 4600: loss 3.295 dyn_loss 0.733 obs_loss 256.935\n",
            ".... iter 4700: loss 3.236 dyn_loss 0.715 obs_loss 252.798\n",
            ".... iter 4800: loss 3.179 dyn_loss 0.698 obs_loss 248.868\n",
            ".... iter 4900: loss 3.126 dyn_loss 0.681 obs_loss 245.135\n",
            ".... iter 5000: loss 3.075 dyn_loss 0.666 obs_loss 241.587\n",
            ".... iter 5100: loss 3.026 dyn_loss 0.651 obs_loss 238.215\n",
            ".... iter 5200: loss 2.980 dyn_loss 0.636 obs_loss 235.009\n",
            ".... iter 5300: loss 2.936 dyn_loss 0.623 obs_loss 231.959\n",
            ".... iter 5400: loss 2.894 dyn_loss 0.609 obs_loss 229.058\n",
            ".... iter 5500: loss 2.854 dyn_loss 0.597 obs_loss 226.298\n",
            ".... iter 5600: loss 2.816 dyn_loss 0.585 obs_loss 223.671\n",
            ".... iter 5700: loss 2.780 dyn_loss 0.574 obs_loss 221.169\n",
            ".... iter 5800: loss 2.745 dyn_loss 0.563 obs_loss 218.787\n",
            ".... iter 5900: loss 2.712 dyn_loss 0.552 obs_loss 216.517\n",
            ".... iter 6000: loss 2.680 dyn_loss 0.542 obs_loss 214.353\n",
            ".... iter 6100: loss 2.650 dyn_loss 0.533 obs_loss 212.290\n",
            ".... iter 6200: loss 2.622 dyn_loss 0.524 obs_loss 210.323\n",
            ".... iter 6300: loss 2.594 dyn_loss 0.515 obs_loss 208.446\n",
            ".... iter 6400: loss 2.568 dyn_loss 0.506 obs_loss 206.654\n",
            ".... iter 6500: loss 2.543 dyn_loss 0.498 obs_loss 204.943\n",
            ".... iter 6600: loss 2.519 dyn_loss 0.491 obs_loss 203.309\n",
            ".... iter 6700: loss 2.496 dyn_loss 0.483 obs_loss 201.747\n",
            ".... iter 6800: loss 2.474 dyn_loss 0.476 obs_loss 200.253\n",
            ".... iter 6900: loss 2.453 dyn_loss 0.469 obs_loss 198.825\n",
            ".... iter 7000: loss 2.433 dyn_loss 0.463 obs_loss 197.458\n",
            ".... iter 7100: loss 2.413 dyn_loss 0.457 obs_loss 196.149\n",
            ".... iter 7200: loss 2.395 dyn_loss 0.451 obs_loss 194.896\n",
            ".... iter 7300: loss 2.377 dyn_loss 0.445 obs_loss 193.694\n",
            ".... iter 7400: loss 2.360 dyn_loss 0.439 obs_loss 192.542\n",
            ".... iter 7500: loss 2.344 dyn_loss 0.434 obs_loss 191.437\n",
            ".... iter 7600: loss 2.328 dyn_loss 0.429 obs_loss 190.376\n",
            ".... iter 7700: loss 2.313 dyn_loss 0.424 obs_loss 189.358\n",
            ".... iter 7800: loss 2.299 dyn_loss 0.419 obs_loss 188.379\n",
            ".... iter 7900: loss 2.285 dyn_loss 0.415 obs_loss 187.438\n",
            ".... iter 8000: loss 2.271 dyn_loss 0.410 obs_loss 186.533\n",
            ".... iter 8100: loss 2.259 dyn_loss 0.406 obs_loss 185.662\n",
            ".... iter 8200: loss 2.246 dyn_loss 0.402 obs_loss 184.823\n",
            ".... iter 8300: loss 2.234 dyn_loss 0.398 obs_loss 184.014\n",
            ".... iter 8400: loss 2.223 dyn_loss 0.394 obs_loss 183.235\n",
            ".... iter 8500: loss 2.212 dyn_loss 0.391 obs_loss 182.483\n",
            ".... iter 8600: loss 2.201 dyn_loss 0.387 obs_loss 181.757\n",
            ".... iter 8700: loss 2.191 dyn_loss 0.384 obs_loss 181.056\n",
            ".... iter 8800: loss 2.181 dyn_loss 0.381 obs_loss 180.378\n",
            ".... iter 8900: loss 2.171 dyn_loss 0.378 obs_loss 179.723\n",
            ".... iter 9000: loss 2.162 dyn_loss 0.375 obs_loss 179.089\n",
            ".... iter 9100: loss 2.153 dyn_loss 0.372 obs_loss 178.475\n",
            ".... iter 9200: loss 2.144 dyn_loss 0.369 obs_loss 177.880\n",
            ".... iter 9300: loss 2.136 dyn_loss 0.366 obs_loss 177.304\n",
            ".... iter 9400: loss 2.128 dyn_loss 0.364 obs_loss 176.744\n",
            ".... iter 9500: loss 2.120 dyn_loss 0.361 obs_loss 176.201\n",
            ".... iter 9600: loss 2.112 dyn_loss 0.359 obs_loss 175.674\n",
            ".... iter 9700: loss 2.105 dyn_loss 0.357 obs_loss 175.162\n",
            ".... iter 9800: loss 2.097 dyn_loss 0.354 obs_loss 174.663\n",
            ".... iter 9900: loss 2.090 dyn_loss 0.352 obs_loss 174.178\n",
            ".... iter 10000: loss 2.084 dyn_loss 0.350 obs_loss 173.707\n",
            ".... iter 10100: loss 2.077 dyn_loss 0.348 obs_loss 173.247\n",
            ".... iter 10200: loss 2.071 dyn_loss 0.346 obs_loss 172.799\n",
            ".... iter 10300: loss 2.064 dyn_loss 0.344 obs_loss 172.362\n",
            ".... iter 10400: loss 2.058 dyn_loss 0.342 obs_loss 171.935\n",
            ".... iter 10500: loss 2.052 dyn_loss 0.340 obs_loss 171.519\n",
            ".... iter 10600: loss 2.046 dyn_loss 0.339 obs_loss 171.112\n",
            ".... iter 10700: loss 2.041 dyn_loss 0.337 obs_loss 170.715\n",
            ".... iter 10800: loss 2.035 dyn_loss 0.335 obs_loss 170.326\n",
            ".... iter 10900: loss 2.030 dyn_loss 0.334 obs_loss 169.946\n",
            ".... iter 11000: loss 2.025 dyn_loss 0.332 obs_loss 169.574\n",
            ".... iter 11100: loss 2.020 dyn_loss 0.331 obs_loss 169.209\n",
            ".... iter 11200: loss 2.015 dyn_loss 0.329 obs_loss 168.852\n",
            ".... iter 11300: loss 2.010 dyn_loss 0.328 obs_loss 168.502\n",
            ".... iter 11400: loss 2.005 dyn_loss 0.327 obs_loss 168.158\n",
            ".... iter 11500: loss 2.000 dyn_loss 0.325 obs_loss 167.822\n",
            ".... iter 11600: loss 1.996 dyn_loss 0.324 obs_loss 167.491\n",
            ".... iter 11700: loss 1.991 dyn_loss 0.323 obs_loss 167.166\n",
            ".... iter 11800: loss 1.987 dyn_loss 0.322 obs_loss 166.847\n",
            ".... iter 11900: loss 1.983 dyn_loss 0.321 obs_loss 166.533\n",
            ".... iter 12000: loss 1.979 dyn_loss 0.320 obs_loss 166.225\n",
            ".... iter 12100: loss 1.974 dyn_loss 0.318 obs_loss 165.921\n",
            ".... iter 12200: loss 1.970 dyn_loss 0.317 obs_loss 165.623\n",
            ".... iter 12300: loss 1.966 dyn_loss 0.316 obs_loss 165.329\n",
            ".... iter 12400: loss 1.963 dyn_loss 0.315 obs_loss 165.040\n",
            ".... iter 12500: loss 1.959 dyn_loss 0.314 obs_loss 164.755\n",
            ".... iter 12600: loss 1.955 dyn_loss 0.313 obs_loss 164.474\n",
            ".... iter 12700: loss 1.951 dyn_loss 0.312 obs_loss 164.198\n",
            ".... iter 12800: loss 1.948 dyn_loss 0.312 obs_loss 163.925\n",
            ".... iter 12900: loss 1.944 dyn_loss 0.311 obs_loss 163.656\n",
            ".... iter 13000: loss 1.941 dyn_loss 0.310 obs_loss 163.391\n",
            ".... iter 13100: loss 1.937 dyn_loss 0.309 obs_loss 163.129\n",
            ".... iter 13200: loss 1.934 dyn_loss 0.308 obs_loss 162.870\n",
            ".... iter 13300: loss 1.930 dyn_loss 0.307 obs_loss 162.615\n",
            ".... iter 13400: loss 1.927 dyn_loss 0.307 obs_loss 162.363\n",
            ".... iter 13500: loss 1.924 dyn_loss 0.306 obs_loss 162.115\n",
            ".... iter 13600: loss 1.921 dyn_loss 0.305 obs_loss 161.869\n",
            ".... iter 13700: loss 1.918 dyn_loss 0.304 obs_loss 161.626\n",
            ".... iter 13800: loss 1.914 dyn_loss 0.304 obs_loss 161.386\n",
            ".... iter 13900: loss 1.911 dyn_loss 0.303 obs_loss 161.149\n",
            ".... iter 14000: loss 1.908 dyn_loss 0.302 obs_loss 160.914\n",
            ".... iter 14100: loss 1.905 dyn_loss 0.302 obs_loss 160.683\n",
            ".... iter 14200: loss 1.903 dyn_loss 0.301 obs_loss 160.453\n",
            ".... iter 14300: loss 1.900 dyn_loss 0.300 obs_loss 160.227\n",
            ".... iter 14400: loss 1.897 dyn_loss 0.300 obs_loss 160.002\n",
            ".... iter 14500: loss 1.894 dyn_loss 0.299 obs_loss 159.780\n",
            ".... iter 14600: loss 1.891 dyn_loss 0.299 obs_loss 159.560\n",
            ".... iter 14700: loss 1.888 dyn_loss 0.298 obs_loss 159.343\n",
            ".... iter 14800: loss 1.886 dyn_loss 0.297 obs_loss 159.128\n",
            ".... iter 14900: loss 1.883 dyn_loss 0.297 obs_loss 158.915\n",
            ".... iter 15000: loss 1.880 dyn_loss 0.296 obs_loss 158.704\n",
            ".... iter 15100: loss 1.878 dyn_loss 0.296 obs_loss 158.495\n",
            ".... iter 15200: loss 1.875 dyn_loss 0.295 obs_loss 158.288\n",
            ".... iter 15300: loss 1.873 dyn_loss 0.295 obs_loss 158.083\n",
            ".... iter 15400: loss 1.870 dyn_loss 0.294 obs_loss 157.880\n",
            ".... iter 15500: loss 1.868 dyn_loss 0.294 obs_loss 157.679\n",
            ".... iter 15600: loss 1.865 dyn_loss 0.293 obs_loss 157.480\n",
            ".... iter 15700: loss 1.863 dyn_loss 0.293 obs_loss 157.283\n",
            ".... iter 15800: loss 1.860 dyn_loss 0.292 obs_loss 157.087\n",
            ".... iter 15900: loss 1.858 dyn_loss 0.292 obs_loss 156.894\n",
            ".... iter 16000: loss 1.856 dyn_loss 0.292 obs_loss 156.702\n",
            ".... iter 16100: loss 1.853 dyn_loss 0.291 obs_loss 156.511\n",
            ".... iter 16200: loss 1.851 dyn_loss 0.291 obs_loss 156.323\n",
            ".... iter 16300: loss 1.849 dyn_loss 0.290 obs_loss 156.136\n",
            ".... iter 16400: loss 1.847 dyn_loss 0.290 obs_loss 155.951\n",
            ".... iter 16500: loss 1.844 dyn_loss 0.290 obs_loss 155.767\n",
            ".... iter 16600: loss 1.842 dyn_loss 0.289 obs_loss 155.585\n",
            ".... iter 16700: loss 1.840 dyn_loss 0.289 obs_loss 155.405\n",
            ".... iter 16800: loss 1.838 dyn_loss 0.288 obs_loss 155.226\n",
            ".... iter 16900: loss 1.836 dyn_loss 0.288 obs_loss 155.049\n",
            ".... iter 17000: loss 1.833 dyn_loss 0.288 obs_loss 154.873\n",
            ".... iter 17100: loss 1.831 dyn_loss 0.287 obs_loss 154.699\n",
            ".... iter 17200: loss 1.829 dyn_loss 0.287 obs_loss 154.526\n",
            ".... iter 17300: loss 1.827 dyn_loss 0.287 obs_loss 154.355\n",
            ".... iter 17400: loss 1.825 dyn_loss 0.286 obs_loss 154.185\n",
            ".... iter 17500: loss 1.823 dyn_loss 0.286 obs_loss 154.016\n",
            ".... iter 17600: loss 1.821 dyn_loss 0.286 obs_loss 153.849\n",
            ".... iter 17700: loss 1.819 dyn_loss 0.285 obs_loss 153.683\n",
            ".... iter 17800: loss 1.817 dyn_loss 0.285 obs_loss 153.519\n",
            ".... iter 17900: loss 1.815 dyn_loss 0.285 obs_loss 153.356\n",
            ".... iter 18000: loss 1.813 dyn_loss 0.284 obs_loss 153.194\n",
            ".... iter 18100: loss 1.812 dyn_loss 0.284 obs_loss 153.034\n",
            ".... iter 18200: loss 1.810 dyn_loss 0.284 obs_loss 152.875\n",
            ".... iter 18300: loss 1.808 dyn_loss 0.283 obs_loss 152.717\n",
            ".... iter 18400: loss 1.806 dyn_loss 0.283 obs_loss 152.561\n",
            ".... iter 18500: loss 1.804 dyn_loss 0.283 obs_loss 152.406\n",
            ".... iter 18600: loss 1.802 dyn_loss 0.283 obs_loss 152.252\n",
            ".... iter 18700: loss 1.800 dyn_loss 0.282 obs_loss 152.099\n",
            ".... iter 18800: loss 1.799 dyn_loss 0.282 obs_loss 151.948\n",
            ".... iter 18900: loss 1.797 dyn_loss 0.282 obs_loss 151.797\n",
            ".... iter 19000: loss 1.795 dyn_loss 0.281 obs_loss 151.648\n",
            ".... iter 19100: loss 1.793 dyn_loss 0.281 obs_loss 151.501\n",
            ".... iter 19200: loss 1.792 dyn_loss 0.281 obs_loss 151.354\n",
            ".... iter 19300: loss 1.790 dyn_loss 0.281 obs_loss 151.208\n",
            ".... iter 19400: loss 1.788 dyn_loss 0.280 obs_loss 151.064\n",
            ".... iter 19500: loss 1.787 dyn_loss 0.280 obs_loss 150.921\n",
            ".... iter 19600: loss 1.785 dyn_loss 0.280 obs_loss 150.779\n",
            ".... iter 19700: loss 1.783 dyn_loss 0.280 obs_loss 150.638\n",
            ".... iter 19800: loss 1.782 dyn_loss 0.280 obs_loss 150.498\n",
            ".... iter 19900: loss 1.780 dyn_loss 0.279 obs_loss 150.360\n"
          ]
        }
      ]
    },
    {
      "cell_type": "code",
      "metadata": {
        "id": "7QRqLNqPXqu6",
        "colab": {
          "base_uri": "https://localhost:8080/",
          "height": 335
        },
        "outputId": "c1060cdb-8b4f-440d-8ba3-23008a2c91b6"
      },
      "source": [
        "XGT  = XGT_torch.cpu().detach().numpy()[t0:t0+dT,:]\n",
        "XHat = X_torch.cpu().detach().numpy()[t0:t0+dT,:]\n",
        "M    = M_torch.cpu().detach().numpy()[t0:t0+dT,:]\n",
        "YObs = YObs_torch.cpu().detach().numpy()[t0:t0+dT,:]\n",
        "\n",
        "## visualization\n",
        "plt.figure()\n",
        "for kk in range(0,3):\n",
        "  plt.subplot(1,3,kk+1)\n",
        "  plt.plot(YObs[t0:t0+dT,kk],'r.')\n",
        "  plt.plot(XGT[:,kk],'b-')\n",
        "  plt.plot(XHat[:,kk],'m-')\n",
        "\n",
        "# Reconstruction performance\n",
        "varXGT  = np.mean( (XGT - np.mean(XGT,axis=0))**2 )\n",
        "mse_All = np.mean( (XHat-XGT) **2 ) \n",
        "mse_I   = np.mean( (1.-M[t0:t0+dT,:]) * (XHat-XGT) **2 ) / np.mean( (1.-M[t0:t0+dT,:]) )\n",
        "mse_R   = np.mean( M[t0:t0+dT,:] * (XHat-XGT) **2 ) / np.mean( M[t0:t0+dT,:] )\n",
        "\n",
        "nmse_All = mse_All / varXGT\n",
        "nmse_I   = mse_I / varXGT\n",
        "nmse_R   = mse_R / varXGT\n",
        "\n",
        "print(\"..... Assimilation performance\")\n",
        "print(\".. MSE ALL.   : %.3f / %.3f\"%(mse_All,nmse_All))\n",
        "print(\".. MSE ObsData: %.3f / %.3f\"%(mse_R,nmse_R))\n",
        "print(\".. MSE Interp : %.3f / %.3f\"%(mse_I,nmse_I))\n"
      ],
      "execution_count": null,
      "outputs": [
        {
          "output_type": "stream",
          "name": "stdout",
          "text": [
            "..... Assimilation performance\n",
            ".. MSE ALL.   : 1.998 / 0.024\n",
            ".. MSE ObsData: 0.507 / 0.006\n",
            ".. MSE Interp : 2.183 / 0.026\n"
          ]
        },
        {
          "output_type": "display_data",
          "data": {
            "image/png": "[encoded data removed]",
            "text/plain": [
              "<Figure size 432x288 with 3 Axes>"
            ]
          },
          "metadata": {
            "needs_background": "light"
          }
        }
      ]
    },
    {
      "cell_type": "markdown",
      "metadata": {
        "id": "fdq0wK2_lRHo"
      },
      "source": [
        "# Model-based inversion using a trainable plug-and-play prior"
      ]
    },
    {
      "cell_type": "code",
      "metadata": {
        "id": "5eeQsAFfmU9g"
      },
      "source": [
        "DimAE = 10"
      ],
      "execution_count": null,
      "outputs": []
    },
    {
      "cell_type": "code",
      "metadata": {
        "colab": {
          "base_uri": "https://localhost:8080/"
        },
        "id": "7nOFkoBcqVTU",
        "outputId": "4ac6322c-15dd-481c-e3c6-f34ab4e55692"
      },
      "source": [
        "X_train.shape"
      ],
      "execution_count": null,
      "outputs": [
        {
          "output_type": "execute_result",
          "data": {
            "text/plain": [
              "(7301, 3, 200)"
            ]
          },
          "metadata": {},
          "execution_count": 54
        }
      ]
    },
    {
      "cell_type": "code",
      "metadata": {
        "id": "VQ-RaZMAlZ35",
        "colab": {
          "base_uri": "https://localhost:8080/"
        },
        "outputId": "1ef2ad38-a458-42dd-b2aa-bfc23273105f"
      },
      "source": [
        "# Training a simple auto-encoder\n",
        "# PCA decomposition\n",
        "pca              = decomposition.PCA(DimAE)\n",
        "pca.fit(np.reshape(X_train,(x_train.shape[0],X_train.shape[1]*X_train.shape[2])))\n",
        "\n",
        "rec_PCA_Tt       = pca.transform(np.reshape(X_test,(X_test.shape[0],X_test.shape[1]*X_test.shape[2])))\n",
        "rec_PCA_Tt[:,DimAE:] = 0.\n",
        "rec_PCA_Tt       = pca.inverse_transform(rec_PCA_Tt)\n",
        "mse_PCA_Tt       = np.mean( (rec_PCA_Tt - X_test.reshape((x_test.shape[0],X_test.shape[1]*X_test.shape[2])))**2 )\n",
        "var_Tt           = np.mean( (X_test-np.mean(X_train,axis=0))** 2 )\n",
        "exp_var_PCA_Tt   = 1. - mse_PCA_Tt / var_Tt\n",
        "\n",
        "print(\".......... PCA Dim = %d\"%(DimAE))\n",
        "print('.... explained variance PCA (Tr) : %.2f%%'%(100.*np.cumsum(pca.explained_variance_ratio_)[DimAE-1]))\n",
        "print('.... explained variance PCA (Tt) : %.2f%%'%(100.*exp_var_PCA_Tt))\n",
        "\n",
        "shapeData = x_train.shape[1:]\n",
        "\n",
        "class Encoder(torch.nn.Module):\n",
        "    def __init__(self):\n",
        "        super(Encoder, self).__init__()\n",
        "        self.fc1 = torch.nn.Linear(shapeData[0]*shapeData[1],DimAE,bias=False)\n",
        "        self.fc1.weight = torch.nn.Parameter( torch.Tensor( pca.components_[0:DimAE,:] ))\n",
        "        self.mean_ = torch.nn.Parameter( torch.Tensor( pca.mean_ ) )\n",
        "        \n",
        "    def forward(self, x):\n",
        "        x = self.fc1( x.view(-1,shapeData[0]*shapeData[1]) - self.mean_ )\n",
        "        return x\n",
        "  \n",
        "class Decoder(torch.nn.Module):\n",
        "    def __init__(self):\n",
        "        super(Decoder, self).__init__()\n",
        "        self.fc1 = torch.nn.Linear(DimAE,shapeData[0]*shapeData[1],bias=False)\n",
        "        self.fc1.weight = torch.nn.Parameter( torch.Tensor( pca.components_[0:DimAE,:].transpose() ) )\n",
        "        self.mean_ = torch.nn.Parameter( torch.Tensor( pca.mean_ ) )\n",
        "    def forward(self, x):\n",
        "        x = self.fc1( x ) + self.mean_\n",
        "        x = x.view(-1,shapeData[0],shapeData[1])\n",
        "        return x\n",
        "\n",
        "class Model_AE(torch.nn.Module):\n",
        "    def __init__(self):\n",
        "        super(Model_AE, self).__init__()\n",
        "        self.encoder = Encoder()\n",
        "        self.decoder = Decoder()\n",
        "\n",
        "    def forward(self, x):\n",
        "        x = self.encoder( x )\n",
        "        x = self.decoder( x )\n",
        "        return x\n",
        "\n",
        "model_AE           = Model_AE()\n",
        "print(model_AE)"
      ],
      "execution_count": null,
      "outputs": [
        {
          "output_type": "stream",
          "name": "stdout",
          "text": [
            ".......... PCA Dim = 10\n",
            ".... explained variance PCA (Tr) : 82.72%\n",
            ".... explained variance PCA (Tt) : 80.00%\n",
            "Model_AE(\n",
            "  (encoder): Encoder(\n",
            "    (fc1): Linear(in_features=600, out_features=10, bias=False)\n",
            "  )\n",
            "  (decoder): Decoder(\n",
            "    (fc1): Linear(in_features=10, out_features=600, bias=False)\n",
            "  )\n",
            ")\n"
          ]
        }
      ]
    },
    {
      "cell_type": "code",
      "metadata": {
        "id": "fQUMHMlHtsSM"
      },
      "source": [
        "ii = 100\n",
        "\n",
        "# create torch tensors for observations and hidden states\n",
        "XGT_torch  = torch.Tensor( X_train[ii,:,:].squeeze() )\n",
        "YObs_torch = torch.Tensor( X_train_obs[ii,:,:].squeeze() )\n",
        "M_torch    = torch.Tensor( mask_train[ii,:,:].squeeze() )\n",
        "\n",
        "# Initialisation\n",
        "X_torch    = torch.Tensor( X_train_Init[ii,:,:].squeeze() )"
      ],
      "execution_count": null,
      "outputs": []
    },
    {
      "cell_type": "code",
      "metadata": {
        "id": "M5MIeSPJt5mX"
      },
      "source": [
        "dT = 200"
      ],
      "execution_count": null,
      "outputs": []
    },
    {
      "cell_type": "code",
      "metadata": {
        "colab": {
          "base_uri": "https://localhost:8080/"
        },
        "id": "wOqdp12XpOhd",
        "outputId": "972b1cd1-3004-456c-fcac-bd10099ab9e6"
      },
      "source": [
        "# 4DVAR assimilation\n",
        "device  = torch.device(\"cuda\" if torch.cuda.is_available() else \"cpu\")\n",
        "\n",
        "# assignment to GPU\n",
        "model_AE = model_AE.to(device)\n",
        "\n",
        "# assimilation loop\n",
        "t0    = 0\n",
        "NIter = 20000\n",
        "alpha = 0.99\n",
        "delta = 0.2\n",
        "\n",
        "X_torch = torch.autograd.Variable(X_torch, requires_grad=True)\n",
        "X_torch = X_torch.to(device)\n",
        "XGT_torch  = XGT_torch.to(device)\n",
        "YObs_torch  = YObs_torch.to(device)\n",
        "M_torch  = M_torch.to(device)\n",
        "\n",
        "for iter in range(0,NIter):\n",
        "\n",
        "  # compute losses\n",
        "  with torch.set_grad_enabled(True): \n",
        "    # dynamical loss\n",
        "    X_pred = model_AE( torch.reshape(X_torch,(1,-1,dT)) )\n",
        "    X_pred = torch.reshape(X_pred,(-1,dT))\n",
        "    loss_dyn = torch.sum((X_torch - X_pred)**2 )\n",
        "\n",
        "    # observation loss\n",
        "    loss_obs = torch.sum((X_torch - YObs_torch)**2 * M_torch )\n",
        "\n",
        "    # overall loss\n",
        "    loss = (1.-alpha) * loss_obs + alpha * loss_dyn \n",
        "\n",
        "    if( np.mod(iter,100) == 0 ):\n",
        "      print(\".... iter %d: loss %.3f dyn_loss %.3f obs_loss %.3f\"%(iter,loss,loss_dyn,loss_obs))  \n",
        "\n",
        "    # compute gradient w.r.t. X and update X\n",
        "    loss.backward()\n",
        "    #grad_X  = torch.autograd.grad(loss,X_torch,create_graph=True)\n",
        "    X_torch = X_torch - delta * X_torch.grad.data\n",
        "    X_torch = torch.autograd.Variable(X_torch, requires_grad=True)"
      ],
      "execution_count": null,
      "outputs": [
        {
          "output_type": "stream",
          "name": "stdout",
          "text": [
            ".... iter 0: loss 34369.453 dyn_loss 34716.617 obs_loss 0.000\n",
            ".... iter 100: loss 25.152 dyn_loss 0.251 obs_loss 2490.338\n",
            ".... iter 200: loss 24.947 dyn_loss 0.250 obs_loss 2469.946\n",
            ".... iter 300: loss 24.758 dyn_loss 0.248 obs_loss 2451.309\n",
            ".... iter 400: loss 24.587 dyn_loss 0.246 obs_loss 2434.276\n",
            ".... iter 500: loss 24.429 dyn_loss 0.245 obs_loss 2418.705\n",
            ".... iter 600: loss 24.286 dyn_loss 0.244 obs_loss 2404.469\n",
            ".... iter 700: loss 24.155 dyn_loss 0.242 obs_loss 2391.450\n",
            ".... iter 800: loss 24.034 dyn_loss 0.241 obs_loss 2379.544\n",
            ".... iter 900: loss 23.924 dyn_loss 0.240 obs_loss 2368.653\n",
            ".... iter 1000: loss 23.824 dyn_loss 0.239 obs_loss 2358.689\n",
            ".... iter 1100: loss 23.732 dyn_loss 0.239 obs_loss 2349.571\n",
            ".... iter 1200: loss 23.648 dyn_loss 0.238 obs_loss 2341.225\n",
            ".... iter 1300: loss 23.571 dyn_loss 0.237 obs_loss 2333.585\n",
            ".... iter 1400: loss 23.500 dyn_loss 0.237 obs_loss 2326.589\n",
            ".... iter 1500: loss 23.435 dyn_loss 0.236 obs_loss 2320.182\n",
            ".... iter 1600: loss 23.376 dyn_loss 0.235 obs_loss 2314.313\n",
            ".... iter 1700: loss 23.322 dyn_loss 0.235 obs_loss 2308.936\n",
            ".... iter 1800: loss 23.272 dyn_loss 0.234 obs_loss 2304.007\n",
            ".... iter 1900: loss 23.227 dyn_loss 0.234 obs_loss 2299.488\n",
            ".... iter 2000: loss 23.185 dyn_loss 0.234 obs_loss 2295.345\n",
            ".... iter 2100: loss 23.146 dyn_loss 0.233 obs_loss 2291.545\n",
            ".... iter 2200: loss 23.111 dyn_loss 0.233 obs_loss 2288.058\n",
            ".... iter 2300: loss 23.079 dyn_loss 0.233 obs_loss 2284.858\n",
            ".... iter 2400: loss 23.049 dyn_loss 0.232 obs_loss 2281.920\n",
            ".... iter 2500: loss 23.022 dyn_loss 0.232 obs_loss 2279.222\n",
            ".... iter 2600: loss 22.997 dyn_loss 0.232 obs_loss 2276.744\n",
            ".... iter 2700: loss 22.974 dyn_loss 0.232 obs_loss 2274.467\n",
            ".... iter 2800: loss 22.953 dyn_loss 0.232 obs_loss 2272.373\n",
            ".... iter 2900: loss 22.934 dyn_loss 0.231 obs_loss 2270.448\n",
            ".... iter 3000: loss 22.916 dyn_loss 0.231 obs_loss 2268.676\n",
            ".... iter 3100: loss 22.899 dyn_loss 0.231 obs_loss 2267.046\n",
            ".... iter 3200: loss 22.884 dyn_loss 0.231 obs_loss 2265.546\n",
            ".... iter 3300: loss 22.870 dyn_loss 0.231 obs_loss 2264.164\n",
            ".... iter 3400: loss 22.857 dyn_loss 0.231 obs_loss 2262.890\n",
            ".... iter 3500: loss 22.845 dyn_loss 0.231 obs_loss 2261.716\n",
            ".... iter 3600: loss 22.835 dyn_loss 0.231 obs_loss 2260.633\n",
            ".... iter 3700: loss 22.824 dyn_loss 0.230 obs_loss 2259.634\n",
            ".... iter 3800: loss 22.815 dyn_loss 0.230 obs_loss 2258.712\n",
            ".... iter 3900: loss 22.807 dyn_loss 0.230 obs_loss 2257.860\n",
            ".... iter 4000: loss 22.799 dyn_loss 0.230 obs_loss 2257.073\n",
            ".... iter 4100: loss 22.791 dyn_loss 0.230 obs_loss 2256.346\n",
            ".... iter 4200: loss 22.784 dyn_loss 0.230 obs_loss 2255.673\n",
            ".... iter 4300: loss 22.778 dyn_loss 0.230 obs_loss 2255.050\n",
            ".... iter 4400: loss 22.772 dyn_loss 0.230 obs_loss 2254.473\n",
            ".... iter 4500: loss 22.767 dyn_loss 0.230 obs_loss 2253.939\n",
            ".... iter 4600: loss 22.762 dyn_loss 0.230 obs_loss 2253.444\n",
            ".... iter 4700: loss 22.757 dyn_loss 0.230 obs_loss 2252.984\n",
            ".... iter 4800: loss 22.753 dyn_loss 0.230 obs_loss 2252.558\n",
            ".... iter 4900: loss 22.749 dyn_loss 0.230 obs_loss 2252.162\n",
            ".... iter 5000: loss 22.745 dyn_loss 0.230 obs_loss 2251.794\n",
            ".... iter 5100: loss 22.742 dyn_loss 0.230 obs_loss 2251.453\n",
            ".... iter 5200: loss 22.739 dyn_loss 0.230 obs_loss 2251.134\n",
            ".... iter 5300: loss 22.736 dyn_loss 0.230 obs_loss 2250.838\n",
            ".... iter 5400: loss 22.733 dyn_loss 0.230 obs_loss 2250.562\n",
            ".... iter 5500: loss 22.730 dyn_loss 0.230 obs_loss 2250.305\n",
            ".... iter 5600: loss 22.728 dyn_loss 0.230 obs_loss 2250.065\n",
            ".... iter 5700: loss 22.726 dyn_loss 0.230 obs_loss 2249.842\n",
            ".... iter 5800: loss 22.724 dyn_loss 0.230 obs_loss 2249.632\n",
            ".... iter 5900: loss 22.722 dyn_loss 0.229 obs_loss 2249.437\n",
            ".... iter 6000: loss 22.720 dyn_loss 0.229 obs_loss 2249.254\n",
            ".... iter 6100: loss 22.718 dyn_loss 0.229 obs_loss 2249.083\n",
            ".... iter 6200: loss 22.716 dyn_loss 0.229 obs_loss 2248.924\n",
            ".... iter 6300: loss 22.715 dyn_loss 0.229 obs_loss 2248.774\n",
            ".... iter 6400: loss 22.713 dyn_loss 0.229 obs_loss 2248.633\n",
            ".... iter 6500: loss 22.712 dyn_loss 0.229 obs_loss 2248.501\n",
            ".... iter 6600: loss 22.711 dyn_loss 0.229 obs_loss 2248.377\n",
            ".... iter 6700: loss 22.710 dyn_loss 0.229 obs_loss 2248.261\n",
            ".... iter 6800: loss 22.709 dyn_loss 0.229 obs_loss 2248.152\n",
            ".... iter 6900: loss 22.708 dyn_loss 0.229 obs_loss 2248.049\n",
            ".... iter 7000: loss 22.707 dyn_loss 0.229 obs_loss 2247.952\n",
            ".... iter 7100: loss 22.706 dyn_loss 0.229 obs_loss 2247.861\n",
            ".... iter 7200: loss 22.705 dyn_loss 0.229 obs_loss 2247.775\n",
            ".... iter 7300: loss 22.704 dyn_loss 0.229 obs_loss 2247.694\n",
            ".... iter 7400: loss 22.703 dyn_loss 0.229 obs_loss 2247.617\n",
            ".... iter 7500: loss 22.702 dyn_loss 0.229 obs_loss 2247.545\n",
            ".... iter 7600: loss 22.702 dyn_loss 0.229 obs_loss 2247.477\n",
            ".... iter 7700: loss 22.701 dyn_loss 0.229 obs_loss 2247.413\n",
            ".... iter 7800: loss 22.701 dyn_loss 0.229 obs_loss 2247.352\n",
            ".... iter 7900: loss 22.700 dyn_loss 0.229 obs_loss 2247.294\n",
            ".... iter 8000: loss 22.699 dyn_loss 0.229 obs_loss 2247.240\n",
            ".... iter 8100: loss 22.699 dyn_loss 0.229 obs_loss 2247.188\n",
            ".... iter 8200: loss 22.698 dyn_loss 0.229 obs_loss 2247.139\n",
            ".... iter 8300: loss 22.698 dyn_loss 0.229 obs_loss 2247.092\n",
            ".... iter 8400: loss 22.697 dyn_loss 0.229 obs_loss 2247.048\n",
            ".... iter 8500: loss 22.697 dyn_loss 0.229 obs_loss 2247.006\n",
            ".... iter 8600: loss 22.697 dyn_loss 0.229 obs_loss 2246.966\n",
            ".... iter 8700: loss 22.696 dyn_loss 0.229 obs_loss 2246.929\n",
            ".... iter 8800: loss 22.696 dyn_loss 0.229 obs_loss 2246.893\n",
            ".... iter 8900: loss 22.696 dyn_loss 0.229 obs_loss 2246.859\n",
            ".... iter 9000: loss 22.695 dyn_loss 0.229 obs_loss 2246.826\n",
            ".... iter 9100: loss 22.695 dyn_loss 0.229 obs_loss 2246.796\n",
            ".... iter 9200: loss 22.695 dyn_loss 0.229 obs_loss 2246.766\n",
            ".... iter 9300: loss 22.694 dyn_loss 0.229 obs_loss 2246.738\n",
            ".... iter 9400: loss 22.694 dyn_loss 0.229 obs_loss 2246.711\n",
            ".... iter 9500: loss 22.694 dyn_loss 0.229 obs_loss 2246.686\n",
            ".... iter 9600: loss 22.694 dyn_loss 0.229 obs_loss 2246.662\n",
            ".... iter 9700: loss 22.693 dyn_loss 0.229 obs_loss 2246.639\n",
            ".... iter 9800: loss 22.693 dyn_loss 0.229 obs_loss 2246.616\n",
            ".... iter 9900: loss 22.693 dyn_loss 0.229 obs_loss 2246.595\n",
            ".... iter 10000: loss 22.693 dyn_loss 0.229 obs_loss 2246.575\n",
            ".... iter 10100: loss 22.692 dyn_loss 0.229 obs_loss 2246.556\n",
            ".... iter 10200: loss 22.692 dyn_loss 0.229 obs_loss 2246.538\n",
            ".... iter 10300: loss 22.692 dyn_loss 0.229 obs_loss 2246.520\n",
            ".... iter 10400: loss 22.692 dyn_loss 0.229 obs_loss 2246.503\n",
            ".... iter 10500: loss 22.692 dyn_loss 0.229 obs_loss 2246.487\n",
            ".... iter 10600: loss 22.692 dyn_loss 0.229 obs_loss 2246.472\n",
            ".... iter 10700: loss 22.691 dyn_loss 0.229 obs_loss 2246.458\n",
            ".... iter 10800: loss 22.691 dyn_loss 0.229 obs_loss 2246.443\n",
            ".... iter 10900: loss 22.691 dyn_loss 0.229 obs_loss 2246.430\n",
            ".... iter 11000: loss 22.691 dyn_loss 0.229 obs_loss 2246.417\n",
            ".... iter 11100: loss 22.691 dyn_loss 0.229 obs_loss 2246.405\n",
            ".... iter 11200: loss 22.691 dyn_loss 0.229 obs_loss 2246.393\n",
            ".... iter 11300: loss 22.691 dyn_loss 0.229 obs_loss 2246.382\n",
            ".... iter 11400: loss 22.691 dyn_loss 0.229 obs_loss 2246.371\n",
            ".... iter 11500: loss 22.691 dyn_loss 0.229 obs_loss 2246.361\n",
            ".... iter 11600: loss 22.690 dyn_loss 0.229 obs_loss 2246.351\n",
            ".... iter 11700: loss 22.690 dyn_loss 0.229 obs_loss 2246.342\n",
            ".... iter 11800: loss 22.690 dyn_loss 0.229 obs_loss 2246.333\n",
            ".... iter 11900: loss 22.690 dyn_loss 0.229 obs_loss 2246.324\n",
            ".... iter 12000: loss 22.690 dyn_loss 0.229 obs_loss 2246.315\n",
            ".... iter 12100: loss 22.690 dyn_loss 0.229 obs_loss 2246.307\n",
            ".... iter 12200: loss 22.690 dyn_loss 0.229 obs_loss 2246.300\n",
            ".... iter 12300: loss 22.690 dyn_loss 0.229 obs_loss 2246.292\n",
            ".... iter 12400: loss 22.690 dyn_loss 0.229 obs_loss 2246.286\n",
            ".... iter 12500: loss 22.690 dyn_loss 0.229 obs_loss 2246.279\n",
            ".... iter 12600: loss 22.690 dyn_loss 0.229 obs_loss 2246.272\n",
            ".... iter 12700: loss 22.690 dyn_loss 0.229 obs_loss 2246.266\n",
            ".... iter 12800: loss 22.689 dyn_loss 0.229 obs_loss 2246.260\n",
            ".... iter 12900: loss 22.689 dyn_loss 0.229 obs_loss 2246.254\n",
            ".... iter 13000: loss 22.689 dyn_loss 0.229 obs_loss 2246.249\n",
            ".... iter 13100: loss 22.689 dyn_loss 0.229 obs_loss 2246.244\n",
            ".... iter 13200: loss 22.689 dyn_loss 0.229 obs_loss 2246.238\n",
            ".... iter 13300: loss 22.689 dyn_loss 0.229 obs_loss 2246.233\n",
            ".... iter 13400: loss 22.689 dyn_loss 0.229 obs_loss 2246.229\n",
            ".... iter 13500: loss 22.689 dyn_loss 0.229 obs_loss 2246.224\n",
            ".... iter 13600: loss 22.689 dyn_loss 0.229 obs_loss 2246.220\n",
            ".... iter 13700: loss 22.689 dyn_loss 0.229 obs_loss 2246.216\n",
            ".... iter 13800: loss 22.689 dyn_loss 0.229 obs_loss 2246.212\n",
            ".... iter 13900: loss 22.689 dyn_loss 0.229 obs_loss 2246.208\n",
            ".... iter 14000: loss 22.689 dyn_loss 0.229 obs_loss 2246.205\n",
            ".... iter 14100: loss 22.689 dyn_loss 0.229 obs_loss 2246.201\n",
            ".... iter 14200: loss 22.689 dyn_loss 0.229 obs_loss 2246.198\n",
            ".... iter 14300: loss 22.689 dyn_loss 0.229 obs_loss 2246.194\n",
            ".... iter 14400: loss 22.689 dyn_loss 0.229 obs_loss 2246.191\n",
            ".... iter 14500: loss 22.689 dyn_loss 0.229 obs_loss 2246.188\n",
            ".... iter 14600: loss 22.689 dyn_loss 0.229 obs_loss 2246.186\n",
            ".... iter 14700: loss 22.689 dyn_loss 0.229 obs_loss 2246.183\n",
            ".... iter 14800: loss 22.689 dyn_loss 0.229 obs_loss 2246.180\n",
            ".... iter 14900: loss 22.689 dyn_loss 0.229 obs_loss 2246.177\n",
            ".... iter 15000: loss 22.689 dyn_loss 0.229 obs_loss 2246.175\n",
            ".... iter 15100: loss 22.689 dyn_loss 0.229 obs_loss 2246.173\n",
            ".... iter 15200: loss 22.689 dyn_loss 0.229 obs_loss 2246.170\n",
            ".... iter 15300: loss 22.689 dyn_loss 0.229 obs_loss 2246.168\n",
            ".... iter 15400: loss 22.689 dyn_loss 0.229 obs_loss 2246.166\n",
            ".... iter 15500: loss 22.689 dyn_loss 0.229 obs_loss 2246.164\n",
            ".... iter 15600: loss 22.689 dyn_loss 0.229 obs_loss 2246.162\n",
            ".... iter 15700: loss 22.688 dyn_loss 0.229 obs_loss 2246.160\n",
            ".... iter 15800: loss 22.688 dyn_loss 0.229 obs_loss 2246.159\n",
            ".... iter 15900: loss 22.688 dyn_loss 0.229 obs_loss 2246.157\n",
            ".... iter 16000: loss 22.688 dyn_loss 0.229 obs_loss 2246.155\n",
            ".... iter 16100: loss 22.688 dyn_loss 0.229 obs_loss 2246.154\n",
            ".... iter 16200: loss 22.688 dyn_loss 0.229 obs_loss 2246.152\n",
            ".... iter 16300: loss 22.688 dyn_loss 0.229 obs_loss 2246.151\n",
            ".... iter 16400: loss 22.688 dyn_loss 0.229 obs_loss 2246.149\n",
            ".... iter 16500: loss 22.688 dyn_loss 0.229 obs_loss 2246.148\n",
            ".... iter 16600: loss 22.688 dyn_loss 0.229 obs_loss 2246.146\n",
            ".... iter 16700: loss 22.688 dyn_loss 0.229 obs_loss 2246.146\n",
            ".... iter 16800: loss 22.688 dyn_loss 0.229 obs_loss 2246.145\n",
            ".... iter 16900: loss 22.688 dyn_loss 0.229 obs_loss 2246.143\n",
            ".... iter 17000: loss 22.688 dyn_loss 0.229 obs_loss 2246.142\n",
            ".... iter 17100: loss 22.688 dyn_loss 0.229 obs_loss 2246.141\n",
            ".... iter 17200: loss 22.688 dyn_loss 0.229 obs_loss 2246.140\n",
            ".... iter 17300: loss 22.688 dyn_loss 0.229 obs_loss 2246.139\n",
            ".... iter 17400: loss 22.688 dyn_loss 0.229 obs_loss 2246.138\n",
            ".... iter 17500: loss 22.688 dyn_loss 0.229 obs_loss 2246.137\n",
            ".... iter 17600: loss 22.688 dyn_loss 0.229 obs_loss 2246.136\n",
            ".... iter 17700: loss 22.688 dyn_loss 0.229 obs_loss 2246.135\n",
            ".... iter 17800: loss 22.688 dyn_loss 0.229 obs_loss 2246.135\n",
            ".... iter 17900: loss 22.688 dyn_loss 0.229 obs_loss 2246.134\n",
            ".... iter 18000: loss 22.688 dyn_loss 0.229 obs_loss 2246.133\n",
            ".... iter 18100: loss 22.688 dyn_loss 0.229 obs_loss 2246.133\n",
            ".... iter 18200: loss 22.688 dyn_loss 0.229 obs_loss 2246.132\n",
            ".... iter 18300: loss 22.688 dyn_loss 0.229 obs_loss 2246.131\n",
            ".... iter 18400: loss 22.688 dyn_loss 0.229 obs_loss 2246.131\n",
            ".... iter 18500: loss 22.688 dyn_loss 0.229 obs_loss 2246.130\n",
            ".... iter 18600: loss 22.688 dyn_loss 0.229 obs_loss 2246.129\n",
            ".... iter 18700: loss 22.688 dyn_loss 0.229 obs_loss 2246.129\n",
            ".... iter 18800: loss 22.688 dyn_loss 0.229 obs_loss 2246.128\n",
            ".... iter 18900: loss 22.688 dyn_loss 0.229 obs_loss 2246.128\n",
            ".... iter 19000: loss 22.688 dyn_loss 0.229 obs_loss 2246.127\n",
            ".... iter 19100: loss 22.688 dyn_loss 0.229 obs_loss 2246.127\n",
            ".... iter 19200: loss 22.688 dyn_loss 0.229 obs_loss 2246.126\n",
            ".... iter 19300: loss 22.688 dyn_loss 0.229 obs_loss 2246.126\n",
            ".... iter 19400: loss 22.688 dyn_loss 0.229 obs_loss 2246.125\n",
            ".... iter 19500: loss 22.688 dyn_loss 0.229 obs_loss 2246.125\n",
            ".... iter 19600: loss 22.688 dyn_loss 0.229 obs_loss 2246.125\n",
            ".... iter 19700: loss 22.688 dyn_loss 0.229 obs_loss 2246.124\n",
            ".... iter 19800: loss 22.688 dyn_loss 0.229 obs_loss 2246.124\n",
            ".... iter 19900: loss 22.688 dyn_loss 0.229 obs_loss 2246.124\n"
          ]
        }
      ]
    },
    {
      "cell_type": "code",
      "metadata": {
        "colab": {
          "base_uri": "https://localhost:8080/",
          "height": 335
        },
        "id": "msCWD_21rlZV",
        "outputId": "26dd6ac2-30aa-461f-d7d0-7d7f22c67abd"
      },
      "source": [
        "XGT  = XGT_torch.cpu().detach().numpy()[t0:t0+dT,:]\n",
        "XHat = X_torch.cpu().detach().numpy()[t0:t0+dT,:]\n",
        "M    = M_torch.cpu().detach().numpy()[t0:t0+dT,:]\n",
        "YObs = YObs_torch.cpu().detach().numpy()[t0:t0+dT,:]\n",
        "\n",
        "## visualization\n",
        "plt.figure()\n",
        "for kk in range(0,3):\n",
        "  plt.subplot(1,3,kk+1)\n",
        "  plt.plot(YObs[kk,t0:t0+dT],'r.')\n",
        "  plt.plot(XGT[kk,:],'b-')\n",
        "  plt.plot(XHat[kk,:],'m-')\n",
        "\n",
        "# Reconstruction performance\n",
        "varXGT  = np.mean( (XGT - np.mean(XGT,axis=0))**2 )\n",
        "mse_All = np.mean( (XHat-XGT) **2 ) \n",
        "mse_I   = np.mean( (1.-M[t0:t0+dT,:]) * (XHat-XGT) **2 ) / np.mean( (1.-M[t0:t0+dT,:]) )\n",
        "mse_R   = np.mean( M[t0:t0+dT,:] * (XHat-XGT) **2 ) / np.mean( M[t0:t0+dT,:] )\n",
        "\n",
        "nmse_All = mse_All / varXGT\n",
        "nmse_I   = mse_I / varXGT\n",
        "nmse_R   = mse_R / varXGT\n",
        "\n",
        "print(\"..... Assimilation performance\")\n",
        "print(\".. MSE ALL.   : %.3f / %.3f\"%(mse_All,nmse_All))\n",
        "print(\".. MSE ObsData: %.3f / %.3f\"%(mse_R,nmse_R))\n",
        "print(\".. MSE Interp : %.3f / %.3f\"%(mse_I,nmse_I))\n"
      ],
      "execution_count": null,
      "outputs": [
        {
          "output_type": "stream",
          "name": "stdout",
          "text": [
            "..... Assimilation performance\n",
            ".. MSE ALL.   : 37.058 / 0.239\n",
            ".. MSE ObsData: 33.107 / 0.213\n",
            ".. MSE Interp : 37.546 / 0.242\n"
          ]
        },
        {
          "output_type": "display_data",
          "data": {
            "image/png": "[encoded data removed]",
            "text/plain": [
              "<Figure size 432x288 with 3 Axes>"
            ]
          },
          "metadata": {
            "needs_background": "light"
          }
        }
      ]
    }
  ]
}