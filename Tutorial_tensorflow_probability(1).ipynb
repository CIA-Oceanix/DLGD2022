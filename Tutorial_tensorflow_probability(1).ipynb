{
  "nbformat": 4,
  "nbformat_minor": 0,
  "metadata": {
    "colab": {
      "provenance": [],
      "collapsed_sections": [
        "uZAhJ14WbdPL",
        "q3HuFicizHkK",
        "rpqXI5A3nM5n",
        "AgCsF5lkxf2N",
        "PHAVBQ1K-WzZ",
        "1l-3aYjLeYkM",
        "c9lU3FWsHvZw",
        "RiYFNmh7SXOY",
        "lF6S7--CbcRD",
        "QvwVpAVKbkRY",
        "fNnkLZ9HjxKd"
      ]
    },
    "kernelspec": {
      "name": "python3",
      "display_name": "Python 3"
    },
    "language_info": {
      "name": "python"
    }
  },
  "cells": [
    {
      "cell_type": "markdown",
      "source": [
        "<a href=\"https://colab.research.google.com/github/CIA-Oceanix/DLGD2022/blob/main/tutorial2_TFP/tutorial_TF_Probability\" target=\"_parent\"><img src=\"https://colab.research.google.com/assets/colab-badge.svg\" alt=\"Open in Colab\"/></a>\n",
        "\n"
      ],
      "metadata": {
        "id": "zOIzk5I0r_Bt"
      }
    },
    {
      "cell_type": "markdown",
      "source": [
        "# Tutorial Tensorflow-probability\n"
      ],
      "metadata": {
        "id": "ZOrs2GkhsCVt"
      }
    },
    {
      "cell_type": "markdown",
      "source": [
        "## Install package"
      ],
      "metadata": {
        "id": "uZAhJ14WbdPL"
      }
    },
    {
      "cell_type": "code",
      "execution_count": null,
      "metadata": {
        "colab": {
          "base_uri": "https://localhost:8080/"
        },
        "id": "TuTasjGPay74",
        "outputId": "772c5981-788b-4360-f5b3-7c872e5cbb03"
      },
      "outputs": [
        {
          "output_type": "stream",
          "name": "stdout",
          "text": [
            "Looking in indexes: https://pypi.org/simple, https://us-python.pkg.dev/colab-wheels/public/simple/\n",
            "Collecting tensorflow-probability==0.17.0\n",
            "  Downloading tensorflow_probability-0.17.0-py2.py3-none-any.whl (6.5 MB)\n",
            "\u001b[K     |████████████████████████████████| 6.5 MB 7.3 MB/s \n",
            "\u001b[?25hRequirement already satisfied: numpy>=1.13.3 in /usr/local/lib/python3.7/dist-packages (from tensorflow-probability==0.17.0) (1.21.6)\n",
            "Requirement already satisfied: dm-tree in /usr/local/lib/python3.7/dist-packages (from tensorflow-probability==0.17.0) (0.1.7)\n",
            "Requirement already satisfied: cloudpickle>=1.3 in /usr/local/lib/python3.7/dist-packages (from tensorflow-probability==0.17.0) (1.5.0)\n",
            "Requirement already satisfied: gast>=0.3.2 in /usr/local/lib/python3.7/dist-packages (from tensorflow-probability==0.17.0) (0.4.0)\n",
            "Requirement already satisfied: decorator in /usr/local/lib/python3.7/dist-packages (from tensorflow-probability==0.17.0) (4.4.2)\n",
            "Requirement already satisfied: absl-py in /usr/local/lib/python3.7/dist-packages (from tensorflow-probability==0.17.0) (1.3.0)\n",
            "Requirement already satisfied: six>=1.10.0 in /usr/local/lib/python3.7/dist-packages (from tensorflow-probability==0.17.0) (1.15.0)\n",
            "Installing collected packages: tensorflow-probability\n",
            "  Attempting uninstall: tensorflow-probability\n",
            "    Found existing installation: tensorflow-probability 0.18.0\n",
            "    Uninstalling tensorflow-probability-0.18.0:\n",
            "      Successfully uninstalled tensorflow-probability-0.18.0\n",
            "Successfully installed tensorflow-probability-0.17.0\n"
          ]
        }
      ],
      "source": [
        "!pip install --upgrade tensorflow-probability==0.17.0"
      ]
    },
    {
      "cell_type": "markdown",
      "source": [
        "### Import packages"
      ],
      "metadata": {
        "id": "3aFsvK2OcH16"
      }
    },
    {
      "cell_type": "code",
      "source": [
        "from pprint import pprint\n",
        "import matplotlib.pyplot as plt\n",
        "import numpy as np\n",
        "import seaborn as sns\n",
        "\n",
        "import tensorflow.compat.v2 as tf\n",
        "tf.enable_v2_behavior()\n",
        "\n",
        "import tensorflow_probability as tfp\n",
        "\n",
        "sns.reset_defaults()\n",
        "sns.set_context(context='talk',font_scale=0.7)\n",
        "plt.rcParams['image.cmap'] = 'viridis'\n",
        "\n",
        "%matplotlib inline\n",
        "\n",
        "tfk  = tf.keras\n",
        "tfkl = tf.keras.layers\n",
        "tfd  = tfp.distributions\n",
        "tfb  = tfp.bijectors\n",
        "tfpl = tfp.layers\n"
      ],
      "metadata": {
        "id": "Z4VN-36ucG31"
      },
      "execution_count": 1,
      "outputs": []
    },
    {
      "cell_type": "markdown",
      "source": [
        "## Utils"
      ],
      "metadata": {
        "id": "q3HuFicizHkK"
      }
    },
    {
      "cell_type": "code",
      "source": [
        "def print_subclasses_from_module(module, base_class, maxwidth=80):\n",
        "  import functools, inspect, sys\n",
        "  subclasses = [name for name, obj in inspect.getmembers(module)\n",
        "                if inspect.isclass(obj) and issubclass(obj, base_class)]\n",
        "  def red(acc, x):\n",
        "    if not acc or len(acc[-1]) + len(x) + 2 > maxwidth:\n",
        "      acc.append(x)\n",
        "    else:\n",
        "      acc[-1] += \", \" + x\n",
        "    return acc\n",
        "  print('\\n'.join(functools.reduce(red, subclasses, [])))\n"
      ],
      "metadata": {
        "id": "AKch9K2Hz1tt"
      },
      "execution_count": 8,
      "outputs": []
    },
    {
      "cell_type": "markdown",
      "source": [
        "## Tensorflow-probability overview"
      ],
      "metadata": {
        "id": "rpqXI5A3nM5n"
      }
    },
    {
      "cell_type": "markdown",
      "source": [
        "Tensorflow-probability is a helpful toolbox for probabilistic machine learning.   \n",
        "It is structured as follows :\n",
        "\n",
        "- Component 0 (Core): **Tensorflow Core** for numerical operations\n",
        "- Component 1 (Low-level): **Statistical Building Blocks** \n",
        "    - *Distributions* (tfp.distributions): A large collection of probability distributions and related statistics (Normal, Gamma, Pareto...).\n",
        "    - *Bijectors* (tfp.bijectors): Reversible and composable transformations of random variables. Bijectors provide a rich class of transformed distributions.\n",
        "- Component 2 (Higher-level): **Model Building** and **Probabilistic Inference**\n",
        "    - *Joint Distributions* (e.g., tfp.distributions.JointDistributionSequential): Joint distributions over one or more possibly-interdependent distributions.\n",
        "    - *Probabilistic layers* (tfp.layers): Neural network layers which ouput tfp.distribution type objects.\n",
        "    - *Monte-Carlo Markov Chain* (tfp.mcmc).\n",
        "    - *Variational inference* (tfp.vi).\n",
        "    - *Optimizers* (tfp.optimizers)\n",
        "\n",
        "\n",
        "\n",
        "\n",
        "\n"
      ],
      "metadata": {
        "id": "57c1NpQznzVs"
      }
    },
    {
      "cell_type": "markdown",
      "source": [
        "## Distributions in Tensorflow-probability\n",
        "\n",
        "A tfp.distributions.Distribution is a class with two core methods: sample and log_prob. It may additionally have many other methods : entropy, kl_divergence, cdf, mean, mode, prob, cdf, log_cdf…\n",
        "\n"
      ],
      "metadata": {
        "id": "AgCsF5lkxf2N"
      }
    },
    {
      "cell_type": "code",
      "source": [
        "# TFP has a lot of distributions!\n",
        "print_subclasses_from_module(tfp.distributions, tfp.distributions.Distribution)\n"
      ],
      "metadata": {
        "id": "n9cvU0iucHd0",
        "colab": {
          "base_uri": "https://localhost:8080/"
        },
        "outputId": "2152a858-94f4-4eb4-9745-167a1c2a5853"
      },
      "execution_count": 9,
      "outputs": [
        {
          "output_type": "stream",
          "name": "stdout",
          "text": [
            "Autoregressive, BatchBroadcast, BatchConcat, BatchReshape, Bates, Bernoulli\n",
            "Beta, BetaBinomial, BetaQuotient, Binomial, Blockwise, Categorical, Cauchy, Chi\n",
            "Chi2, CholeskyLKJ, ContinuousBernoulli, DeterminantalPointProcess, Deterministic\n",
            "Dirichlet, DirichletMultinomial, Distribution, DoublesidedMaxwell, Empirical\n",
            "ExpGamma, ExpInverseGamma, ExpRelaxedOneHotCategorical, Exponential\n",
            "ExponentiallyModifiedGaussian, FiniteDiscrete, Gamma, GammaGamma\n",
            "GaussianProcess, GaussianProcessRegressionModel, GeneralizedExtremeValue\n",
            "GeneralizedNormal, GeneralizedPareto, Geometric, Gumbel, HalfCauchy, HalfNormal\n",
            "HalfStudentT, HiddenMarkovModel, Horseshoe, Independent, InverseGamma\n",
            "InverseGaussian, JohnsonSU, JointDistribution, JointDistributionCoroutine\n",
            "JointDistributionCoroutineAutoBatched, JointDistributionNamed\n",
            "JointDistributionNamedAutoBatched, JointDistributionSequential\n",
            "JointDistributionSequentialAutoBatched, Kumaraswamy, LKJ, LambertWDistribution\n",
            "LambertWNormal, Laplace, LinearGaussianStateSpaceModel, LogLogistic, LogNormal\n",
            "Logistic, LogitNormal, MarkovChain, Masked, MatrixNormalLinearOperator\n",
            "MatrixTLinearOperator, Mixture, MixtureSameFamily, Moyal, Multinomial\n",
            "MultivariateNormalDiag, MultivariateNormalDiagPlusLowRank\n",
            "MultivariateNormalDiagPlusLowRankCovariance, MultivariateNormalFullCovariance\n",
            "MultivariateNormalLinearOperator, MultivariateNormalTriL\n",
            "MultivariateStudentTLinearOperator, NegativeBinomial, Normal\n",
            "NormalInverseGaussian, OneHotCategorical, OrderedLogistic, PERT, Pareto\n",
            "PixelCNN, PlackettLuce, Poisson, PoissonLogNormalQuadratureCompound\n",
            "PowerSpherical, ProbitBernoulli, QuantizedDistribution, RelaxedBernoulli\n",
            "RelaxedOneHotCategorical, Sample, SigmoidBeta, SinhArcsinh, Skellam\n",
            "SphericalUniform, StoppingRatioLogistic, StudentT, StudentTProcess\n",
            "StudentTProcessRegressionModel, TransformedDistribution, Triangular\n",
            "TruncatedCauchy, TruncatedNormal, TwoPieceNormal, Uniform\n",
            "VariationalGaussianProcess, VectorDeterministic, VonMises, VonMisesFisher\n",
            "Weibull, WishartLinearOperator, WishartTriL, Zipf\n"
          ]
        }
      ]
    },
    {
      "cell_type": "code",
      "source": [
        "# A standard normal\n",
        "normal = tfd.Normal(loc=0., scale=1.)\n",
        "print(normal)\n",
        "# Plot 1000 samples from a standard normal\n",
        "samples = normal.sample(1000)\n",
        "sns.distplot(samples)\n",
        "plt.title(\"Samples from a standard Normal\")\n",
        "plt.show()\n"
      ],
      "metadata": {
        "colab": {
          "base_uri": "https://localhost:8080/",
          "height": 363
        },
        "id": "uiVsklab0G9p",
        "outputId": "624e8852-e3d2-4d03-88fd-6dcd26db9746"
      },
      "execution_count": 10,
      "outputs": [
        {
          "output_type": "stream",
          "name": "stdout",
          "text": [
            "tfp.distributions.Normal(\"Normal\", batch_shape=[], event_shape=[], dtype=float32)\n"
          ]
        },
        {
          "output_type": "stream",
          "name": "stderr",
          "text": [
            "/usr/local/lib/python3.7/dist-packages/seaborn/distributions.py:2619: FutureWarning: `distplot` is a deprecated function and will be removed in a future version. Please adapt your code to use either `displot` (a figure-level function with similar flexibility) or `histplot` (an axes-level function for histograms).\n",
            "  warnings.warn(msg, FutureWarning)\n"
          ]
        },
        {
          "output_type": "display_data",
          "data": {
            "text/plain": [
              "<Figure size 432x288 with 1 Axes>"
            ],
            "image/png": "[encoded data removed]"
          },
          "metadata": {
            "needs_background": "light"
          }
        }
      ]
    },
    {
      "cell_type": "code",
      "source": [
        "# A Gamma distribution\n",
        "c = 1.\n",
        "r = 1.\n",
        "gamma = tfd.Gamma(concentration=c, rate=r)\n",
        "\n",
        "# Plot 1000 samples \n",
        "samples = gamma.sample(1000)\n",
        "sns.distplot(samples)\n",
        "plt.title(f\"Samples from a Gamma distribution with shape {c} and rate {r}\")\n",
        "plt.show()"
      ],
      "metadata": {
        "colab": {
          "base_uri": "https://localhost:8080/",
          "height": 345
        },
        "id": "4u7C-s0F0HXr",
        "outputId": "d9fde924-c300-46a7-90fa-c3e8abe95a4d"
      },
      "execution_count": 15,
      "outputs": [
        {
          "output_type": "stream",
          "name": "stderr",
          "text": [
            "/usr/local/lib/python3.7/dist-packages/seaborn/distributions.py:2619: FutureWarning: `distplot` is a deprecated function and will be removed in a future version. Please adapt your code to use either `displot` (a figure-level function with similar flexibility) or `histplot` (an axes-level function for histograms).\n",
            "  warnings.warn(msg, FutureWarning)\n"
          ]
        },
        {
          "output_type": "display_data",
          "data": {
            "text/plain": [
              "<Figure size 432x288 with 1 Axes>"
            ],
            "image/png": "[encoded data removed]"
          },
          "metadata": {
            "needs_background": "light"
          }
        }
      ]
    },
    {
      "cell_type": "markdown",
      "source": [
        "### Play around\n",
        "\n",
        "- Sample a tensor of shape $128\\times 128 \\times 3 $ from the standard normal.\n",
        "- Calculate the log probabilities of each sample with the method log_prob.\n",
        "- Calculate the exact KL divergence between the standard normal and a gaussian distribution with $\\mu = 1$ and $\\sigma = 2$ using the method kl_divergence.\n",
        "- What happen if you try to calculate the KL divergence between the standard normal and the previously defined gamma distribution?\n",
        "- Using the Monte Carlo estimator of KL divergence code (cell hereafter), calculate an approximation of the KL divergence between the Gamma distribution and the standard normal."
      ],
      "metadata": {
        "id": "x4hyvYD72AY3"
      }
    },
    {
      "cell_type": "code",
      "source": [
        "def approx_kl(p,q,num_draws = int(1e5)):\n",
        "  return(tfp.monte_carlo.expectation(\n",
        "    f=lambda x: p.log_prob(x) - q.log_prob(x),\n",
        "    samples=p.sample(num_draws, seed=42),\n",
        "    log_prob=p.log_prob,\n",
        "    use_reparameterization=(p.reparameterization_type\n",
        "                           == tfp.distributions.FULLY_REPARAMETERIZED)))\n"
      ],
      "metadata": {
        "id": "nR4Xd5mc2T_e"
      },
      "execution_count": 26,
      "outputs": []
    },
    {
      "cell_type": "markdown",
      "source": [
        "## Bijectors\n",
        "\n",
        "Bijectors represent invertible, smooth functions. They can be used to transform distributions.\n",
        "\n",
        "In other words, $X$ is a random variable with pdf $p$, and $g$ is a smooth invertible function on the space of $X$'s, then the new random variable $Y = g(X)$ is s.t:\n",
        "\\begin{equation}\n",
        "P(Y=y) = P\\left(X=g^{-1}(y)\\right).|\\nabla g^{-1}(y)|\n",
        "\\end{equation}\n",
        "\n",
        "With *tfp.bijectors*, it preserves the ability to take samples and compute log probabilities when appying a invertible transformation to a distribution."
      ],
      "metadata": {
        "id": "PHAVBQ1K-WzZ"
      }
    },
    {
      "cell_type": "code",
      "source": [
        "#Many bijectors available\n",
        "print_subclasses_from_module(tfb, tfb.Bijector)\n"
      ],
      "metadata": {
        "colab": {
          "base_uri": "https://localhost:8080/"
        },
        "id": "IhqPCPdT2UEx",
        "outputId": "7943bc2d-a535-47e2-e6a5-82c023bde663"
      },
      "execution_count": 58,
      "outputs": [
        {
          "output_type": "stream",
          "name": "stdout",
          "text": [
            "AbsoluteValue, Ascending, AutoCompositeTensorBijector, BatchNormalization\n",
            "Bijector, Blockwise, Chain, CholeskyOuterProduct, CholeskyToInvCholesky\n",
            "Composition, CorrelationCholesky, Cumsum, DiscreteCosineTransform, Exp, Expm1\n",
            "FFJORD, FillScaleTriL, FillTriangular, FrechetCDF, GeneralizedExtremeValueCDF\n",
            "GeneralizedPareto, Glow, GompertzCDF, GumbelCDF, Householder, Identity, Inline\n",
            "Invert, IteratedSigmoidCentered, JointMap, KumaraswamyCDF, LambertWTail, Log\n",
            "Log1p, MaskedAutoregressiveFlow, MatrixInverseTriL, MatvecLU, MoyalCDF\n",
            "NormalCDF, Pad, Permute, Power, PowerTransform, RationalQuadraticSpline\n",
            "RayleighCDF, RealNVP, Reciprocal, Reshape, Restructure, Scale, ScaleMatvecDiag\n",
            "ScaleMatvecLU, ScaleMatvecLinearOperator, ScaleMatvecLinearOperatorBlock\n",
            "ScaleMatvecTriL, Shift, ShiftedGompertzCDF, Sigmoid, Sinh, SinhArcsinh, SoftClip\n",
            "Softfloor, SoftmaxCentered, Softplus, Softsign, Split, Square, Tanh\n",
            "TransformDiagonal, Transpose, WeibullCDF\n"
          ]
        }
      ]
    },
    {
      "cell_type": "markdown",
      "source": [
        "### Example with the NormalCDF transformation"
      ],
      "metadata": {
        "id": "tm1mfoZCZWS5"
      }
    },
    {
      "cell_type": "code",
      "source": [
        "normal_cdf = tfb.NormalCDF()\n",
        "xs = np.linspace(-4., 4., 200)\n",
        "plt.plot(xs, normal_cdf.forward(xs))\n",
        "plt.title(\"CDF of a normal distribution\")\n",
        "plt.show()\n",
        "plt.figure()\n",
        "plt.title(\"Log of the derivative of a normal CDF\")\n",
        "plt.plot(xs, normal_cdf.forward_log_det_jacobian(xs, event_ndims=0))\n",
        "plt.show()\n"
      ],
      "metadata": {
        "colab": {
          "base_uri": "https://localhost:8080/",
          "height": 563
        },
        "id": "3lvcH1jk2UHR",
        "outputId": "44e9000b-bd5a-4c2e-8146-e2d080f5dd2f"
      },
      "execution_count": 31,
      "outputs": [
        {
          "output_type": "display_data",
          "data": {
            "text/plain": [
              "<Figure size 432x288 with 1 Axes>"
            ],
            "image/png": "[encoded data removed]"
          },
          "metadata": {
            "needs_background": "light"
          }
        },
        {
          "output_type": "display_data",
          "data": {
            "text/plain": [
              "<Figure size 432x288 with 1 Axes>"
            ],
            "image/png": "[encoded data removed]"
          },
          "metadata": {
            "needs_background": "light"
          }
        }
      ]
    },
    {
      "cell_type": "markdown",
      "source": [
        "### Transforming a distribution with a bijector"
      ],
      "metadata": {
        "id": "gqVD2ZGMaWvd"
      }
    },
    {
      "cell_type": "code",
      "source": [
        "#From Normal distribution to logNormal\n",
        "exp_bijector = tfb.Exp()\n",
        "log_normal = exp_bijector(tfd.Normal(0., .5))\n",
        "\n",
        "samples = log_normal.sample(1000)\n",
        "xs = np.linspace(1e-10, np.max(samples), 200)\n",
        "sns.distplot(samples, norm_hist=True, kde=False)\n",
        "plt.plot(xs, log_normal.prob(xs), c='k', alpha=.75)\n",
        "plt.show()\n"
      ],
      "metadata": {
        "colab": {
          "base_uri": "https://localhost:8080/",
          "height": 329
        },
        "id": "8Eu-hpuj2UP6",
        "outputId": "72405c82-049b-4d3c-cb07-04dd6d953ab5"
      },
      "execution_count": 32,
      "outputs": [
        {
          "output_type": "stream",
          "name": "stderr",
          "text": [
            "/usr/local/lib/python3.7/dist-packages/seaborn/distributions.py:2619: FutureWarning: `distplot` is a deprecated function and will be removed in a future version. Please adapt your code to use either `displot` (a figure-level function with similar flexibility) or `histplot` (an axes-level function for histograms).\n",
            "  warnings.warn(msg, FutureWarning)\n"
          ]
        },
        {
          "output_type": "display_data",
          "data": {
            "text/plain": [
              "<Figure size 432x288 with 1 Axes>"
            ],
            "image/png": "[encoded data removed]"
          },
          "metadata": {
            "needs_background": "light"
          }
        }
      ]
    },
    {
      "cell_type": "markdown",
      "source": [
        "### Play around\n",
        "\n",
        "- Using a standard normal distribution and the NormalCDF bijector, sample from a uniform distribution.\n",
        "- Using a uniform distribution and the NormalCDF bijector, sample from a standard normal distribution."
      ],
      "metadata": {
        "id": "6gZYkPFwaofs"
      }
    },
    {
      "cell_type": "markdown",
      "source": [
        "## Learnable distribution\n",
        "\n",
        "In this section we create a probabilistic model and fit the data by minimizing the negative log likelihood criterion."
      ],
      "metadata": {
        "id": "1l-3aYjLeYkM"
      }
    },
    {
      "cell_type": "code",
      "source": [
        "# ML criterion\n",
        "neg_log_likelihood = lambda x,rvx : -rvx.log_prob(x)"
      ],
      "metadata": {
        "id": "pS7DH_TDa3_H"
      },
      "execution_count": 6,
      "outputs": []
    },
    {
      "cell_type": "code",
      "source": [
        "# Generate the dataset\n",
        "w0 = 0.125\n",
        "b0 = 5.\n",
        "x_range = [-20, 60]\n",
        "\n",
        "def load_dataset(n=150, n_tst=150):\n",
        "  np.random.seed(43)\n",
        "  def s(x):\n",
        "    g = (x - x_range[0]) / (x_range[1] - x_range[0])\n",
        "    return 3 * (0.25 + g**2.)\n",
        "  x = (x_range[1] - x_range[0]) * np.random.rand(n) + x_range[0]\n",
        "  eps = np.random.randn(n) * s(x)\n",
        "  y = (w0 * x * (1. + np.sin(x)) + b0) + eps\n",
        "  x = x[..., np.newaxis]\n",
        "  x_tst = np.linspace(*x_range, num=n_tst).astype(np.float32)\n",
        "  x_tst = x_tst[..., np.newaxis]\n",
        "  return y, x, x_tst\n",
        "\n",
        "y, x, x_tst = load_dataset()\n"
      ],
      "metadata": {
        "id": "kEVGTvpyfpeL"
      },
      "execution_count": 7,
      "outputs": []
    },
    {
      "cell_type": "markdown",
      "source": [
        "We create a basic gaussian probabilistic model with $\\mu$ an affine function of $x$ and $\\sigma=1$.\n",
        "\n",
        "---\n",
        "\n"
      ],
      "metadata": {
        "id": "yzAi18P4hGP1"
      }
    },
    {
      "cell_type": "code",
      "source": [
        "# Build model.\n",
        "model = tf.keras.Sequential([\n",
        "  tf.keras.layers.Dense(1),\n",
        "  tfp.layers.DistributionLambda(lambda t: tfd.Normal(loc=t, scale=1)),\n",
        "])\n",
        "\n",
        "# Do inference.\n",
        "model.compile(optimizer=tf.optimizers.Adam(learning_rate=0.01), loss=neg_log_likelihood)\n",
        "model.fit(x, y, epochs=1000, verbose=False)\n",
        "\n",
        "# Return weight and bias\n",
        "[print(np.squeeze(w.numpy())) for w in model.weights];\n",
        "yhat = model(x_tst)\n",
        "assert isinstance(yhat, tfd.Distribution)\n"
      ],
      "metadata": {
        "colab": {
          "base_uri": "https://localhost:8080/"
        },
        "id": "l0wjvd7cgcu2",
        "outputId": "80e458ce-af43-43bd-ca8d-f7fac28fd032"
      },
      "execution_count": 52,
      "outputs": [
        {
          "output_type": "stream",
          "name": "stdout",
          "text": [
            "0.1392466\n",
            "5.1429625\n"
          ]
        }
      ]
    },
    {
      "cell_type": "code",
      "source": [
        "# Plot \n",
        "\n",
        "w = np.squeeze(model.layers[-2].kernel.numpy())\n",
        "b = np.squeeze(model.layers[-2].bias.numpy())\n",
        "\n",
        "plt.figure(figsize=[6, 1.5])  # inches\n",
        "#plt.figure(figsize=[8, 5])  # inches\n",
        "plt.plot(x, y, 'b.', label='observed');\n",
        "plt.plot(x_tst, yhat.mean(),'r', label='mean', linewidth=4);\n",
        "plt.ylim(-0.,17);\n",
        "plt.yticks(np.linspace(0, 15, 4)[1:]);\n",
        "plt.xticks(np.linspace(*x_range, num=9));\n",
        "\n",
        "ax=plt.gca();\n",
        "ax.xaxis.set_ticks_position('bottom')\n",
        "ax.yaxis.set_ticks_position('left')\n",
        "ax.spines['left'].set_position(('data', 0))\n",
        "ax.spines['top'].set_visible(False)\n",
        "ax.spines['right'].set_visible(False)\n",
        "#ax.spines['left'].set_smart_bounds(True)\n",
        "#ax.spines['bottom'].set_smart_bounds(True)\n",
        "plt.legend(loc='center left', fancybox=True, framealpha=0., bbox_to_anchor=(1.05, 0.5))\n"
      ],
      "metadata": {
        "colab": {
          "base_uri": "https://localhost:8080/",
          "height": 156
        },
        "id": "X4rr24WQiqqZ",
        "outputId": "5ca9c778-1ee0-456c-fb92-9eefab74156e"
      },
      "execution_count": 53,
      "outputs": [
        {
          "output_type": "execute_result",
          "data": {
            "text/plain": [
              "<matplotlib.legend.Legend at 0x7f3977df9ed0>"
            ]
          },
          "metadata": {},
          "execution_count": 53
        },
        {
          "output_type": "display_data",
          "data": {
            "text/plain": [
              "<Figure size 432x108 with 1 Axes>"
            ],
            "image/png": "[encoded data removed]"
          },
          "metadata": {
            "needs_background": "light"
          }
        }
      ]
    },
    {
      "cell_type": "markdown",
      "source": [
        "### Play around\n",
        "\n",
        "- Modify the code so $\\mu$ is an affine functions of $x$ and $\\sigma$ is a strictly positive function of $x$. We can use the function *tf.math.softplus* and add a constant to enforce $\\sigma$ to be strictly positive.\n",
        "- Modify the code to transform the output distribution in a Generalized Normal distribution with learnable mean, standard deviation and power.\n",
        "-  The module *tfpl.DenseVariational(units, make_posterior, make_prior)* implements the Bayesian variational inference analogue to\n",
        "  a dense layer by assuming the kernel and/or the bias are drawn\n",
        "  from distributions. In this context :\n",
        "  - *units* stand for the size of the ouput space.\n",
        "  - Let $K$ be the kernel weights and $b$ the bias. Given a prior for $K$ and $b$ and a surrogate posterior $K,b|x$, the layer adds a KL divergence loss between prior and posterior to the overall cost. \n",
        "  - The *make_prior* and *make_posterior* arguments are Python callable taking tf.size(kernel), tf.size(bias) as inputs and return another callable which takes an input and produces a tfd.Distribution ouptut.\n",
        "\n",
        "  The cell block hereafter gives an example of a trainable normal prior over $K$ and $b$. Based on this code section build a make_posterior function which implements a surrogate normal distribution with constant mean and standard deviation parameters. Then, create a probabilistic network with the Dense Variational layer which encompasses uncertainty over the parameters of the affine function $\\mu(x)$, letting $\\sigma=1$.   \n"
      ],
      "metadata": {
        "id": "TKgeREQUjEuG"
      }
    },
    {
      "cell_type": "code",
      "source": [
        "# Specify the prior over `keras.layers.Dense` `kernel` and `bias`.\n",
        "def prior_trainable(kernel_size, bias_size=0, dtype=None):\n",
        "  n = kernel_size + bias_size\n",
        "  return tf.keras.Sequential([\n",
        "      tfp.layers.VariableLayer(n, dtype=dtype),\n",
        "      tfp.layers.DistributionLambda(lambda t: tfd.Independent(\n",
        "          tfd.Normal(loc=t, scale=1),\n",
        "          reinterpreted_batch_ndims=1)),\n",
        "  ])\n"
      ],
      "metadata": {
        "id": "aVLjIwWc5ML0"
      },
      "execution_count": 59,
      "outputs": []
    },
    {
      "cell_type": "markdown",
      "source": [
        "## Example of more complex inference model : Variational Auto-encoder"
      ],
      "metadata": {
        "id": "c9lU3FWsHvZw"
      }
    },
    {
      "cell_type": "markdown",
      "source": [
        "Given a set of samples from a random vector $X$, with unknown dustribution $p(x)$, the VAE is a generative method to sample from $X$ based on the minimization of a variational inference cost. In fact for any random variable $Z$ with distribution $p(z)$:\n",
        "\\begin{equation}\n",
        "\\log p(x) = - D_{KL}\\left( p(z|x)||p(z) \\right) + E_{z\\sim p(z|x)}[p(x|z)]\n",
        "\\end{equation}\n",
        "Using surrogate posterior $q_{\\phi}$ depending on a set of parameters $\\phi$, surrogate likelihood $p_\\theta(x|z)$ we obtain the Evidence Lower BOund (ELBO) (right handside of the inequation):\n",
        "\\begin{equation}\n",
        "\\log p(x) \\geq - D_{KL}\\left( q_\\phi(z|x)||p(z) \\right) + E_{z\\sim q_\\phi(z|x)}[p_\\theta(x|z)]\n",
        "\\end{equation}\n",
        "We seek to maximize the ELBO wrt $\\phi$ and $\\theta$."
      ],
      "metadata": {
        "id": "DTOS4oZ-IljW"
      }
    },
    {
      "cell_type": "code",
      "source": [
        "# Encoder network\n",
        "class Encoder(tfk.Model):\n",
        "    \n",
        "    def __init__(self):      \n",
        "        super(Encoder,self).__init__()\n",
        "        self.encoded_size = 2\n",
        "        self.prior        = tfd.Independent(tfd.Normal(loc=tf.zeros(self.encoded_size), scale=1),\n",
        "                        reinterpreted_batch_ndims=1)\n",
        "        self.dense1       = tfkl.Dense(5,activation='relu')\n",
        "        self.dense2       = tfkl.Dense(5,activation='relu')\n",
        "        self.lambda1      = tfkl.Lambda(lambda x: tf.abs(x)+0.001)\n",
        "        self.dense3       = tfkl.Dense(tfpl.MultivariateNormalTriL.params_size(self.encoded_size))\n",
        "        self.multv_norm1  = tfpl.MultivariateNormalTriL(self.encoded_size,\n",
        "                                                   activity_regularizer=tfpl.KLDivergenceRegularizer(self.prior,\n",
        "                                                                                                     weight=1.0))\n",
        "        \n",
        "    def call(self, inputs):\n",
        "      x = self.dense1(inputs)\n",
        "      x = self.dense2(x)\n",
        "      x = self.lambda1(x)\n",
        "      x = self.dense3(x)\n",
        "      x = self.multv_norm1(x)\n",
        "      return x"
      ],
      "metadata": {
        "id": "5qN0dui9Ymte"
      },
      "execution_count": 2,
      "outputs": []
    },
    {
      "cell_type": "code",
      "source": [
        "# Decoder network\n",
        "class Decoder(tfk.Model):\n",
        "    def __init__(self):\n",
        "        super(Decoder,self).__init__()\n",
        "        self.K         = 2\n",
        "        self.dense1    = tfkl.Dense(5, use_bias=True, activation='relu')\n",
        "        self.dense2    = tfkl.Dense(5, use_bias=True, activation='relu')\n",
        "        self.dense3    = tfkl.Dense(tfpl.MultivariateNormalTriL(self.K).params_size(self.K))        \n",
        "        self.ind_norm1 = tfpl.MultivariateNormalTriL(self.K)\n",
        "        \n",
        "        \n",
        "    def call(self, inputs):\n",
        "        x = self.dense1(inputs)\n",
        "        x = self.dense2(x)\n",
        "        x = self.dense3(x)\n",
        "        x = self.ind_norm1(x)\n",
        "        return x"
      ],
      "metadata": {
        "id": "ERFgqUAOaF7p"
      },
      "execution_count": 3,
      "outputs": []
    },
    {
      "cell_type": "code",
      "source": [
        "# VAE class \n",
        "class VAE(tfk.Model):\n",
        "    def __init__(self):      \n",
        "        super(VAE,self).__init__()\n",
        "        self.encoder = Encoder()\n",
        "        self.decoder = Decoder()\n",
        "    \n",
        "    def call(self,inputs):\n",
        "        return self.decoder(self.encoder(inputs))\n",
        "    \n"
      ],
      "metadata": {
        "id": "vIX4iWLTafJk"
      },
      "execution_count": 4,
      "outputs": []
    },
    {
      "cell_type": "code",
      "source": [
        "Y  = tf.cast(tf.reshape(y,(150,1)),dtype = tf.float64)\n",
        "X  = tf.cast(x,tf.float64)\n",
        "sX = 40\n",
        "sY = 10\n",
        "Ds = tf.concat([X/sX,Y/sY],1)\n",
        "vae = VAE()"
      ],
      "metadata": {
        "id": "O1N5H-0UdiAt"
      },
      "execution_count": 8,
      "outputs": []
    },
    {
      "cell_type": "code",
      "source": [
        "# Training\n",
        "vae.compile(optimizer=tf.optimizers.Adam(learning_rate=1e-3),\n",
        "            loss=neg_log_likelihood)\n",
        "vae.fit(Ds,Ds,\n",
        "        batch_size=32,\n",
        "        epochs=100,\n",
        "        verbose =1 \n",
        "        )"
      ],
      "metadata": {
        "colab": {
          "base_uri": "https://localhost:8080/"
        },
        "id": "G8O5NYjWaKO2",
        "outputId": "fa56f136-24e9-4dba-8e81-ddf4e919a52b"
      },
      "execution_count": 10,
      "outputs": [
        {
          "output_type": "stream",
          "name": "stdout",
          "text": [
            "Epoch 1/100\n",
            "5/5 [==============================] - 4s 6ms/step - loss: 3.1974\n",
            "Epoch 2/100\n",
            "5/5 [==============================] - 0s 4ms/step - loss: 3.0833\n",
            "Epoch 3/100\n",
            "5/5 [==============================] - 0s 4ms/step - loss: 3.0994\n",
            "Epoch 4/100\n",
            "5/5 [==============================] - 0s 3ms/step - loss: 3.0520\n",
            "Epoch 5/100\n",
            "5/5 [==============================] - 0s 5ms/step - loss: 2.8055\n",
            "Epoch 6/100\n",
            "5/5 [==============================] - 0s 4ms/step - loss: 2.9202\n",
            "Epoch 7/100\n",
            "5/5 [==============================] - 0s 3ms/step - loss: 2.8204\n",
            "Epoch 8/100\n",
            "5/5 [==============================] - 0s 4ms/step - loss: 2.7645\n",
            "Epoch 9/100\n",
            "5/5 [==============================] - 0s 4ms/step - loss: 2.5126\n",
            "Epoch 10/100\n",
            "5/5 [==============================] - 0s 5ms/step - loss: 2.4991\n",
            "Epoch 11/100\n",
            "5/5 [==============================] - 0s 5ms/step - loss: 2.6204\n",
            "Epoch 12/100\n",
            "5/5 [==============================] - 0s 5ms/step - loss: 2.5186\n",
            "Epoch 13/100\n",
            "5/5 [==============================] - 0s 4ms/step - loss: 2.4634\n",
            "Epoch 14/100\n",
            "5/5 [==============================] - 0s 4ms/step - loss: 2.4133\n",
            "Epoch 15/100\n",
            "5/5 [==============================] - 0s 4ms/step - loss: 2.4237\n",
            "Epoch 16/100\n",
            "5/5 [==============================] - 0s 4ms/step - loss: 2.3780\n",
            "Epoch 17/100\n",
            "5/5 [==============================] - 0s 4ms/step - loss: 2.2818\n",
            "Epoch 18/100\n",
            "5/5 [==============================] - 0s 5ms/step - loss: 2.2730\n",
            "Epoch 19/100\n",
            "5/5 [==============================] - 0s 4ms/step - loss: 2.1841\n",
            "Epoch 20/100\n",
            "5/5 [==============================] - 0s 4ms/step - loss: 2.2557\n",
            "Epoch 21/100\n",
            "5/5 [==============================] - 0s 4ms/step - loss: 2.2114\n",
            "Epoch 22/100\n",
            "5/5 [==============================] - 0s 4ms/step - loss: 2.1945\n",
            "Epoch 23/100\n",
            "5/5 [==============================] - 0s 4ms/step - loss: 2.1430\n",
            "Epoch 24/100\n",
            "5/5 [==============================] - 0s 4ms/step - loss: 2.0007\n",
            "Epoch 25/100\n",
            "5/5 [==============================] - 0s 4ms/step - loss: 1.9706\n",
            "Epoch 26/100\n",
            "5/5 [==============================] - 0s 4ms/step - loss: 2.0543\n",
            "Epoch 27/100\n",
            "5/5 [==============================] - 0s 4ms/step - loss: 2.0139\n",
            "Epoch 28/100\n",
            "5/5 [==============================] - 0s 4ms/step - loss: 2.1144\n",
            "Epoch 29/100\n",
            "5/5 [==============================] - 0s 4ms/step - loss: 1.9454\n",
            "Epoch 30/100\n",
            "5/5 [==============================] - 0s 7ms/step - loss: 2.1167\n",
            "Epoch 31/100\n",
            "5/5 [==============================] - 0s 3ms/step - loss: 1.9613\n",
            "Epoch 32/100\n",
            "5/5 [==============================] - 0s 4ms/step - loss: 1.9742\n",
            "Epoch 33/100\n",
            "5/5 [==============================] - 0s 4ms/step - loss: 1.7707\n",
            "Epoch 34/100\n",
            "5/5 [==============================] - 0s 4ms/step - loss: 1.9280\n",
            "Epoch 35/100\n",
            "5/5 [==============================] - 0s 4ms/step - loss: 1.7916\n",
            "Epoch 36/100\n",
            "5/5 [==============================] - 0s 5ms/step - loss: 1.7850\n",
            "Epoch 37/100\n",
            "5/5 [==============================] - 0s 4ms/step - loss: 1.7631\n",
            "Epoch 38/100\n",
            "5/5 [==============================] - 0s 4ms/step - loss: 1.8443\n",
            "Epoch 39/100\n",
            "5/5 [==============================] - 0s 4ms/step - loss: 1.8357\n",
            "Epoch 40/100\n",
            "5/5 [==============================] - 0s 7ms/step - loss: 1.7434\n",
            "Epoch 41/100\n",
            "5/5 [==============================] - 0s 5ms/step - loss: 1.7723\n",
            "Epoch 42/100\n",
            "5/5 [==============================] - 0s 4ms/step - loss: 1.6870\n",
            "Epoch 43/100\n",
            "5/5 [==============================] - 0s 5ms/step - loss: 1.6105\n",
            "Epoch 44/100\n",
            "5/5 [==============================] - 0s 4ms/step - loss: 1.5948\n",
            "Epoch 45/100\n",
            "5/5 [==============================] - 0s 4ms/step - loss: 1.6244\n",
            "Epoch 46/100\n",
            "5/5 [==============================] - 0s 4ms/step - loss: 1.6110\n",
            "Epoch 47/100\n",
            "5/5 [==============================] - 0s 3ms/step - loss: 1.5918\n",
            "Epoch 48/100\n",
            "5/5 [==============================] - 0s 4ms/step - loss: 1.5543\n",
            "Epoch 49/100\n",
            "5/5 [==============================] - 0s 4ms/step - loss: 1.5609\n",
            "Epoch 50/100\n",
            "5/5 [==============================] - 0s 4ms/step - loss: 1.5858\n",
            "Epoch 51/100\n",
            "5/5 [==============================] - 0s 6ms/step - loss: 1.5036\n",
            "Epoch 52/100\n",
            "5/5 [==============================] - 0s 4ms/step - loss: 1.6124\n",
            "Epoch 53/100\n",
            "5/5 [==============================] - 0s 4ms/step - loss: 1.5204\n",
            "Epoch 54/100\n",
            "5/5 [==============================] - 0s 4ms/step - loss: 1.4870\n",
            "Epoch 55/100\n",
            "5/5 [==============================] - 0s 6ms/step - loss: 1.5346\n",
            "Epoch 56/100\n",
            "5/5 [==============================] - 0s 4ms/step - loss: 1.5509\n",
            "Epoch 57/100\n",
            "5/5 [==============================] - 0s 5ms/step - loss: 1.4085\n",
            "Epoch 58/100\n",
            "5/5 [==============================] - 0s 4ms/step - loss: 1.4947\n",
            "Epoch 59/100\n",
            "5/5 [==============================] - 0s 4ms/step - loss: 1.4405\n",
            "Epoch 60/100\n",
            "5/5 [==============================] - 0s 4ms/step - loss: 1.5395\n",
            "Epoch 61/100\n",
            "5/5 [==============================] - 0s 4ms/step - loss: 1.5127\n",
            "Epoch 62/100\n",
            "5/5 [==============================] - 0s 5ms/step - loss: 1.4618\n",
            "Epoch 63/100\n",
            "5/5 [==============================] - 0s 4ms/step - loss: 1.4061\n",
            "Epoch 64/100\n",
            "5/5 [==============================] - 0s 4ms/step - loss: 1.4425\n",
            "Epoch 65/100\n",
            "5/5 [==============================] - 0s 3ms/step - loss: 1.4941\n",
            "Epoch 66/100\n",
            "5/5 [==============================] - 0s 4ms/step - loss: 1.3790\n",
            "Epoch 67/100\n",
            "5/5 [==============================] - 0s 3ms/step - loss: 1.4735\n",
            "Epoch 68/100\n",
            "5/5 [==============================] - 0s 4ms/step - loss: 1.3810\n",
            "Epoch 69/100\n",
            "5/5 [==============================] - 0s 4ms/step - loss: 1.4721\n",
            "Epoch 70/100\n",
            "5/5 [==============================] - 0s 4ms/step - loss: 1.3953\n",
            "Epoch 71/100\n",
            "5/5 [==============================] - 0s 4ms/step - loss: 1.4278\n",
            "Epoch 72/100\n",
            "5/5 [==============================] - 0s 4ms/step - loss: 1.4071\n",
            "Epoch 73/100\n",
            "5/5 [==============================] - 0s 3ms/step - loss: 1.3490\n",
            "Epoch 74/100\n",
            "5/5 [==============================] - 0s 4ms/step - loss: 1.3874\n",
            "Epoch 75/100\n",
            "5/5 [==============================] - 0s 4ms/step - loss: 1.3694\n",
            "Epoch 76/100\n",
            "5/5 [==============================] - 0s 4ms/step - loss: 1.3707\n",
            "Epoch 77/100\n",
            "5/5 [==============================] - 0s 5ms/step - loss: 1.3431\n",
            "Epoch 78/100\n",
            "5/5 [==============================] - 0s 5ms/step - loss: 1.3483\n",
            "Epoch 79/100\n",
            "5/5 [==============================] - 0s 3ms/step - loss: 1.2753\n",
            "Epoch 80/100\n",
            "5/5 [==============================] - 0s 3ms/step - loss: 1.2840\n",
            "Epoch 81/100\n",
            "5/5 [==============================] - 0s 4ms/step - loss: 1.3284\n",
            "Epoch 82/100\n",
            "5/5 [==============================] - 0s 3ms/step - loss: 1.2966\n",
            "Epoch 83/100\n",
            "5/5 [==============================] - 0s 4ms/step - loss: 1.3350\n",
            "Epoch 84/100\n",
            "5/5 [==============================] - 0s 3ms/step - loss: 1.3355\n",
            "Epoch 85/100\n",
            "5/5 [==============================] - 0s 4ms/step - loss: 1.3003\n",
            "Epoch 86/100\n",
            "5/5 [==============================] - 0s 4ms/step - loss: 1.1937\n",
            "Epoch 87/100\n",
            "5/5 [==============================] - 0s 4ms/step - loss: 1.2453\n",
            "Epoch 88/100\n",
            "5/5 [==============================] - 0s 4ms/step - loss: 1.2222\n",
            "Epoch 89/100\n",
            "5/5 [==============================] - 0s 4ms/step - loss: 1.2886\n",
            "Epoch 90/100\n",
            "5/5 [==============================] - 0s 3ms/step - loss: 1.2688\n",
            "Epoch 91/100\n",
            "5/5 [==============================] - 0s 5ms/step - loss: 1.2151\n",
            "Epoch 92/100\n",
            "5/5 [==============================] - 0s 4ms/step - loss: 1.2208\n",
            "Epoch 93/100\n",
            "5/5 [==============================] - 0s 4ms/step - loss: 1.2814\n",
            "Epoch 94/100\n",
            "5/5 [==============================] - 0s 4ms/step - loss: 1.2519\n",
            "Epoch 95/100\n",
            "5/5 [==============================] - 0s 5ms/step - loss: 1.2489\n",
            "Epoch 96/100\n",
            "5/5 [==============================] - 0s 4ms/step - loss: 1.2444\n",
            "Epoch 97/100\n",
            "5/5 [==============================] - 0s 4ms/step - loss: 1.2391\n",
            "Epoch 98/100\n",
            "5/5 [==============================] - 0s 4ms/step - loss: 1.2719\n",
            "Epoch 99/100\n",
            "5/5 [==============================] - 0s 4ms/step - loss: 1.1737\n",
            "Epoch 100/100\n",
            "5/5 [==============================] - 0s 4ms/step - loss: 1.2393\n"
          ]
        },
        {
          "output_type": "execute_result",
          "data": {
            "text/plain": [
              "<keras.callbacks.History at 0x7fbfe8384a10>"
            ]
          },
          "metadata": {},
          "execution_count": 10
        }
      ]
    },
    {
      "cell_type": "code",
      "source": [
        "#plotting some samples\n",
        "samples_prior = vae.encoder.prior.sample(100)\n",
        "vae_samples   = vae.decoder(samples_prior).sample()\n",
        "print(vae_samples.shape)\n",
        "plt.figure()\n",
        "plt.plot(x, y, 'b.', label='observed');\n",
        "plt.plot(vae_samples[:,0]*sX,vae_samples[:,1]*sY,'r.',label='sampled')"
      ],
      "metadata": {
        "colab": {
          "base_uri": "https://localhost:8080/",
          "height": 309
        },
        "id": "MDjMnqeXkjma",
        "outputId": "5d8aa8fd-5d3c-40e0-a5ef-bbcd70b69dfe"
      },
      "execution_count": 18,
      "outputs": [
        {
          "output_type": "stream",
          "name": "stdout",
          "text": [
            "(100, 2)\n"
          ]
        },
        {
          "output_type": "execute_result",
          "data": {
            "text/plain": [
              "[<matplotlib.lines.Line2D at 0x7fbfe3e77410>]"
            ]
          },
          "metadata": {},
          "execution_count": 18
        },
        {
          "output_type": "display_data",
          "data": {
            "text/plain": [
              "<Figure size 432x288 with 1 Axes>"
            ],
            "image/png": "[encoded data removed]"
          },
          "metadata": {
            "needs_background": "light"
          }
        }
      ]
    },
    {
      "cell_type": "markdown",
      "source": [
        "### Play around\n",
        "\n",
        "- Turn the VAE to a $\\beta$-VAE by modifying the regularization in the encoder.\n",
        "- Turn the scale of the prior learnable"
      ],
      "metadata": {
        "id": "vm74BAY2mEe2"
      }
    },
    {
      "cell_type": "markdown",
      "source": [
        "## Flow architecture with Tensorflow-probability\n",
        "\n",
        "The objective of this section is to build a flow by chaining tfp.bijectors"
      ],
      "metadata": {
        "id": "RiYFNmh7SXOY"
      }
    },
    {
      "cell_type": "code",
      "source": [
        "# Base distribution\n",
        "def create_2d_gaussian(𝜇=0, 𝜎=0.5):\n",
        "    return tfd.MultivariateNormalDiag(\n",
        "        loc=[𝜇, 𝜇],\n",
        "        scale_diag=[𝜎, 𝜎]\n",
        "    )\n",
        "\n",
        "gaussian_2d_base_dist = create_2d_gaussian()\n",
        "gaussian_2d_samples = gaussian_2d_base_dist.sample(1000)\n",
        "plt.scatter(gaussian_2d_samples[:, 0], gaussian_2d_samples[:, 1])\n",
        "plt.title(\"Base Distribution\")\n",
        "plt.show()"
      ],
      "metadata": {
        "colab": {
          "base_uri": "https://localhost:8080/",
          "height": 290
        },
        "id": "ky-CglQVSWjN",
        "outputId": "ffe440fe-cc76-4e35-b6d5-f526f0ca57dd"
      },
      "execution_count": 4,
      "outputs": [
        {
          "output_type": "display_data",
          "data": {
            "text/plain": [
              "<Figure size 432x288 with 1 Axes>"
            ],
            "image/png": "[encoded data removed]"
          },
          "metadata": {
            "needs_background": "light"
          }
        }
      ]
    },
    {
      "cell_type": "code",
      "source": [
        "# Defining various bijections f1 to f5\n",
        "\n",
        "#f1 : Shift bijector\n",
        "def f1(c1=0, c2=-2):\n",
        "    return tfb.Shift([c1, c2])\n",
        "\n",
        "#f2 : Scale bijector\n",
        "def f2(d1=1, d2=0.5):\n",
        "    return tfb.Scale([d1, d2])\n",
        "\n",
        "\n",
        "#f3 : Shift and to the power 3\n",
        "class ShiftAndCube(tfb.Bijector):\n",
        "    def __init__(self, validate_args=False, name=\"Shift and Cube\"):\n",
        "        super(ShiftAndCube, self).__init__(\n",
        "            validate_args=validate_args,\n",
        "            forward_min_event_ndims=1,\n",
        "            inverse_min_event_ndims=1,\n",
        "            name=name,\n",
        "            is_constant_jacobian=True\n",
        "        )\n",
        "        self.a = tfd.Normal(loc=3, scale=1).sample()\n",
        "\n",
        "    def _forward(self, x):\n",
        "        x = tf.cast(x, tf.float32)\n",
        "        a = [\n",
        "             [0, self.a],\n",
        "             [0, 0]\n",
        "        ]\n",
        "        return x + tf.matmul(tf.pow(x, 3), a)\n",
        "\n",
        "\n",
        "    def _inverse(self, y):\n",
        "        y = tf.cast(y, tf.float32)\n",
        "        a = [\n",
        "             [0, self.a],\n",
        "             [0, 0]\n",
        "        ]\n",
        "        return y - tf.matmul(tf.pow(y, 3), a)\n",
        "\n",
        "    def _forward_log_det_jacobian(self, x):\n",
        "        return tf.constant(1, dtype=tf.float32)\n",
        "    \n",
        "def f3():\n",
        "    return ShiftAndCube()\n",
        "\n",
        "\n",
        "# f4 : Rotation\n",
        "class Rotation2D(tfb.Bijector):\n",
        "    def __init__(self, validate_args=False, name=\"rotation_2d\"):\n",
        "        super(Rotation2D, self).__init__(\n",
        "            validate_args=validate_args,\n",
        "            forward_min_event_ndims=1,\n",
        "            inverse_min_event_ndims=1,\n",
        "            name=name,\n",
        "            is_constant_jacobian=True\n",
        "        )\n",
        "\n",
        "        theta = tfd.Uniform(low=0.0, high=2*np.pi).sample()\n",
        "\n",
        "        self.cos_theta = tf.math.cos(theta)\n",
        "        self.sin_theta = tf.math.sin(theta)\n",
        "        self.event_ndim = 1\n",
        "\n",
        "    def _forward(self, x):\n",
        "        batch_ndim = len(x.shape) - self.event_ndim\n",
        "        x0 = tf.expand_dims(x[..., 0], batch_ndim)\n",
        "        x1 = tf.expand_dims(x[..., 1], batch_ndim)\n",
        "        y0 = self.cos_theta * x0 - self.sin_theta * x1\n",
        "        y1 = self.sin_theta * x0 - self.cos_theta * x1\n",
        "\n",
        "        return tf.concat((y0, y1), axis=-1)\n",
        "\n",
        "    def _inverse(self, y):\n",
        "        batch_ndim = len(y.shape) - self.event_ndim\n",
        "        y0 = tf.expand_dims(y[..., 0], batch_ndim)\n",
        "        y1 = tf.expand_dims(y[..., 1], batch_ndim)\n",
        "        x0 = self.cos_theta * y0 + self.sin_theta * y1\n",
        "        x1 = -self.sin_theta * y0 + self.cos_theta * y1\n",
        "        return tf.concat((x0, x1), axis=-1)\n",
        "\n",
        "    def _forward_log_det_jacobian(self, x):\n",
        "        return tf.constant(0., x.dtype)\n",
        "    \n",
        "def f4():\n",
        "    return Rotation2D()\n",
        "\n",
        "# f5 :sigmoid bijection\n",
        "def f5():\n",
        "    return tfb.Sigmoid()"
      ],
      "metadata": {
        "id": "DBvXiM1CSWoz"
      },
      "execution_count": 7,
      "outputs": []
    },
    {
      "cell_type": "code",
      "source": [
        "# Chain the bijectors :\n",
        "bijectors = [f1(), f2(2, 1.5), f3(), f4(), f5()]\n",
        "names = [\n",
        "    f'$f(z) = (z_a, z_b + c) \\\\rightarrow Shift$', \n",
        "    f'$f(z) = (z_a, z_b x d) \\\\rightarrow Scale$',\n",
        "    f'$f(z) = (z_a, z_b + ez_1^3) \\\\rightarrow Shift & Cube$',\n",
        "    f'$f(z) = Rz \\\\rightarrow Rotate$',\n",
        "    f'$f(z) = Sigmoid(z)$'\n",
        "]\n",
        "\n",
        "def create_transformed_distribution(base_distribution, bij):\n",
        "    bijector = tfb.Chain(list(reversed(bij)))\n",
        "    \n",
        "    transformed_distribution = tfd.TransformedDistribution(\n",
        "        distribution=base_distribution,\n",
        "        bijector=bijector\n",
        "    )\n",
        "    return transformed_distribution"
      ],
      "metadata": {
        "id": "CFfCtbelO_8a"
      },
      "execution_count": 8,
      "outputs": []
    },
    {
      "cell_type": "code",
      "source": [
        "def plot_flow_densities(base_sample, base_dist, bijectors, names):\n",
        "    _, axs = plt.subplots(3, 2, figsize=(16, 16))\n",
        "    row = 0\n",
        "    col = 0\n",
        "    axs[row, col].scatter(base_sample[:, 0], base_sample[:, 1])\n",
        "    axs[row, col].set_title(\"Base Distribution\")\n",
        "    col = 1\n",
        "    function = 'z'\n",
        "    func = 1\n",
        "    for i in np.arange(1, 6):\n",
        "        transformed_dist = create_transformed_distribution(base_dist, bijectors[0:i])\n",
        "        img = transformed_dist.sample(1000)\n",
        "        ax = axs[row, col]\n",
        "        ax.scatter(img[:,0], img[:,1], color=\"orange\")\n",
        "        \n",
        "       \n",
        "        function = f'f_{func}({function})'\n",
        "        ax.set_title(f'${function}$, {names[i-1]}')\n",
        "        func += 1\n",
        "        if(i % 2 == 1):\n",
        "            row += 1\n",
        "            col = 0\n",
        "        else:\n",
        "            col = 1\n",
        "    plt.show()\n",
        "    \n",
        "plot_flow_densities(gaussian_2d_samples, gaussian_2d_base_dist, bijectors, names)\n"
      ],
      "metadata": {
        "colab": {
          "base_uri": "https://localhost:8080/",
          "height": 944
        },
        "id": "oY77cHH8Uv-G",
        "outputId": "c3ef8034-f9e4-4c1d-e078-b23dbed9edbe"
      },
      "execution_count": 9,
      "outputs": [
        {
          "output_type": "display_data",
          "data": {
            "text/plain": [
              "<Figure size 1152x1152 with 6 Axes>"
            ],
            "image/png": "[encoded data removed]"
          },
          "metadata": {
            "needs_background": "light"
          }
        }
      ]
    },
    {
      "cell_type": "markdown",
      "source": [
        "## Answers"
      ],
      "metadata": {
        "id": "RIC6S8V_2UqK"
      }
    },
    {
      "cell_type": "markdown",
      "source": [
        "### Distributions in Tensorflow-probability"
      ],
      "metadata": {
        "id": "lF6S7--CbcRD"
      }
    },
    {
      "cell_type": "code",
      "source": [
        "S          = normal.sample([128,128,3])\n",
        "print(S[:3,:3,0])\n",
        "S_log_prob = normal.log_prob(S)\n",
        "print(S_log_prob[:3,:3,0])\n",
        "KL_n1_n2   = normal.kl_divergence(tfd.Normal(loc=1.0 , scale=2.0))\n",
        "print(KL_n1_n2)\n"
      ],
      "metadata": {
        "colab": {
          "base_uri": "https://localhost:8080/"
        },
        "id": "Xo8-3uZf3dii",
        "outputId": "57008ca1-becd-4801-941b-d1a9db37c872"
      },
      "execution_count": 20,
      "outputs": [
        {
          "output_type": "stream",
          "name": "stdout",
          "text": [
            "tf.Tensor(\n",
            "[[ 0.84538305 -1.0602015  -0.42959327]\n",
            " [-1.4264888  -0.2674294  -0.27609724]\n",
            " [ 0.35027036 -1.0539948  -1.1951798 ]], shape=(3, 3), dtype=float32)\n",
            "tf.Tensor(\n",
            "[[-1.2762748  -1.4809521  -1.0112137 ]\n",
            " [-1.9363736  -0.9546978  -0.95705336]\n",
            " [-0.9802832  -1.474391   -1.6331658 ]], shape=(3, 3), dtype=float32)\n",
            "tf.Tensor(0.44314718, shape=(), dtype=float32)\n"
          ]
        }
      ]
    },
    {
      "cell_type": "code",
      "source": [
        "normal.kl_divergence(gamma)"
      ],
      "metadata": {
        "colab": {
          "base_uri": "https://localhost:8080/",
          "height": 333
        },
        "id": "LTJkq4ip6vfm",
        "outputId": "a136298a-5d4c-42d6-da39-47aa5a88c352"
      },
      "execution_count": 23,
      "outputs": [
        {
          "output_type": "error",
          "ename": "NotImplementedError",
          "evalue": "ignored",
          "traceback": [
            "\u001b[0;31m---------------------------------------------------------------------------\u001b[0m",
            "\u001b[0;31mNotImplementedError\u001b[0m                       Traceback (most recent call last)",
            "\u001b[0;32m<ipython-input-23-90003d44c793>\u001b[0m in \u001b[0;36m<module>\u001b[0;34m\u001b[0m\n\u001b[0;32m----> 1\u001b[0;31m \u001b[0mnormal\u001b[0m\u001b[0;34m.\u001b[0m\u001b[0mkl_divergence\u001b[0m\u001b[0;34m(\u001b[0m\u001b[0mgamma\u001b[0m\u001b[0;34m)\u001b[0m\u001b[0;34m\u001b[0m\u001b[0;34m\u001b[0m\u001b[0m\n\u001b[0m",
            "\u001b[0;32m/usr/local/lib/python3.7/dist-packages/tensorflow_probability/python/distributions/distribution.py\u001b[0m in \u001b[0;36mkl_divergence\u001b[0;34m(self, other, name)\u001b[0m\n\u001b[1;32m   1788\u001b[0m     \u001b[0;31m# Subclasses that override `Distribution.kl_divergence` or `_kl_divergence`\u001b[0m\u001b[0;34m\u001b[0m\u001b[0;34m\u001b[0m\u001b[0;34m\u001b[0m\u001b[0m\n\u001b[1;32m   1789\u001b[0m     \u001b[0;31m# must ensure that assertions are applied for both `self` and `other`.\u001b[0m\u001b[0;34m\u001b[0m\u001b[0;34m\u001b[0m\u001b[0;34m\u001b[0m\u001b[0m\n\u001b[0;32m-> 1790\u001b[0;31m     \u001b[0;32mreturn\u001b[0m \u001b[0mself\u001b[0m\u001b[0;34m.\u001b[0m\u001b[0m_kl_divergence\u001b[0m\u001b[0;34m(\u001b[0m\u001b[0mother\u001b[0m\u001b[0;34m)\u001b[0m\u001b[0;34m\u001b[0m\u001b[0;34m\u001b[0m\u001b[0m\n\u001b[0m\u001b[1;32m   1791\u001b[0m \u001b[0;34m\u001b[0m\u001b[0m\n\u001b[1;32m   1792\u001b[0m   \u001b[0;32mdef\u001b[0m \u001b[0m_default_event_space_bijector\u001b[0m\u001b[0;34m(\u001b[0m\u001b[0mself\u001b[0m\u001b[0;34m,\u001b[0m \u001b[0;34m*\u001b[0m\u001b[0margs\u001b[0m\u001b[0;34m,\u001b[0m \u001b[0;34m**\u001b[0m\u001b[0mkwargs\u001b[0m\u001b[0;34m)\u001b[0m\u001b[0;34m:\u001b[0m\u001b[0;34m\u001b[0m\u001b[0;34m\u001b[0m\u001b[0m\n",
            "\u001b[0;32m/usr/local/lib/python3.7/dist-packages/tensorflow_probability/python/distributions/distribution.py\u001b[0m in \u001b[0;36m_kl_divergence\u001b[0;34m(self, other)\u001b[0m\n\u001b[1;32m   1755\u001b[0m   \u001b[0;32mdef\u001b[0m \u001b[0m_kl_divergence\u001b[0m\u001b[0;34m(\u001b[0m\u001b[0mself\u001b[0m\u001b[0;34m,\u001b[0m \u001b[0mother\u001b[0m\u001b[0;34m)\u001b[0m\u001b[0;34m:\u001b[0m\u001b[0;34m\u001b[0m\u001b[0;34m\u001b[0m\u001b[0m\n\u001b[1;32m   1756\u001b[0m     return kullback_leibler.kl_divergence(\n\u001b[0;32m-> 1757\u001b[0;31m         self, other, allow_nan_stats=self.allow_nan_stats)\n\u001b[0m\u001b[1;32m   1758\u001b[0m \u001b[0;34m\u001b[0m\u001b[0m\n\u001b[1;32m   1759\u001b[0m   \u001b[0;32mdef\u001b[0m \u001b[0mkl_divergence\u001b[0m\u001b[0;34m(\u001b[0m\u001b[0mself\u001b[0m\u001b[0;34m,\u001b[0m \u001b[0mother\u001b[0m\u001b[0;34m,\u001b[0m \u001b[0mname\u001b[0m\u001b[0;34m=\u001b[0m\u001b[0;34m'kl_divergence'\u001b[0m\u001b[0;34m)\u001b[0m\u001b[0;34m:\u001b[0m\u001b[0;34m\u001b[0m\u001b[0;34m\u001b[0m\u001b[0m\n",
            "\u001b[0;32m/usr/local/lib/python3.7/dist-packages/tensorflow_probability/python/distributions/kullback_leibler.py\u001b[0m in \u001b[0;36mkl_divergence\u001b[0;34m(distribution_a, distribution_b, allow_nan_stats, name)\u001b[0m\n\u001b[1;32m     91\u001b[0m         \"type {} and distribution_b type {}\".format(\n\u001b[1;32m     92\u001b[0m             \u001b[0mdistribution_a\u001b[0m\u001b[0;34m.\u001b[0m\u001b[0m__class__\u001b[0m\u001b[0;34m.\u001b[0m\u001b[0m__name__\u001b[0m\u001b[0;34m,\u001b[0m\u001b[0;34m\u001b[0m\u001b[0;34m\u001b[0m\u001b[0m\n\u001b[0;32m---> 93\u001b[0;31m             distribution_b.__class__.__name__))\n\u001b[0m\u001b[1;32m     94\u001b[0m \u001b[0;34m\u001b[0m\u001b[0m\n\u001b[1;32m     95\u001b[0m   \u001b[0mname\u001b[0m \u001b[0;34m=\u001b[0m \u001b[0mname\u001b[0m \u001b[0;32mor\u001b[0m \u001b[0;34m\"KullbackLeibler\"\u001b[0m\u001b[0;34m\u001b[0m\u001b[0;34m\u001b[0m\u001b[0m\n",
            "\u001b[0;31mNotImplementedError\u001b[0m: No KL(distribution_a || distribution_b) registered for distribution_a type Normal and distribution_b type Gamma"
          ]
        }
      ]
    },
    {
      "cell_type": "code",
      "source": [
        "approx_kl(normal,gamma)"
      ],
      "metadata": {
        "colab": {
          "base_uri": "https://localhost:8080/"
        },
        "id": "ShbfRVF-61uN",
        "outputId": "a1479967-4169-41d7-ea26-99b0b39f66f5"
      },
      "execution_count": 27,
      "outputs": [
        {
          "output_type": "execute_result",
          "data": {
            "text/plain": [
              "<tf.Tensor: shape=(), dtype=float32, numpy=-1.4136546>"
            ]
          },
          "metadata": {},
          "execution_count": 27
        }
      ]
    },
    {
      "cell_type": "markdown",
      "source": [
        "### Bijectors"
      ],
      "metadata": {
        "id": "QvwVpAVKbkRY"
      }
    },
    {
      "cell_type": "code",
      "source": [
        "U = normal_cdf(normal)\n",
        "U_s = U.sample(1000)\n",
        "sns.distplot(U_s)\n",
        "plt.title(\"Sample from a uniform distribution\")\n",
        "plt.show()"
      ],
      "metadata": {
        "colab": {
          "base_uri": "https://localhost:8080/",
          "height": 345
        },
        "id": "98zwgcUvbjem",
        "outputId": "85086e3a-c831-43fc-fc5d-c63c386ad50c"
      },
      "execution_count": 36,
      "outputs": [
        {
          "output_type": "stream",
          "name": "stderr",
          "text": [
            "/usr/local/lib/python3.7/dist-packages/seaborn/distributions.py:2619: FutureWarning: `distplot` is a deprecated function and will be removed in a future version. Please adapt your code to use either `displot` (a figure-level function with similar flexibility) or `histplot` (an axes-level function for histograms).\n",
            "  warnings.warn(msg, FutureWarning)\n"
          ]
        },
        {
          "output_type": "display_data",
          "data": {
            "text/plain": [
              "<Figure size 432x288 with 1 Axes>"
            ],
            "image/png": "[encoded data removed]"
          },
          "metadata": {
            "needs_background": "light"
          }
        }
      ]
    },
    {
      "cell_type": "code",
      "source": [
        "normal_qf = normal_cdf.inverse\n",
        "unif      = tfd.Uniform(low=0.0,\n",
        "    high=1.0)\n",
        "U_s       = unif.sample(1000)\n",
        "N_s         = normal_qf(U_s)\n",
        "sns.distplot(N_s)\n",
        "plt.title(\"Sample from a standard normal distribution\")\n",
        "plt.show()"
      ],
      "metadata": {
        "colab": {
          "base_uri": "https://localhost:8080/",
          "height": 345
        },
        "id": "p3PStrUlc955",
        "outputId": "c20139cc-e73f-47e4-8823-b3acc9bb6a72"
      },
      "execution_count": 40,
      "outputs": [
        {
          "output_type": "stream",
          "name": "stderr",
          "text": [
            "/usr/local/lib/python3.7/dist-packages/seaborn/distributions.py:2619: FutureWarning: `distplot` is a deprecated function and will be removed in a future version. Please adapt your code to use either `displot` (a figure-level function with similar flexibility) or `histplot` (an axes-level function for histograms).\n",
            "  warnings.warn(msg, FutureWarning)\n"
          ]
        },
        {
          "output_type": "display_data",
          "data": {
            "text/plain": [
              "<Figure size 432x288 with 1 Axes>"
            ],
            "image/png": "[encoded data removed]"
          },
          "metadata": {
            "needs_background": "light"
          }
        }
      ]
    },
    {
      "cell_type": "markdown",
      "source": [
        "### Learnable distributions"
      ],
      "metadata": {
        "id": "fNnkLZ9HjxKd"
      }
    },
    {
      "cell_type": "markdown",
      "source": [
        "$\\mu$ and $\\sigma$ both simple functions of x"
      ],
      "metadata": {
        "id": "gDMvZ1uRkGbB"
      }
    },
    {
      "cell_type": "code",
      "source": [
        "# Build model.\n",
        "model = tf.keras.Sequential([\n",
        "  tf.keras.layers.Dense(1 + 1),\n",
        "  tfp.layers.DistributionLambda(\n",
        "      lambda t: tfd.Normal(loc=t[..., :1],\n",
        "                           scale=1e-3 + tf.math.softplus(0.05 * t[...,1:]))),\n",
        "])\n",
        "\n",
        "# Do inference.\n",
        "model.compile(optimizer=tf.optimizers.Adam(learning_rate=0.01), loss=neg_log_likelihood)\n",
        "model.fit(x, y, epochs=1000, verbose=False);\n",
        "\n",
        "# Print weight and bias\n",
        "[print(np.squeeze(w.numpy())) for w in model.weights];\n",
        "yhat = model(x_tst)\n",
        "assert isinstance(yhat, tfd.Distribution)\n"
      ],
      "metadata": {
        "colab": {
          "base_uri": "https://localhost:8080/"
        },
        "id": "OGd5Yyr8j11-",
        "outputId": "2c1b5df8-40f9-4c43-a3d6-a2cc41fc71fe"
      },
      "execution_count": 54,
      "outputs": [
        {
          "output_type": "stream",
          "name": "stdout",
          "text": [
            "[0.12406649 0.9911447 ]\n",
            "[ 5.209398 11.689734]\n"
          ]
        }
      ]
    },
    {
      "cell_type": "code",
      "source": [
        "plt.figure(figsize=[6, 1.5])  # inches\n",
        "plt.plot(x, y, 'b.', label='observed');\n",
        "\n",
        "m = yhat.mean()\n",
        "s = yhat.stddev()\n",
        "\n",
        "plt.plot(x_tst, m, 'r', linewidth=4, label='mean');\n",
        "plt.plot(x_tst, m + 2 * s, 'g', linewidth=2, label=r'mean + 2 stddev');\n",
        "plt.plot(x_tst, m - 2 * s, 'g', linewidth=2, label=r'mean - 2 stddev');\n",
        "\n",
        "plt.ylim(-0.,17);\n",
        "plt.yticks(np.linspace(0, 15, 4)[1:]);\n",
        "plt.xticks(np.linspace(*x_range, num=9));\n",
        "\n",
        "ax=plt.gca();\n",
        "ax.xaxis.set_ticks_position('bottom')\n",
        "ax.yaxis.set_ticks_position('left')\n",
        "ax.spines['left'].set_position(('data', 0))\n",
        "ax.spines['top'].set_visible(False)\n",
        "ax.spines['right'].set_visible(False)\n",
        "#ax.spines['left'].set_smart_bounds(True)\n",
        "#ax.spines['bottom'].set_smart_bounds(True)\n",
        "plt.legend(loc='center left', fancybox=True, framealpha=0., bbox_to_anchor=(1.05, 0.5))\n",
        "\n",
        "plt.savefig('/tmp/fig2.png', bbox_inches='tight', dpi=300)\n"
      ],
      "metadata": {
        "colab": {
          "base_uri": "https://localhost:8080/",
          "height": 138
        },
        "id": "7bhYWkvVkXBD",
        "outputId": "1ed060f1-c2a9-43e5-b954-7214a01fa2a8"
      },
      "execution_count": 55,
      "outputs": [
        {
          "output_type": "display_data",
          "data": {
            "text/plain": [
              "<Figure size 432x108 with 1 Axes>"
            ],
            "image/png": "[encoded data removed]"
          },
          "metadata": {
            "needs_background": "light"
          }
        }
      ]
    },
    {
      "cell_type": "markdown",
      "source": [
        "Output a Generalized Normal distribution with learnable mean, standard deviation and power."
      ],
      "metadata": {
        "id": "ZLkJqMpmrApc"
      }
    },
    {
      "cell_type": "code",
      "source": [
        "# Build model.\n",
        "model = tf.keras.Sequential([\n",
        "  tf.keras.layers.Dense(1 + 1 + 1),\n",
        "  tfp.layers.DistributionLambda(\n",
        "      lambda t: tfd.GeneralizedNormal(loc=t[..., 0],\n",
        "                           scale=1e-3 + tf.math.softplus(0.05 * t[...,1]),\n",
        "                           power = 1. + tf.math.softplus(0.05 * t[...,2]))),\n",
        "])\n",
        "\n",
        "# Do inference.\n",
        "model.compile(optimizer=tf.optimizers.Adam(learning_rate=0.01), loss=neg_log_likelihood)\n",
        "model.fit(x, y, epochs=1000, verbose=False);\n",
        "\n",
        "# Print weight and bias\n",
        "[print(np.squeeze(w.numpy())) for w in model.weights];\n",
        "yhat = model(x_tst)\n",
        "assert isinstance(yhat, tfd.Distribution)\n"
      ],
      "metadata": {
        "colab": {
          "base_uri": "https://localhost:8080/"
        },
        "id": "S3_PWSDFrJ2H",
        "outputId": "4e04c208-1cdf-43cc-c7d7-15b590e38d72"
      },
      "execution_count": 57,
      "outputs": [
        {
          "output_type": "stream",
          "name": "stdout",
          "text": [
            "[0.12400828 1.5554719  0.60402787]\n",
            "[ 5.2401     5.6894007 -2.3391707]\n"
          ]
        }
      ]
    },
    {
      "cell_type": "markdown",
      "source": [
        "Introducing the Dense Variational layer."
      ],
      "metadata": {
        "id": "JCQIm2XJ5gYo"
      }
    },
    {
      "cell_type": "code",
      "source": [
        "# Specify the posterior\n",
        "def posterior_mean_field(kernel_size, bias_size=0, dtype=None):\n",
        "  n = kernel_size + bias_size\n",
        "  c = np.log(np.expm1(1.))\n",
        "  return tf.keras.Sequential([\n",
        "      tfp.layers.VariableLayer(2 * n, dtype=dtype),\n",
        "      tfp.layers.DistributionLambda(lambda t: tfd.Independent(\n",
        "          tfd.Normal(loc=t[..., :n],\n",
        "                     scale=1e-5 + tf.nn.softplus(c + t[..., n:])),\n",
        "          reinterpreted_batch_ndims=1)),\n",
        "  ])\n"
      ],
      "metadata": {
        "id": "SscAQ8qCG9ec"
      },
      "execution_count": 60,
      "outputs": []
    },
    {
      "cell_type": "code",
      "source": [
        "# Build model.\n",
        "model = tf.keras.Sequential([\n",
        "  tfp.layers.DenseVariational(1, posterior_mean_field, prior_trainable, kl_weight=1/x.shape[0]),\n",
        "  tfp.layers.DistributionLambda(lambda t: tfd.Normal(loc=t, scale=1)),\n",
        "])\n",
        "\n",
        "# Do inference.\n",
        "model.compile(optimizer=tf.optimizers.Adam(learning_rate=0.01), loss=neg_log_likelihood)\n",
        "model.fit(x, y, epochs=1000, verbose=False);\n",
        "\n",
        "# Print weights\n",
        "[print(np.squeeze(w.numpy())) for w in model.weights];\n",
        "yhat = model(x_tst)\n",
        "assert isinstance(yhat, tfd.Distribution)\n"
      ],
      "metadata": {
        "colab": {
          "base_uri": "https://localhost:8080/"
        },
        "id": "DtAnIO0WHGEg",
        "outputId": "3ef9f3d4-19d8-47e0-a71e-39521996fe2d"
      },
      "execution_count": 62,
      "outputs": [
        {
          "output_type": "stream",
          "name": "stdout",
          "text": [
            "[ 0.13207032  5.129863   -4.053582   -2.2188036 ]\n",
            "[0.12517369 5.1556664 ]\n"
          ]
        }
      ]
    },
    {
      "cell_type": "code",
      "source": [
        "plt.figure(figsize=[6, 1.5])  # inches\n",
        "plt.clf();\n",
        "plt.plot(x, y, 'b.', label='observed');\n",
        "\n",
        "yhats = [model(x_tst) for _ in range(100)]\n",
        "avgm = np.zeros_like(x_tst[..., 0])\n",
        "for i, yhat in enumerate(yhats):\n",
        "  m = np.squeeze(yhat.mean())\n",
        "  s = np.squeeze(yhat.stddev())\n",
        "  if i < 25:\n",
        "    plt.plot(x_tst, m, 'r', label='ensemble means' if i == 0 else None, linewidth=0.5)\n",
        "  avgm += m\n",
        "plt.plot(x_tst, avgm/len(yhats), 'r', label='overall mean', linewidth=4)\n",
        "\n",
        "plt.ylim(-0.,17);\n",
        "plt.yticks(np.linspace(0, 15, 4)[1:]);\n",
        "plt.xticks(np.linspace(*x_range, num=9));\n",
        "\n",
        "ax=plt.gca();\n",
        "ax.xaxis.set_ticks_position('bottom')\n",
        "ax.yaxis.set_ticks_position('left')\n",
        "ax.spines['left'].set_position(('data', 0))\n",
        "ax.spines['top'].set_visible(False)\n",
        "ax.spines['right'].set_visible(False)\n",
        "#ax.spines['left'].set_smart_bounds(True)\n",
        "#ax.spines['bottom'].set_smart_bounds(True)\n",
        "plt.legend(loc='center left', fancybox=True, framealpha=0., bbox_to_anchor=(1.05, 0.5))\n"
      ],
      "metadata": {
        "colab": {
          "base_uri": "https://localhost:8080/",
          "height": 156
        },
        "id": "RuI4ityNHPsk",
        "outputId": "152386c1-77ea-48aa-b6dd-6dd35142a91a"
      },
      "execution_count": 63,
      "outputs": [
        {
          "output_type": "execute_result",
          "data": {
            "text/plain": [
              "<matplotlib.legend.Legend at 0x7f39780248d0>"
            ]
          },
          "metadata": {},
          "execution_count": 63
        },
        {
          "output_type": "display_data",
          "data": {
            "text/plain": [
              "<Figure size 432x108 with 1 Axes>"
            ],
            "image/png": "[encoded data removed]"
          },
          "metadata": {
            "needs_background": "light"
          }
        }
      ]
    },
    {
      "cell_type": "markdown",
      "source": [
        "### VAE\n",
        "\n"
      ],
      "metadata": {
        "id": "3v-W7VTrnAXh"
      }
    },
    {
      "cell_type": "markdown",
      "source": [
        "Designing a $\\beta$-VAE"
      ],
      "metadata": {
        "id": "CBeLUsygn2KO"
      }
    },
    {
      "cell_type": "code",
      "source": [
        "class Beta_Encoder(tfk.Model):\n",
        "    \n",
        "    def __init__(self):      \n",
        "        super(Beta_Encoder,self).__init__()\n",
        "        self.encoded_size = 2\n",
        "        self.beta         = 0.5\n",
        "        self.prior        = tfd.Independent(tfd.Normal(loc=tf.zeros(self.encoded_size), scale=1),\n",
        "                        reinterpreted_batch_ndims=1)\n",
        "        self.dense1       = tfkl.Dense(5,activation='relu')\n",
        "        self.dense2       = tfkl.Dense(5,activation='relu')\n",
        "        self.lambda1      = tfkl.Lambda(lambda x: tf.abs(x)+0.001)\n",
        "        self.dense3       = tfkl.Dense(tfpl.MultivariateNormalTriL.params_size(self.encoded_size))\n",
        "        self.multv_norm1  = tfpl.MultivariateNormalTriL(self.encoded_size,\n",
        "                                                   activity_regularizer=tfpl.KLDivergenceRegularizer(self.prior,\n",
        "                                                                                                     weight=self.beta))\n",
        "        \n",
        "    def call(self, inputs):\n",
        "      x = self.dense1(inputs)\n",
        "      x = self.dense2(x)\n",
        "      x = self.lambda1(x)\n",
        "      x = self.dense3(x)\n",
        "      x = self.multv_norm1(x)\n",
        "      return x\n",
        "      \n",
        "class Beta_VAE(tfk.Model):\n",
        "  def __init__(self):      \n",
        "        super(Beta_VAE,self).__init__()\n",
        "        self.beta_encoder = Beta_Encoder()\n",
        "        self.beta_decoder = Decoder()\n",
        "    \n",
        "  def call(self,inputs):\n",
        "    return self.beta_decoder(self.beta_encoder(inputs))\n",
        "    \n"
      ],
      "metadata": {
        "id": "ioQrwbUwnEK9"
      },
      "execution_count": 165,
      "outputs": []
    },
    {
      "cell_type": "code",
      "source": [
        "b_vae = Beta_VAE()"
      ],
      "metadata": {
        "id": "jIXZoJoSr8NP"
      },
      "execution_count": 166,
      "outputs": []
    },
    {
      "cell_type": "code",
      "source": [
        "b_vae.compile(optimizer=tf.optimizers.Adam(learning_rate=1e-3),\n",
        "            loss=neg_log_likelihood)\n",
        "b_vae.fit(Ds,Ds,\n",
        "        batch_size=32,\n",
        "        epochs=100,\n",
        "        verbose =1 \n",
        "        )"
      ],
      "metadata": {
        "colab": {
          "base_uri": "https://localhost:8080/"
        },
        "id": "UecbXabRsQFj",
        "outputId": "94d71383-beaf-4e2f-d95d-f31ab7ec8645"
      },
      "execution_count": 167,
      "outputs": [
        {
          "output_type": "stream",
          "name": "stdout",
          "text": [
            "Epoch 1/100\n",
            "5/5 [==============================] - 5s 9ms/step - loss: 3.9488\n",
            "Epoch 2/100\n",
            "5/5 [==============================] - 0s 7ms/step - loss: 3.5981\n",
            "Epoch 3/100\n",
            "5/5 [==============================] - 0s 6ms/step - loss: 3.4666\n",
            "Epoch 4/100\n",
            "5/5 [==============================] - 0s 6ms/step - loss: 3.2164\n",
            "Epoch 5/100\n",
            "5/5 [==============================] - 0s 7ms/step - loss: 2.9073\n",
            "Epoch 6/100\n",
            "5/5 [==============================] - 0s 6ms/step - loss: 3.2586\n",
            "Epoch 7/100\n",
            "5/5 [==============================] - 0s 5ms/step - loss: 3.0504\n",
            "Epoch 8/100\n",
            "5/5 [==============================] - 0s 8ms/step - loss: 2.7779\n",
            "Epoch 9/100\n",
            "5/5 [==============================] - 0s 5ms/step - loss: 2.8113\n",
            "Epoch 10/100\n",
            "5/5 [==============================] - 0s 7ms/step - loss: 2.7701\n",
            "Epoch 11/100\n",
            "5/5 [==============================] - 0s 6ms/step - loss: 2.5911\n",
            "Epoch 12/100\n",
            "5/5 [==============================] - 0s 6ms/step - loss: 2.6591\n",
            "Epoch 13/100\n",
            "5/5 [==============================] - 0s 6ms/step - loss: 2.5301\n",
            "Epoch 14/100\n",
            "5/5 [==============================] - 0s 6ms/step - loss: 2.6696\n",
            "Epoch 15/100\n",
            "5/5 [==============================] - 0s 6ms/step - loss: 2.5521\n",
            "Epoch 16/100\n",
            "5/5 [==============================] - 0s 6ms/step - loss: 2.4726\n",
            "Epoch 17/100\n",
            "5/5 [==============================] - 0s 6ms/step - loss: 2.3738\n",
            "Epoch 18/100\n",
            "5/5 [==============================] - 0s 6ms/step - loss: 2.4118\n",
            "Epoch 19/100\n",
            "5/5 [==============================] - 0s 5ms/step - loss: 2.3810\n",
            "Epoch 20/100\n",
            "5/5 [==============================] - 0s 6ms/step - loss: 2.2777\n",
            "Epoch 21/100\n",
            "5/5 [==============================] - 0s 6ms/step - loss: 2.3516\n",
            "Epoch 22/100\n",
            "5/5 [==============================] - 0s 6ms/step - loss: 2.3236\n",
            "Epoch 23/100\n",
            "5/5 [==============================] - 0s 6ms/step - loss: 2.1840\n",
            "Epoch 24/100\n",
            "5/5 [==============================] - 0s 6ms/step - loss: 2.2125\n",
            "Epoch 25/100\n",
            "5/5 [==============================] - 0s 6ms/step - loss: 2.1636\n",
            "Epoch 26/100\n",
            "5/5 [==============================] - 0s 6ms/step - loss: 2.1852\n",
            "Epoch 27/100\n",
            "5/5 [==============================] - 0s 6ms/step - loss: 2.1664\n",
            "Epoch 28/100\n",
            "5/5 [==============================] - 0s 5ms/step - loss: 2.1271\n",
            "Epoch 29/100\n",
            "5/5 [==============================] - 0s 8ms/step - loss: 2.0232\n",
            "Epoch 30/100\n",
            "5/5 [==============================] - 0s 6ms/step - loss: 2.0673\n",
            "Epoch 31/100\n",
            "5/5 [==============================] - 0s 6ms/step - loss: 2.0119\n",
            "Epoch 32/100\n",
            "5/5 [==============================] - 0s 6ms/step - loss: 2.0722\n",
            "Epoch 33/100\n",
            "5/5 [==============================] - 0s 6ms/step - loss: 2.0004\n",
            "Epoch 34/100\n",
            "5/5 [==============================] - 0s 7ms/step - loss: 2.0311\n",
            "Epoch 35/100\n",
            "5/5 [==============================] - 0s 6ms/step - loss: 1.9162\n",
            "Epoch 36/100\n",
            "5/5 [==============================] - 0s 6ms/step - loss: 1.9221\n",
            "Epoch 37/100\n",
            "5/5 [==============================] - 0s 6ms/step - loss: 1.8942\n",
            "Epoch 38/100\n",
            "5/5 [==============================] - 0s 6ms/step - loss: 1.8259\n",
            "Epoch 39/100\n",
            "5/5 [==============================] - 0s 6ms/step - loss: 1.8280\n",
            "Epoch 40/100\n",
            "5/5 [==============================] - 0s 6ms/step - loss: 1.8095\n",
            "Epoch 41/100\n",
            "5/5 [==============================] - 0s 6ms/step - loss: 1.7771\n",
            "Epoch 42/100\n",
            "5/5 [==============================] - 0s 6ms/step - loss: 1.7829\n",
            "Epoch 43/100\n",
            "5/5 [==============================] - 0s 6ms/step - loss: 1.7668\n",
            "Epoch 44/100\n",
            "5/5 [==============================] - 0s 7ms/step - loss: 1.7413\n",
            "Epoch 45/100\n",
            "5/5 [==============================] - 0s 6ms/step - loss: 1.7390\n",
            "Epoch 46/100\n",
            "5/5 [==============================] - 0s 6ms/step - loss: 1.7114\n",
            "Epoch 47/100\n",
            "5/5 [==============================] - 0s 6ms/step - loss: 1.7096\n",
            "Epoch 48/100\n",
            "5/5 [==============================] - 0s 6ms/step - loss: 1.7012\n",
            "Epoch 49/100\n",
            "5/5 [==============================] - 0s 6ms/step - loss: 1.7204\n",
            "Epoch 50/100\n",
            "5/5 [==============================] - 0s 6ms/step - loss: 1.6960\n",
            "Epoch 51/100\n",
            "5/5 [==============================] - 0s 6ms/step - loss: 1.6849\n",
            "Epoch 52/100\n",
            "5/5 [==============================] - 0s 8ms/step - loss: 1.6198\n",
            "Epoch 53/100\n",
            "5/5 [==============================] - 0s 7ms/step - loss: 1.6694\n",
            "Epoch 54/100\n",
            "5/5 [==============================] - 0s 8ms/step - loss: 1.6546\n",
            "Epoch 55/100\n",
            "5/5 [==============================] - 0s 7ms/step - loss: 1.6335\n",
            "Epoch 56/100\n",
            "5/5 [==============================] - 0s 6ms/step - loss: 1.6328\n",
            "Epoch 57/100\n",
            "5/5 [==============================] - 0s 6ms/step - loss: 1.5725\n",
            "Epoch 58/100\n",
            "5/5 [==============================] - 0s 5ms/step - loss: 1.6250\n",
            "Epoch 59/100\n",
            "5/5 [==============================] - 0s 6ms/step - loss: 1.5677\n",
            "Epoch 60/100\n",
            "5/5 [==============================] - 0s 5ms/step - loss: 1.5743\n",
            "Epoch 61/100\n",
            "5/5 [==============================] - 0s 6ms/step - loss: 1.5043\n",
            "Epoch 62/100\n",
            "5/5 [==============================] - 0s 5ms/step - loss: 1.5625\n",
            "Epoch 63/100\n",
            "5/5 [==============================] - 0s 6ms/step - loss: 1.5383\n",
            "Epoch 64/100\n",
            "5/5 [==============================] - 0s 5ms/step - loss: 1.5414\n",
            "Epoch 65/100\n",
            "5/5 [==============================] - 0s 6ms/step - loss: 1.5109\n",
            "Epoch 66/100\n",
            "5/5 [==============================] - 0s 6ms/step - loss: 1.5592\n",
            "Epoch 67/100\n",
            "5/5 [==============================] - 0s 5ms/step - loss: 1.5131\n",
            "Epoch 68/100\n",
            "5/5 [==============================] - 0s 6ms/step - loss: 1.5065\n",
            "Epoch 69/100\n",
            "5/5 [==============================] - 0s 5ms/step - loss: 1.4747\n",
            "Epoch 70/100\n",
            "5/5 [==============================] - 0s 5ms/step - loss: 1.4285\n",
            "Epoch 71/100\n",
            "5/5 [==============================] - 0s 6ms/step - loss: 1.4843\n",
            "Epoch 72/100\n",
            "5/5 [==============================] - 0s 6ms/step - loss: 1.4205\n",
            "Epoch 73/100\n",
            "5/5 [==============================] - 0s 5ms/step - loss: 1.4488\n",
            "Epoch 74/100\n",
            "5/5 [==============================] - 0s 6ms/step - loss: 1.4706\n",
            "Epoch 75/100\n",
            "5/5 [==============================] - 0s 6ms/step - loss: 1.4343\n",
            "Epoch 76/100\n",
            "5/5 [==============================] - 0s 6ms/step - loss: 1.3706\n",
            "Epoch 77/100\n",
            "5/5 [==============================] - 0s 6ms/step - loss: 1.4302\n",
            "Epoch 78/100\n",
            "5/5 [==============================] - 0s 6ms/step - loss: 1.3974\n",
            "Epoch 79/100\n",
            "5/5 [==============================] - 0s 6ms/step - loss: 1.3960\n",
            "Epoch 80/100\n",
            "5/5 [==============================] - 0s 6ms/step - loss: 1.4018\n",
            "Epoch 81/100\n",
            "5/5 [==============================] - 0s 6ms/step - loss: 1.3655\n",
            "Epoch 82/100\n",
            "5/5 [==============================] - 0s 6ms/step - loss: 1.3714\n",
            "Epoch 83/100\n",
            "5/5 [==============================] - 0s 7ms/step - loss: 1.3928\n",
            "Epoch 84/100\n",
            "5/5 [==============================] - 0s 7ms/step - loss: 1.3526\n",
            "Epoch 85/100\n",
            "5/5 [==============================] - 0s 5ms/step - loss: 1.3915\n",
            "Epoch 86/100\n",
            "5/5 [==============================] - 0s 6ms/step - loss: 1.3496\n",
            "Epoch 87/100\n",
            "5/5 [==============================] - 0s 6ms/step - loss: 1.3548\n",
            "Epoch 88/100\n",
            "5/5 [==============================] - 0s 7ms/step - loss: 1.3526\n",
            "Epoch 89/100\n",
            "5/5 [==============================] - 0s 8ms/step - loss: 1.3618\n",
            "Epoch 90/100\n",
            "5/5 [==============================] - 0s 6ms/step - loss: 1.3555\n",
            "Epoch 91/100\n",
            "5/5 [==============================] - 0s 6ms/step - loss: 1.3675\n",
            "Epoch 92/100\n",
            "5/5 [==============================] - 0s 6ms/step - loss: 1.3654\n",
            "Epoch 93/100\n",
            "5/5 [==============================] - 0s 7ms/step - loss: 1.3347\n",
            "Epoch 94/100\n",
            "5/5 [==============================] - 0s 6ms/step - loss: 1.3867\n",
            "Epoch 95/100\n",
            "5/5 [==============================] - 0s 6ms/step - loss: 1.3087\n",
            "Epoch 96/100\n",
            "5/5 [==============================] - 0s 6ms/step - loss: 1.3523\n",
            "Epoch 97/100\n",
            "5/5 [==============================] - 0s 6ms/step - loss: 1.2970\n",
            "Epoch 98/100\n",
            "5/5 [==============================] - 0s 6ms/step - loss: 1.2949\n",
            "Epoch 99/100\n",
            "5/5 [==============================] - 0s 6ms/step - loss: 1.2947\n",
            "Epoch 100/100\n",
            "5/5 [==============================] - 0s 6ms/step - loss: 1.3180\n"
          ]
        },
        {
          "output_type": "execute_result",
          "data": {
            "text/plain": [
              "<keras.callbacks.History at 0x7f396dd47990>"
            ]
          },
          "metadata": {},
          "execution_count": 167
        }
      ]
    },
    {
      "cell_type": "markdown",
      "source": [
        "Learnable $\\sigma$ in the prior"
      ],
      "metadata": {
        "id": "hAsRbJCToPDS"
      }
    },
    {
      "cell_type": "code",
      "source": [
        "class Sig_Encoder(tfk.Model):\n",
        "    \n",
        "    def __init__(self):      \n",
        "        super(Sig_Encoder,self).__init__()\n",
        "        self.encoded_size = 2\n",
        "        self.c            = tf.Variable(tf.random.uniform([1], minval=1,maxval = 2, dtype=tf.float32))\n",
        "        self.prior        = self.make_mvn_prior(1,True)\n",
        "        self.dense1       = tfkl.Dense(5,activation='relu')\n",
        "        self.dense2       = tfkl.Dense(5,activation='relu')\n",
        "        self.lambda1      = tfkl.Lambda(lambda x: tf.abs(x)+0.001)\n",
        "        self.dense3       = tfkl.Dense(tfpl.MultivariateNormalTriL.params_size(self.encoded_size))\n",
        "        self.multv_norm1  = tfpl.MultivariateNormalTriL(self.encoded_size,\n",
        "                                                   activity_regularizer=tfpl.KLDivergenceRegularizer(self.prior,\n",
        "                                                                                                     weight=1.0, use_exact_kl = True))\n",
        "    def make_mvn_prior(self,ndim,trainable):       \n",
        "        if trainable:\n",
        "            c = tf.Variable(tf.random.uniform([ndim], minval=1,maxval = 2, dtype=tf.float32), name='prior_c')\n",
        "            m = tf.zeros(self.encoded_size)  \n",
        "        prior = tfd.MultivariateNormalDiag(loc= m ,\n",
        "                                           scale_identity_multiplier = c)\n",
        "        return prior\n",
        "\n",
        "    def call(self, inputs):\n",
        "      x = self.dense1(inputs)\n",
        "      x = self.dense2(x)\n",
        "      x = self.lambda1(x)\n",
        "      x = self.dense3(x)\n",
        "      x = self.multv_norm1(x)\n",
        "      return x\n",
        "\n",
        "\n",
        "class Sig_VAE(tfk.Model):\n",
        "  def __init__(self):      \n",
        "        super(Sig_VAE,self).__init__()\n",
        "        self.encoder = Sig_Encoder()\n",
        "        self.decoder = Decoder()\n",
        "    \n",
        "  def call(self,inputs):\n",
        "    return self.decoder(self.encoder(inputs))\n",
        "    "
      ],
      "metadata": {
        "id": "oNFO-ATWoOnS"
      },
      "execution_count": 238,
      "outputs": []
    },
    {
      "cell_type": "code",
      "source": [
        "s_vae = Sig_VAE()\n",
        "print(s_vae.encoder.prior.parameters['scale_identity_multiplier'].numpy().tolist())"
      ],
      "metadata": {
        "colab": {
          "base_uri": "https://localhost:8080/"
        },
        "id": "eHDo5tGHtNA4",
        "outputId": "3b74488c-f31d-4380-ce35-d1175e7c04a9"
      },
      "execution_count": 239,
      "outputs": [
        {
          "output_type": "stream",
          "name": "stdout",
          "text": [
            "[1.2250590324401855]\n"
          ]
        }
      ]
    },
    {
      "cell_type": "code",
      "source": [
        "class MyCustomCallback(tfk.callbacks.Callback):\n",
        "    def on_epoch_begin(self, epoch, logs=None):\n",
        "        print(f\"Learned sigma for the prior {self.model.encoder.prior.parameters['scale_identity_multiplier'].numpy().tolist()}\")"
      ],
      "metadata": {
        "id": "YZmDrswvvI1l"
      },
      "execution_count": 240,
      "outputs": []
    },
    {
      "cell_type": "code",
      "source": [
        "s_vae.compile(optimizer=tf.optimizers.Adam(learning_rate=1e-3),\n",
        "            loss=neg_log_likelihood)\n",
        "\n",
        "s_vae.fit(Ds,Ds,\n",
        "        batch_size=32,\n",
        "        epochs=100,\n",
        "        verbose =1,\n",
        "        callbacks=[MyCustomCallback()] \n",
        "        )"
      ],
      "metadata": {
        "colab": {
          "base_uri": "https://localhost:8080/"
        },
        "id": "G59nZeiUtTEM",
        "outputId": "12e7a698-da83-46b6-f94d-c5e2c49c5494"
      },
      "execution_count": 241,
      "outputs": [
        {
          "output_type": "stream",
          "name": "stdout",
          "text": [
            "Learned sigma for the prior [1.2250590324401855]\n",
            "Epoch 1/100\n"
          ]
        },
        {
          "output_type": "stream",
          "name": "stderr",
          "text": [
            "WARNING:tensorflow:Gradients do not exist for variables ['Variable:0'] when minimizing the loss. If you're using `model.compile()`, did you forget to provide a `loss`argument?\n",
            "WARNING:tensorflow:Gradients do not exist for variables ['Variable:0'] when minimizing the loss. If you're using `model.compile()`, did you forget to provide a `loss`argument?\n"
          ]
        },
        {
          "output_type": "stream",
          "name": "stdout",
          "text": [
            "5/5 [==============================] - 4s 6ms/step - loss: 3.8432\n",
            "Learned sigma for the prior [1.220061182975769]\n",
            "Epoch 2/100\n",
            "5/5 [==============================] - 0s 5ms/step - loss: 3.7635\n",
            "Learned sigma for the prior [1.2150717973709106]\n",
            "Epoch 3/100\n",
            "5/5 [==============================] - 0s 4ms/step - loss: 3.8198\n",
            "Learned sigma for the prior [1.2100956439971924]\n",
            "Epoch 4/100\n",
            "5/5 [==============================] - 0s 5ms/step - loss: 3.6153\n",
            "Learned sigma for the prior [1.2051451206207275]\n",
            "Epoch 5/100\n",
            "5/5 [==============================] - 0s 4ms/step - loss: 3.3990\n",
            "Learned sigma for the prior [1.2002246379852295]\n",
            "Epoch 6/100\n",
            "5/5 [==============================] - 0s 4ms/step - loss: 3.3815\n",
            "Learned sigma for the prior [1.1953470706939697]\n",
            "Epoch 7/100\n",
            "5/5 [==============================] - 0s 4ms/step - loss: 3.2939\n",
            "Learned sigma for the prior [1.1905101537704468]\n",
            "Epoch 8/100\n",
            "5/5 [==============================] - 0s 5ms/step - loss: 3.2164\n",
            "Learned sigma for the prior [1.1857131719589233]\n",
            "Epoch 9/100\n",
            "5/5 [==============================] - 0s 5ms/step - loss: 3.3234\n",
            "Learned sigma for the prior [1.180965781211853]\n",
            "Epoch 10/100\n",
            "5/5 [==============================] - 0s 5ms/step - loss: 3.0519\n",
            "Learned sigma for the prior [1.176276683807373]\n",
            "Epoch 11/100\n",
            "5/5 [==============================] - 0s 4ms/step - loss: 3.0388\n",
            "Learned sigma for the prior [1.1716395616531372]\n",
            "Epoch 12/100\n",
            "5/5 [==============================] - 0s 5ms/step - loss: 2.9539\n",
            "Learned sigma for the prior [1.167061448097229]\n",
            "Epoch 13/100\n",
            "5/5 [==============================] - 0s 4ms/step - loss: 2.9003\n",
            "Learned sigma for the prior [1.1625313758850098]\n",
            "Epoch 14/100\n",
            "5/5 [==============================] - 0s 4ms/step - loss: 3.2342\n",
            "Learned sigma for the prior [1.1580586433410645]\n",
            "Epoch 15/100\n",
            "5/5 [==============================] - 0s 5ms/step - loss: 2.8693\n",
            "Learned sigma for the prior [1.1536266803741455]\n",
            "Epoch 16/100\n",
            "5/5 [==============================] - 0s 4ms/step - loss: 2.7871\n",
            "Learned sigma for the prior [1.1492524147033691]\n",
            "Epoch 17/100\n",
            "5/5 [==============================] - 0s 4ms/step - loss: 2.8808\n",
            "Learned sigma for the prior [1.1448948383331299]\n",
            "Epoch 18/100\n",
            "5/5 [==============================] - 0s 5ms/step - loss: 2.7019\n",
            "Learned sigma for the prior [1.1406022310256958]\n",
            "Epoch 19/100\n",
            "5/5 [==============================] - 0s 5ms/step - loss: 2.6452\n",
            "Learned sigma for the prior [1.1363639831542969]\n",
            "Epoch 20/100\n",
            "5/5 [==============================] - 0s 5ms/step - loss: 2.6029\n",
            "Learned sigma for the prior [1.1321519613265991]\n",
            "Epoch 21/100\n",
            "5/5 [==============================] - 0s 4ms/step - loss: 2.5776\n",
            "Learned sigma for the prior [1.1279972791671753]\n",
            "Epoch 22/100\n",
            "5/5 [==============================] - 0s 5ms/step - loss: 2.5568\n",
            "Learned sigma for the prior [1.1238905191421509]\n",
            "Epoch 23/100\n",
            "5/5 [==============================] - 0s 4ms/step - loss: 2.5422\n",
            "Learned sigma for the prior [1.1198468208312988]\n",
            "Epoch 24/100\n",
            "5/5 [==============================] - 0s 4ms/step - loss: 2.4624\n",
            "Learned sigma for the prior [1.115833044052124]\n",
            "Epoch 25/100\n",
            "5/5 [==============================] - 0s 4ms/step - loss: 2.5153\n",
            "Learned sigma for the prior [1.1118513345718384]\n",
            "Epoch 26/100\n",
            "5/5 [==============================] - 0s 5ms/step - loss: 2.4416\n",
            "Learned sigma for the prior [1.1079497337341309]\n",
            "Epoch 27/100\n",
            "5/5 [==============================] - 0s 4ms/step - loss: 2.3785\n",
            "Learned sigma for the prior [1.1041293144226074]\n",
            "Epoch 28/100\n",
            "5/5 [==============================] - 0s 4ms/step - loss: 2.5814\n",
            "Learned sigma for the prior [1.100353717803955]\n",
            "Epoch 29/100\n",
            "5/5 [==============================] - 0s 4ms/step - loss: 2.3296\n",
            "Learned sigma for the prior [1.0966397523880005]\n",
            "Epoch 30/100\n",
            "5/5 [==============================] - 0s 7ms/step - loss: 2.3377\n",
            "Learned sigma for the prior [1.0930192470550537]\n",
            "Epoch 31/100\n",
            "5/5 [==============================] - 0s 5ms/step - loss: 2.2939\n",
            "Learned sigma for the prior [1.0894720554351807]\n",
            "Epoch 32/100\n",
            "5/5 [==============================] - 0s 6ms/step - loss: 2.3473\n",
            "Learned sigma for the prior [1.08597731590271]\n",
            "Epoch 33/100\n",
            "5/5 [==============================] - 0s 4ms/step - loss: 2.2532\n",
            "Learned sigma for the prior [1.0825278759002686]\n",
            "Epoch 34/100\n",
            "5/5 [==============================] - 0s 4ms/step - loss: 2.2192\n",
            "Learned sigma for the prior [1.0791163444519043]\n",
            "Epoch 35/100\n",
            "5/5 [==============================] - 0s 4ms/step - loss: 2.1936\n",
            "Learned sigma for the prior [1.075770616531372]\n",
            "Epoch 36/100\n",
            "5/5 [==============================] - 0s 4ms/step - loss: 2.2447\n",
            "Learned sigma for the prior [1.0724695920944214]\n",
            "Epoch 37/100\n",
            "5/5 [==============================] - 0s 5ms/step - loss: 2.1828\n",
            "Learned sigma for the prior [1.06923246383667]\n",
            "Epoch 38/100\n",
            "5/5 [==============================] - 0s 6ms/step - loss: 2.1495\n",
            "Learned sigma for the prior [1.0660276412963867]\n",
            "Epoch 39/100\n",
            "5/5 [==============================] - 0s 5ms/step - loss: 2.1756\n",
            "Learned sigma for the prior [1.0629143714904785]\n",
            "Epoch 40/100\n",
            "5/5 [==============================] - 0s 5ms/step - loss: 2.2152\n",
            "Learned sigma for the prior [1.0599106550216675]\n",
            "Epoch 41/100\n",
            "5/5 [==============================] - 0s 5ms/step - loss: 2.1019\n",
            "Learned sigma for the prior [1.057002305984497]\n",
            "Epoch 42/100\n",
            "5/5 [==============================] - 0s 4ms/step - loss: 2.0899\n",
            "Learned sigma for the prior [1.0541270971298218]\n",
            "Epoch 43/100\n",
            "5/5 [==============================] - 0s 5ms/step - loss: 2.0241\n",
            "Learned sigma for the prior [1.0512882471084595]\n",
            "Epoch 44/100\n",
            "5/5 [==============================] - 0s 5ms/step - loss: 2.0995\n",
            "Learned sigma for the prior [1.0485543012619019]\n",
            "Epoch 45/100\n",
            "5/5 [==============================] - 0s 5ms/step - loss: 2.0575\n",
            "Learned sigma for the prior [1.0458954572677612]\n",
            "Epoch 46/100\n",
            "5/5 [==============================] - 0s 5ms/step - loss: 1.9929\n",
            "Learned sigma for the prior [1.0432833433151245]\n",
            "Epoch 47/100\n",
            "5/5 [==============================] - 0s 5ms/step - loss: 1.9983\n",
            "Learned sigma for the prior [1.0407637357711792]\n",
            "Epoch 48/100\n",
            "5/5 [==============================] - 0s 4ms/step - loss: 2.2344\n",
            "Learned sigma for the prior [1.0382943153381348]\n",
            "Epoch 49/100\n",
            "5/5 [==============================] - 0s 4ms/step - loss: 1.9849\n",
            "Learned sigma for the prior [1.0358622074127197]\n",
            "Epoch 50/100\n",
            "5/5 [==============================] - 0s 5ms/step - loss: 1.9695\n",
            "Learned sigma for the prior [1.033510446548462]\n",
            "Epoch 51/100\n",
            "5/5 [==============================] - 0s 4ms/step - loss: 1.9412\n",
            "Learned sigma for the prior [1.0312074422836304]\n",
            "Epoch 52/100\n",
            "5/5 [==============================] - 0s 4ms/step - loss: 1.9576\n",
            "Learned sigma for the prior [1.0289148092269897]\n",
            "Epoch 53/100\n",
            "5/5 [==============================] - 0s 4ms/step - loss: 1.9090\n",
            "Learned sigma for the prior [1.0266704559326172]\n",
            "Epoch 54/100\n",
            "5/5 [==============================] - 0s 4ms/step - loss: 1.8794\n",
            "Learned sigma for the prior [1.0244377851486206]\n",
            "Epoch 55/100\n",
            "5/5 [==============================] - 0s 5ms/step - loss: 1.8938\n",
            "Learned sigma for the prior [1.0222597122192383]\n",
            "Epoch 56/100\n",
            "5/5 [==============================] - 0s 5ms/step - loss: 1.9075\n",
            "Learned sigma for the prior [1.020115613937378]\n",
            "Epoch 57/100\n",
            "5/5 [==============================] - 0s 5ms/step - loss: 1.9329\n",
            "Learned sigma for the prior [1.0180273056030273]\n",
            "Epoch 58/100\n",
            "5/5 [==============================] - 0s 4ms/step - loss: 1.9052\n",
            "Learned sigma for the prior [1.015979290008545]\n",
            "Epoch 59/100\n",
            "5/5 [==============================] - 0s 5ms/step - loss: 1.8985\n",
            "Learned sigma for the prior [1.0139873027801514]\n",
            "Epoch 60/100\n",
            "5/5 [==============================] - 0s 4ms/step - loss: 1.8391\n",
            "Learned sigma for the prior [1.0120452642440796]\n",
            "Epoch 61/100\n",
            "5/5 [==============================] - 0s 5ms/step - loss: 1.8533\n",
            "Learned sigma for the prior [1.0101830959320068]\n",
            "Epoch 62/100\n",
            "5/5 [==============================] - 0s 4ms/step - loss: 1.7688\n",
            "Learned sigma for the prior [1.008355736732483]\n",
            "Epoch 63/100\n",
            "5/5 [==============================] - 0s 4ms/step - loss: 1.8112\n",
            "Learned sigma for the prior [1.0066242218017578]\n",
            "Epoch 64/100\n",
            "5/5 [==============================] - 0s 6ms/step - loss: 1.7777\n",
            "Learned sigma for the prior [1.0049943923950195]\n",
            "Epoch 65/100\n",
            "5/5 [==============================] - 0s 4ms/step - loss: 1.7937\n",
            "Learned sigma for the prior [1.003381609916687]\n",
            "Epoch 66/100\n",
            "5/5 [==============================] - 0s 4ms/step - loss: 1.7715\n",
            "Learned sigma for the prior [1.0018701553344727]\n",
            "Epoch 67/100\n",
            "5/5 [==============================] - 0s 5ms/step - loss: 1.7419\n",
            "Learned sigma for the prior [1.0003323554992676]\n",
            "Epoch 68/100\n",
            "5/5 [==============================] - 0s 4ms/step - loss: 1.7850\n",
            "Learned sigma for the prior [0.9989008903503418]\n",
            "Epoch 69/100\n",
            "5/5 [==============================] - 0s 5ms/step - loss: 1.7003\n",
            "Learned sigma for the prior [0.997474730014801]\n",
            "Epoch 70/100\n",
            "5/5 [==============================] - 0s 6ms/step - loss: 1.7044\n",
            "Learned sigma for the prior [0.9960694909095764]\n",
            "Epoch 71/100\n",
            "5/5 [==============================] - 0s 5ms/step - loss: 1.8376\n",
            "Learned sigma for the prior [0.9947527050971985]\n",
            "Epoch 72/100\n",
            "5/5 [==============================] - 0s 5ms/step - loss: 1.6873\n",
            "Learned sigma for the prior [0.9934887886047363]\n",
            "Epoch 73/100\n",
            "5/5 [==============================] - 0s 5ms/step - loss: 1.7040\n",
            "Learned sigma for the prior [0.992178738117218]\n",
            "Epoch 74/100\n",
            "5/5 [==============================] - 0s 5ms/step - loss: 1.6788\n",
            "Learned sigma for the prior [0.9909219145774841]\n",
            "Epoch 75/100\n",
            "5/5 [==============================] - 0s 5ms/step - loss: 1.6904\n",
            "Learned sigma for the prior [0.989748477935791]\n",
            "Epoch 76/100\n",
            "5/5 [==============================] - 0s 4ms/step - loss: 1.5983\n",
            "Learned sigma for the prior [0.988620936870575]\n",
            "Epoch 77/100\n",
            "5/5 [==============================] - 0s 5ms/step - loss: 1.7114\n",
            "Learned sigma for the prior [0.9874651432037354]\n",
            "Epoch 78/100\n",
            "5/5 [==============================] - 0s 5ms/step - loss: 1.6600\n",
            "Learned sigma for the prior [0.9863283038139343]\n",
            "Epoch 79/100\n",
            "5/5 [==============================] - 0s 5ms/step - loss: 1.6522\n",
            "Learned sigma for the prior [0.9852637648582458]\n",
            "Epoch 80/100\n",
            "5/5 [==============================] - 0s 5ms/step - loss: 1.5953\n",
            "Learned sigma for the prior [0.9842771291732788]\n",
            "Epoch 81/100\n",
            "5/5 [==============================] - 0s 6ms/step - loss: 1.6812\n",
            "Learned sigma for the prior [0.9833473563194275]\n",
            "Epoch 82/100\n",
            "5/5 [==============================] - 0s 6ms/step - loss: 1.6379\n",
            "Learned sigma for the prior [0.9825072288513184]\n",
            "Epoch 83/100\n",
            "5/5 [==============================] - 0s 5ms/step - loss: 1.7194\n",
            "Learned sigma for the prior [0.9816509485244751]\n",
            "Epoch 84/100\n",
            "5/5 [==============================] - 0s 4ms/step - loss: 1.6440\n",
            "Learned sigma for the prior [0.9808021783828735]\n",
            "Epoch 85/100\n",
            "5/5 [==============================] - 0s 5ms/step - loss: 1.6169\n",
            "Learned sigma for the prior [0.9798550009727478]\n",
            "Epoch 86/100\n",
            "5/5 [==============================] - 0s 5ms/step - loss: 1.6327\n",
            "Learned sigma for the prior [0.9789581894874573]\n",
            "Epoch 87/100\n",
            "5/5 [==============================] - 0s 6ms/step - loss: 1.6389\n",
            "Learned sigma for the prior [0.9780149459838867]\n",
            "Epoch 88/100\n",
            "5/5 [==============================] - 0s 5ms/step - loss: 1.7652\n",
            "Learned sigma for the prior [0.9770492911338806]\n",
            "Epoch 89/100\n",
            "5/5 [==============================] - 0s 5ms/step - loss: 1.6014\n",
            "Learned sigma for the prior [0.9759625196456909]\n",
            "Epoch 90/100\n",
            "5/5 [==============================] - 0s 4ms/step - loss: 1.6105\n",
            "Learned sigma for the prior [0.9747947454452515]\n",
            "Epoch 91/100\n",
            "5/5 [==============================] - 0s 5ms/step - loss: 1.5549\n",
            "Learned sigma for the prior [0.9735842943191528]\n",
            "Epoch 92/100\n",
            "5/5 [==============================] - 0s 4ms/step - loss: 1.5584\n",
            "Learned sigma for the prior [0.9724224209785461]\n",
            "Epoch 93/100\n",
            "5/5 [==============================] - 0s 5ms/step - loss: 1.5456\n",
            "Learned sigma for the prior [0.9713845252990723]\n",
            "Epoch 94/100\n",
            "5/5 [==============================] - 0s 5ms/step - loss: 1.5563\n",
            "Learned sigma for the prior [0.9703962206840515]\n",
            "Epoch 95/100\n",
            "5/5 [==============================] - 0s 6ms/step - loss: 1.5260\n",
            "Learned sigma for the prior [0.9695509076118469]\n",
            "Epoch 96/100\n",
            "5/5 [==============================] - 0s 4ms/step - loss: 1.5179\n",
            "Learned sigma for the prior [0.9688313007354736]\n",
            "Epoch 97/100\n",
            "5/5 [==============================] - 0s 5ms/step - loss: 1.4948\n",
            "Learned sigma for the prior [0.9681788682937622]\n",
            "Epoch 98/100\n",
            "5/5 [==============================] - 0s 5ms/step - loss: 1.5736\n",
            "Learned sigma for the prior [0.9676483273506165]\n",
            "Epoch 99/100\n",
            "5/5 [==============================] - 0s 5ms/step - loss: 1.5866\n",
            "Learned sigma for the prior [0.9672393202781677]\n",
            "Epoch 100/100\n",
            "5/5 [==============================] - 0s 4ms/step - loss: 1.5457\n"
          ]
        },
        {
          "output_type": "execute_result",
          "data": {
            "text/plain": [
              "<keras.callbacks.History at 0x7f395f127fd0>"
            ]
          },
          "metadata": {},
          "execution_count": 241
        }
      ]
    },
    {
      "cell_type": "markdown",
      "source": [
        "## Resources and references\n",
        "[1] https://www.tensorflow.org/probability  \n",
        "[2] https://gowrishankar.info/blog/normalizing-flows-a-practical-guide-using-tensorflow-probability/  \n",
        "[3] Kingma, D. P., & Welling, M. (2013). Auto-encoding variational bayes.  \n",
        "[4] Higgins, I., Matthey, L., Pal, A., Burgess, C., Glorot, X., Botvinick, M., ... & Lerchner, A. (2016). beta-vae: Learning basic visual concepts with a constrained variational framework.  \n",
        "[5] Sullivan, T. J. (2015). Introduction to uncertainty quantification (Vol. 63). Springer.  \n",
        "[6] Rippel, O., & Adams, R. P. (2013). High-dimensional probability estimation with deep density models. arXiv preprint arXiv:1302.5125.\n"
      ],
      "metadata": {
        "id": "g0z1uyvZDG3D"
      }
    }
  ]
}